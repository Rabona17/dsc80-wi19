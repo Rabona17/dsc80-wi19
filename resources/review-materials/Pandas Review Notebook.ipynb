{
 "cells": [
  {
   "cell_type": "code",
   "execution_count": 6,
   "metadata": {},
   "outputs": [],
   "source": [
    "import numpy as np\n",
    "import pandas as pd"
   ]
  },
  {
   "cell_type": "markdown",
   "metadata": {},
   "source": [
    "# Pandas Review\n",
    "\n",
    "This is a midterm review sheet for *Pandas topics only*. This does not touch the other aspects of the course that you are still responsible for knowing!\n",
    "\n",
    "Pandas [has *too many* methods](https://medium.com/dunder-data/minimally-sufficient-pandas-a8e67f2a2428) and many of them are not *core* to using the library (I mostly agree with the content of that medium post; I agree with everything in spirit). In the HW, you had to look up pandas functions from documentation that might *do the trick* for a given problem, which is a valuble skill. In lecture, we restricted ourselves to the core features that are necessary for *working with tables in general*. Each of these is an analogue of a DSC 10 `datascience` table operation (except for the operaters for dealing with null values).\n",
    "\n",
    "Below is a collection of core Pandas operations (taken from lecture) that you should be comfortable with using.\n",
    "\n",
    "## Pandas topics\n",
    "\n",
    "Here are things that you you should have \"down\" and therefore are good midterm material.\n",
    "\n",
    "* Different ways of instantiating Series / DataFrames.\n",
    "* Pandas data-types (floats, object, NaN) and `.dtypes`\n",
    "* Understanding Indexes and how they related to slicing/joining\n",
    "* Reading in data (don't worry about kwargs)\n",
    "* Selecting Rows and columns with `[]`, `loc[]`, `iloc[]`\n",
    "    - Passing lists/slices\n",
    "    - Boolean array selection (and operators)\n",
    "* Adding and modifying rows and columns\n",
    "* Useful methods/functions\n",
    "    - pandas: count, unique, nunique, value_counts, describe, sort_values, drop_duplicates, replace\n",
    "    - numpy: mean, std, min, max, percentile\n",
    "* Null Values:\n",
    "    - dropna and *all kwargs*\n",
    "    - fillna and *all kwargs* used in lecture\n",
    "    - Understand what type `np.NaN` is, and how comparisons work (`pd.isnull`)\n",
    "* `apply` and user-defined functions (applied to series, dataframe)\n",
    "* groupby: apply, (agg, transform, less so -- all can be derived from apply!)\n",
    "* Know `pivot_table` or `pivot`. If you prefer `pivot`, know how to combine it with `groupby` to get `pivot_table` functionality!\n",
    "* `concat` and `merge`.\n",
    "\n",
    "Then there are the additional 'applications' we've learned:\n",
    "* datetime \n",
    "* rolling windows\n"
   ]
  },
  {
   "cell_type": "markdown",
   "metadata": {},
   "source": [
    "# Practice Problems\n",
    "\n",
    "* You should be able to do these problems with confidence. The dataframes given are small (and changeable), so you can easily assess whether your answer is correct. Come to lab hours if your not 100% about your answer.  **There will be no solutions for these problems**.\n",
    "* There are a lot of other practice problems with Pandas available on the internet -- search them out, they are probably relevant."
   ]
  },
  {
   "cell_type": "markdown",
   "metadata": {},
   "source": [
    "###  A note on loops in Pandas:\n",
    "\n",
    "You should avoid writing loops in Pandas if they *could* be looping over a **large** number of observations. In general this means:\n",
    "- looping over columns is ok if necessary, as long as the number of columns are small!\n",
    "- looping over rows is **not** ok, unless you know the number of rows is small (e.g. the dataframe is the result of a groupby with few distinct keys).\n",
    "\n",
    "You should be able to do *everything* below without looping through rows!"
   ]
  },
  {
   "cell_type": "markdown",
   "metadata": {},
   "source": [
    "### Pandas Series and DataFrame basics\n",
    "Instantiate a dataframe from: \n",
    "* a list-of-lists, \n",
    "* a dictionary of column arrays, \n",
    "* reading from file."
   ]
  },
  {
   "cell_type": "code",
   "execution_count": 12,
   "metadata": {},
   "outputs": [
    {
     "data": {
      "text/html": [
       "<div>\n",
       "<style scoped>\n",
       "    .dataframe tbody tr th:only-of-type {\n",
       "        vertical-align: middle;\n",
       "    }\n",
       "\n",
       "    .dataframe tbody tr th {\n",
       "        vertical-align: top;\n",
       "    }\n",
       "\n",
       "    .dataframe thead th {\n",
       "        text-align: right;\n",
       "    }\n",
       "</style>\n",
       "<table border=\"1\" class=\"dataframe\">\n",
       "  <thead>\n",
       "    <tr style=\"text-align: right;\">\n",
       "      <th></th>\n",
       "      <th>a</th>\n",
       "      <th>b</th>\n",
       "      <th>c</th>\n",
       "    </tr>\n",
       "  </thead>\n",
       "  <tbody>\n",
       "    <tr>\n",
       "      <th>m</th>\n",
       "      <td>1</td>\n",
       "      <td>2</td>\n",
       "      <td>4</td>\n",
       "    </tr>\n",
       "    <tr>\n",
       "      <th>n</th>\n",
       "      <td>5</td>\n",
       "      <td>8</td>\n",
       "      <td>7</td>\n",
       "    </tr>\n",
       "  </tbody>\n",
       "</table>\n",
       "</div>"
      ],
      "text/plain": [
       "   a  b  c\n",
       "m  1  2  4\n",
       "n  5  8  7"
      ]
     },
     "execution_count": 12,
     "metadata": {},
     "output_type": "execute_result"
    }
   ],
   "source": [
    "byhand = pd.DataFrame([[1,2,4],[5,8,7]], index=['m', 'n'], columns='a b c'.split())\n",
    "byhand"
   ]
  },
  {
   "cell_type": "code",
   "execution_count": 111,
   "metadata": {},
   "outputs": [
    {
     "data": {
      "text/html": [
       "<div>\n",
       "<style scoped>\n",
       "    .dataframe tbody tr th:only-of-type {\n",
       "        vertical-align: middle;\n",
       "    }\n",
       "\n",
       "    .dataframe tbody tr th {\n",
       "        vertical-align: top;\n",
       "    }\n",
       "\n",
       "    .dataframe thead th {\n",
       "        text-align: right;\n",
       "    }\n",
       "</style>\n",
       "<table border=\"1\" class=\"dataframe\">\n",
       "  <thead>\n",
       "    <tr style=\"text-align: right;\">\n",
       "      <th></th>\n",
       "      <th>c1</th>\n",
       "      <th>c2</th>\n",
       "      <th>c3</th>\n",
       "      <th>c4</th>\n",
       "    </tr>\n",
       "  </thead>\n",
       "  <tbody>\n",
       "    <tr>\n",
       "      <th>3</th>\n",
       "      <td>c</td>\n",
       "      <td>0.497027</td>\n",
       "      <td>8</td>\n",
       "      <td>True</td>\n",
       "    </tr>\n",
       "    <tr>\n",
       "      <th>1</th>\n",
       "      <td>a</td>\n",
       "      <td>0.889928</td>\n",
       "      <td>5</td>\n",
       "      <td>False</td>\n",
       "    </tr>\n",
       "    <tr>\n",
       "      <th>9</th>\n",
       "      <td>b</td>\n",
       "      <td>0.151157</td>\n",
       "      <td>3</td>\n",
       "      <td>False</td>\n",
       "    </tr>\n",
       "    <tr>\n",
       "      <th>1</th>\n",
       "      <td>b</td>\n",
       "      <td>0.890076</td>\n",
       "      <td>5</td>\n",
       "      <td>True</td>\n",
       "    </tr>\n",
       "    <tr>\n",
       "      <th>5</th>\n",
       "      <td>c</td>\n",
       "      <td>0.361680</td>\n",
       "      <td>4</td>\n",
       "      <td>True</td>\n",
       "    </tr>\n",
       "  </tbody>\n",
       "</table>\n",
       "</div>"
      ],
      "text/plain": [
       "  c1        c2  c3     c4\n",
       "3  c  0.497027   8   True\n",
       "1  a  0.889928   5  False\n",
       "9  b  0.151157   3  False\n",
       "1  b  0.890076   5   True\n",
       "5  c  0.361680   4   True"
      ]
     },
     "execution_count": 111,
     "metadata": {},
     "output_type": "execute_result"
    }
   ],
   "source": [
    "num_rows = 11\n",
    "data = pd.DataFrame({\n",
    "    'c1': np.random.choice('a b c'.split(), size=num_rows),\n",
    "    'c2': np.random.uniform(size=num_rows),\n",
    "    'c3': np.random.randint(0,10, size=num_rows),\n",
    "    'c4': np.random.choice([True, False], size=num_rows)\n",
    "}, index=np.random.randint(0, 10, size=num_rows))\n",
    "data.head()"
   ]
  },
  {
   "cell_type": "markdown",
   "metadata": {},
   "source": [
    "### Selecting Rows and columns with `[]`, `loc[]`, `iloc[]`\n",
    "\n",
    "How to select:\n",
    "* The first value of `c3` where index is `3`.\n",
    "* The last row (series) that had index equal to `5`.\n",
    "* The first half of the dataframe\n",
    "* All rows with index either 7 or 3\n",
    "* All rows index by an even number\n",
    "* All rows where either `c1` is equal to `a` or `c4` is `False`, but not both.\n",
    "* All rows where `c3` is above average"
   ]
  },
  {
   "cell_type": "code",
   "execution_count": null,
   "metadata": {},
   "outputs": [],
   "source": []
  },
  {
   "cell_type": "code",
   "execution_count": null,
   "metadata": {},
   "outputs": [],
   "source": []
  },
  {
   "cell_type": "code",
   "execution_count": null,
   "metadata": {},
   "outputs": [],
   "source": []
  },
  {
   "cell_type": "markdown",
   "metadata": {},
   "source": [
    "### Add, modify\n",
    "\n",
    "* return a dataframe like `data` so that `c3` is of float type (it should not change `data`).\n",
    "* add a column `z3` to a (deep) copy of `data` whose values are the values of `c3` in standard units.\n",
    "* add a column `nonsense` to a (deep) copy of `data` that contains the concatenation of `c1` and `c3` (e.g. values like `c4`)\n",
    "* add a row with index `-1` with values equal to the last row of `data`.\n",
    "* add a column that contains the difference between the value of the elements of `c3` and its row number.\n"
   ]
  },
  {
   "cell_type": "code",
   "execution_count": 1,
   "metadata": {},
   "outputs": [],
   "source": [
    "import pandas as pd"
   ]
  },
  {
   "cell_type": "code",
   "execution_count": null,
   "metadata": {},
   "outputs": [],
   "source": []
  },
  {
   "cell_type": "code",
   "execution_count": null,
   "metadata": {},
   "outputs": [],
   "source": []
  },
  {
   "cell_type": "markdown",
   "metadata": {},
   "source": [
    "### Methods and apply (for both series and dataframes)\n",
    "\n",
    "* Filtering: A dataframe with the same columns as `data` and for each value of `c3`, it contains only the row of `data` with the greatest value of `c2`.\n",
    "* Filtering: return all rows where the entry of `c3` appears in the column more than three times.\n",
    "* Return a series that contains the strings\n",
    "    1. `'Truthy'`/`'Falsey'` if `c3` is even and `c4` is `True`/`False`\n",
    "    2. Otherwise, the column should contain the values of `c4`.\n"
   ]
  },
  {
   "cell_type": "code",
   "execution_count": null,
   "metadata": {},
   "outputs": [],
   "source": []
  },
  {
   "cell_type": "code",
   "execution_count": null,
   "metadata": {},
   "outputs": [],
   "source": []
  },
  {
   "cell_type": "markdown",
   "metadata": {},
   "source": [
    "### Null Data\n",
    "\n",
    "* Explain the difference in data types between the oringal `nulldata` and the one with `NaN` values.\n",
    "* What is the proportion of null values for each column? Return this information as as Series indexed by column.\n",
    "* Drop any row/columns for which at least half the values are null (*don't* use dropna)\n",
    "* Fill in the nulls for each column with:\n",
    "    1. the mean of the non-null values if the column is numeric\n",
    "    2. the mode of the non-null values if the column is categorical\n",
    "* Fill in the nulls of `c2,c3,c4` with the maximum value of the three columns. If all are null, drop the row."
   ]
  },
  {
   "cell_type": "code",
   "execution_count": 91,
   "metadata": {},
   "outputs": [
    {
     "data": {
      "text/html": [
       "<div>\n",
       "<style scoped>\n",
       "    .dataframe tbody tr th:only-of-type {\n",
       "        vertical-align: middle;\n",
       "    }\n",
       "\n",
       "    .dataframe tbody tr th {\n",
       "        vertical-align: top;\n",
       "    }\n",
       "\n",
       "    .dataframe thead th {\n",
       "        text-align: right;\n",
       "    }\n",
       "</style>\n",
       "<table border=\"1\" class=\"dataframe\">\n",
       "  <thead>\n",
       "    <tr style=\"text-align: right;\">\n",
       "      <th></th>\n",
       "      <th>c1</th>\n",
       "      <th>c2</th>\n",
       "      <th>c3</th>\n",
       "      <th>c4</th>\n",
       "    </tr>\n",
       "  </thead>\n",
       "  <tbody>\n",
       "    <tr>\n",
       "      <th>0</th>\n",
       "      <td>b</td>\n",
       "      <td>2</td>\n",
       "      <td>1</td>\n",
       "      <td>1</td>\n",
       "    </tr>\n",
       "    <tr>\n",
       "      <th>1</th>\n",
       "      <td>c</td>\n",
       "      <td>8</td>\n",
       "      <td>4</td>\n",
       "      <td>1</td>\n",
       "    </tr>\n",
       "    <tr>\n",
       "      <th>2</th>\n",
       "      <td>c</td>\n",
       "      <td>9</td>\n",
       "      <td>8</td>\n",
       "      <td>0</td>\n",
       "    </tr>\n",
       "    <tr>\n",
       "      <th>3</th>\n",
       "      <td>b</td>\n",
       "      <td>5</td>\n",
       "      <td>1</td>\n",
       "      <td>0</td>\n",
       "    </tr>\n",
       "    <tr>\n",
       "      <th>4</th>\n",
       "      <td>b</td>\n",
       "      <td>1</td>\n",
       "      <td>1</td>\n",
       "      <td>1</td>\n",
       "    </tr>\n",
       "  </tbody>\n",
       "</table>\n",
       "</div>"
      ],
      "text/plain": [
       "  c1  c2  c3  c4\n",
       "0  b   2   1   1\n",
       "1  c   8   4   1\n",
       "2  c   9   8   0\n",
       "3  b   5   1   0\n",
       "4  b   1   1   1"
      ]
     },
     "execution_count": 91,
     "metadata": {},
     "output_type": "execute_result"
    }
   ],
   "source": [
    "# first, create a complete dataset\n",
    "nulldata = pd.DataFrame({\n",
    "    'c1': np.random.choice('a b c'.split(), size=num_rows),\n",
    "    'c2': np.random.randint(0,15, size=num_rows),\n",
    "    'c3': np.random.randint(0,10, size=num_rows),\n",
    "    'c4': np.random.choice([0, 1], size=num_rows)\n",
    "})\n",
    "\n",
    "nulldata.head()"
   ]
  },
  {
   "cell_type": "code",
   "execution_count": 92,
   "metadata": {},
   "outputs": [
    {
     "data": {
      "text/html": [
       "<div>\n",
       "<style scoped>\n",
       "    .dataframe tbody tr th:only-of-type {\n",
       "        vertical-align: middle;\n",
       "    }\n",
       "\n",
       "    .dataframe tbody tr th {\n",
       "        vertical-align: top;\n",
       "    }\n",
       "\n",
       "    .dataframe thead th {\n",
       "        text-align: right;\n",
       "    }\n",
       "</style>\n",
       "<table border=\"1\" class=\"dataframe\">\n",
       "  <thead>\n",
       "    <tr style=\"text-align: right;\">\n",
       "      <th></th>\n",
       "      <th>c1</th>\n",
       "      <th>c2</th>\n",
       "      <th>c3</th>\n",
       "      <th>c4</th>\n",
       "    </tr>\n",
       "  </thead>\n",
       "  <tbody>\n",
       "    <tr>\n",
       "      <th>0</th>\n",
       "      <td>b</td>\n",
       "      <td>NaN</td>\n",
       "      <td>NaN</td>\n",
       "      <td>NaN</td>\n",
       "    </tr>\n",
       "    <tr>\n",
       "      <th>1</th>\n",
       "      <td>c</td>\n",
       "      <td>8.0</td>\n",
       "      <td>NaN</td>\n",
       "      <td>1.0</td>\n",
       "    </tr>\n",
       "    <tr>\n",
       "      <th>2</th>\n",
       "      <td>c</td>\n",
       "      <td>9.0</td>\n",
       "      <td>8.0</td>\n",
       "      <td>NaN</td>\n",
       "    </tr>\n",
       "    <tr>\n",
       "      <th>3</th>\n",
       "      <td>b</td>\n",
       "      <td>5.0</td>\n",
       "      <td>1.0</td>\n",
       "      <td>0.0</td>\n",
       "    </tr>\n",
       "    <tr>\n",
       "      <th>4</th>\n",
       "      <td>NaN</td>\n",
       "      <td>NaN</td>\n",
       "      <td>1.0</td>\n",
       "      <td>1.0</td>\n",
       "    </tr>\n",
       "  </tbody>\n",
       "</table>\n",
       "</div>"
      ],
      "text/plain": [
       "    c1   c2   c3   c4\n",
       "0    b  NaN  NaN  NaN\n",
       "1    c  8.0  NaN  1.0\n",
       "2    c  9.0  8.0  NaN\n",
       "3    b  5.0  1.0  0.0\n",
       "4  NaN  NaN  1.0  1.0"
      ]
     },
     "execution_count": 92,
     "metadata": {},
     "output_type": "execute_result"
    }
   ],
   "source": [
    "# now, null out entries of the complete data\n",
    "\n",
    "for c in nulldata.columns:\n",
    "    idx = np.random.choice(nulldata.index, size=(num_rows//2))\n",
    "    nulldata.loc[idx, c] = np.NaN\n",
    "    \n",
    "nulldata.head()"
   ]
  },
  {
   "cell_type": "markdown",
   "metadata": {},
   "source": [
    "### Groupby: methods and apply\n",
    "* Compute the mean of each column within each group defined by different values of `c1`\n",
    "* keep only the largest and smallest value from each group\n",
    "* The number of unique values of `c3` for each value of `c1`\n",
    "* For each value of `c1`, \n",
    "    1. if the average of `c2` is < 0.5 and the majority of `c4` is True return 'small',\n",
    "    2. if the average of `c2` is < 0.5 and the majority of `c4` is False return 'large',\n",
    "    3. if greater than 0.5 and `c4` the majority of `c4` is True return 'large'\n",
    "    4. if greater than 0.5 and `c4` the majority of `c4` is False return 'small'\n",
    "* Suppose for each row, column `c1` represent types of fruit and `c3` represents the number of pieces of fruits observed. \n",
    "    - What are the total number of fruits found in the table? \n",
    "    - How many different types are there? \n",
    "    - What is the empirical disrtribution of fruit types found in the table as a whole?"
   ]
  },
  {
   "cell_type": "code",
   "execution_count": null,
   "metadata": {},
   "outputs": [],
   "source": []
  },
  {
   "cell_type": "code",
   "execution_count": null,
   "metadata": {},
   "outputs": [],
   "source": []
  },
  {
   "cell_type": "markdown",
   "metadata": {},
   "source": [
    "Consider the table of `logins` below where the column `user` specifies the user logging into a server, and `time` is the date and time of that log-in event.\n",
    "\n",
    "* How many log ins did each user have? Return a series indexed by user.\n",
    "* What's the maximum, minimum, average between log-ins (time since the last log-in) for each user. Return a dataframe keyed by user.\n",
    "* Convert the dataframe `logins` so that instead of a `time` column, you have a column `time_diff_z` that contains the time since the last log-in for that user, converted to standard units (where standard units are for that user only).\n",
    "* Plot the distributions of these time_diff_z per user. (Not for the exam, but for a 40B connection: given these logins are chosen uniformly, why do these plots have this shape?)"
   ]
  },
  {
   "cell_type": "code",
   "execution_count": 36,
   "metadata": {},
   "outputs": [
    {
     "data": {
      "text/html": [
       "<div>\n",
       "<style scoped>\n",
       "    .dataframe tbody tr th:only-of-type {\n",
       "        vertical-align: middle;\n",
       "    }\n",
       "\n",
       "    .dataframe tbody tr th {\n",
       "        vertical-align: top;\n",
       "    }\n",
       "\n",
       "    .dataframe thead th {\n",
       "        text-align: right;\n",
       "    }\n",
       "</style>\n",
       "<table border=\"1\" class=\"dataframe\">\n",
       "  <thead>\n",
       "    <tr style=\"text-align: right;\">\n",
       "      <th></th>\n",
       "      <th>user</th>\n",
       "      <th>time</th>\n",
       "    </tr>\n",
       "  </thead>\n",
       "  <tbody>\n",
       "    <tr>\n",
       "      <th>335</th>\n",
       "      <td>a</td>\n",
       "      <td>2017-01-01 03:19:28</td>\n",
       "    </tr>\n",
       "    <tr>\n",
       "      <th>370</th>\n",
       "      <td>c</td>\n",
       "      <td>2017-01-03 12:18:38</td>\n",
       "    </tr>\n",
       "    <tr>\n",
       "      <th>142</th>\n",
       "      <td>c</td>\n",
       "      <td>2017-01-03 21:35:55</td>\n",
       "    </tr>\n",
       "    <tr>\n",
       "      <th>945</th>\n",
       "      <td>e</td>\n",
       "      <td>2017-01-04 18:45:26</td>\n",
       "    </tr>\n",
       "    <tr>\n",
       "      <th>98</th>\n",
       "      <td>a</td>\n",
       "      <td>2017-01-05 05:23:04</td>\n",
       "    </tr>\n",
       "  </tbody>\n",
       "</table>\n",
       "</div>"
      ],
      "text/plain": [
       "    user                time\n",
       "335    a 2017-01-01 03:19:28\n",
       "370    c 2017-01-03 12:18:38\n",
       "142    c 2017-01-03 21:35:55\n",
       "945    e 2017-01-04 18:45:26\n",
       "98     a 2017-01-05 05:23:04"
      ]
     },
     "execution_count": 36,
     "metadata": {},
     "output_type": "execute_result"
    }
   ],
   "source": [
    "# create logins using a uniform distribution\n",
    "n_users = 1000\n",
    "login = pd.DataFrame({\n",
    "    'user': np.random.choice('a b c d e'.split(), size=n_users),\n",
    "    'time': pd.to_datetime(np.random.randint(1483228800, 1514764800, size=n_users), unit='s'),\n",
    "}).sort_values(by='time')\n",
    "\n",
    "login.head()"
   ]
  },
  {
   "cell_type": "code",
   "execution_count": null,
   "metadata": {},
   "outputs": [],
   "source": []
  },
  {
   "cell_type": "code",
   "execution_count": null,
   "metadata": {},
   "outputs": [],
   "source": []
  },
  {
   "cell_type": "code",
   "execution_count": null,
   "metadata": {},
   "outputs": [],
   "source": []
  },
  {
   "cell_type": "markdown",
   "metadata": {},
   "source": [
    "### Pivot Tables\n",
    "\n",
    "* Be able to verify simpson's paradox from an example! Be able to create the empirical conditional distributions for the verfication (e.g. the southwest vs jetblue HW).\n",
    "* For each pair of values in `c1` and `c4` in `data`, what is the average value of `c2`? Return this in a dataframe with index given by values of `c1` and column given by values of `c4`. \n",
    "* In `data`, compute the empirical distribution of `c3` conditional on `c1`. That is, each row is an empirical distribution of `c3` indexed by the value of `c1`."
   ]
  },
  {
   "cell_type": "code",
   "execution_count": null,
   "metadata": {},
   "outputs": [],
   "source": []
  },
  {
   "cell_type": "code",
   "execution_count": null,
   "metadata": {},
   "outputs": [],
   "source": []
  },
  {
   "cell_type": "code",
   "execution_count": null,
   "metadata": {},
   "outputs": [],
   "source": []
  },
  {
   "cell_type": "markdown",
   "metadata": {},
   "source": [
    "### Concat and Merge\n",
    "\n",
    "* For `concat`: Understand the function and the examples in lecture. Understand the axis argument, how it's joining behavior for both `axis=0,1`. Understanding the other keyword arguments aren't necessary for the exam.\n",
    "* For `merge`: Understand the function and the examples in lecture. The important keyword arguments to know are `how` and `on` (and the related `left_on`, `right_on`, `left_index`, `right_index`).\n",
    "* For each of these, know \n",
    "    - what the number of rows and columns of the output will be\n",
    "    - understand how null values affect your joins"
   ]
  },
  {
   "cell_type": "code",
   "execution_count": 49,
   "metadata": {},
   "outputs": [],
   "source": [
    "num_rows = 11\n",
    "data1 = pd.DataFrame({\n",
    "    'c1': np.random.choice('a b c'.split(), size=num_rows),\n",
    "    'c2': np.random.uniform(size=num_rows),\n",
    "    'c3': np.random.randint(0,10, size=num_rows),\n",
    "    'c4': np.random.choice([True, False], size=num_rows)\n",
    "})\n",
    "\n",
    "data2 = pd.DataFrame({\n",
    "    'c1': np.random.choice('a b c'.split(), size=num_rows),\n",
    "    'c2': np.random.uniform(size=num_rows),\n",
    "    'c3': np.random.randint(0,10, size=num_rows),\n",
    "    'c4': np.random.choice([True, False], size=num_rows)\n",
    "})\n",
    "\n",
    "data3 = pd.DataFrame({\n",
    "    'd1': 'a b d'.split(),\n",
    "    'd2': 'apple bananna dragonfruit'.split()\n",
    "})"
   ]
  },
  {
   "cell_type": "code",
   "execution_count": null,
   "metadata": {},
   "outputs": [],
   "source": [
    "# How many rows? columns? null values in each row and column?\n",
    "# data1.merge(data3, left_on=..., right_on=..., how=...)\n",
    "# data2.merge(data3, left_on=..., right_on=..., how=...)\n",
    "\n",
    "# data1.merge(data2)\n",
    "# data1.merge(data2, on='c3', how=...)"
   ]
  },
  {
   "cell_type": "code",
   "execution_count": null,
   "metadata": {},
   "outputs": [],
   "source": []
  },
  {
   "cell_type": "code",
   "execution_count": null,
   "metadata": {},
   "outputs": [],
   "source": []
  },
  {
   "cell_type": "code",
   "execution_count": null,
   "metadata": {},
   "outputs": [],
   "source": []
  },
  {
   "cell_type": "markdown",
   "metadata": {},
   "source": [
    "The dataframes below represent the number of items sold from the specified store on (perhaps multiple) days, as well as a spreadsheet of the prices of each item at each store.\n",
    "\n",
    "* add the price per unit to the inventory dataframe.\n",
    "* add the price per unit to the inventory dataframe only using `price_per_unit` and without using the function `unstack` (which you don't have to know; it is roughly the 'un-pivot' function). Hint: `price_per_unit` will always be small; use a broadcast join.\n",
    "* Find the revenue earned for each store in the table.\n",
    "* Add the item descriptions to each of these tables!"
   ]
  },
  {
   "cell_type": "code",
   "execution_count": 95,
   "metadata": {},
   "outputs": [
    {
     "data": {
      "text/html": [
       "<div>\n",
       "<style scoped>\n",
       "    .dataframe tbody tr th:only-of-type {\n",
       "        vertical-align: middle;\n",
       "    }\n",
       "\n",
       "    .dataframe tbody tr th {\n",
       "        vertical-align: top;\n",
       "    }\n",
       "\n",
       "    .dataframe thead th {\n",
       "        text-align: right;\n",
       "    }\n",
       "</style>\n",
       "<table border=\"1\" class=\"dataframe\">\n",
       "  <thead>\n",
       "    <tr style=\"text-align: right;\">\n",
       "      <th></th>\n",
       "      <th>store</th>\n",
       "      <th>item</th>\n",
       "      <th>number sold</th>\n",
       "      <th>number left</th>\n",
       "    </tr>\n",
       "  </thead>\n",
       "  <tbody>\n",
       "    <tr>\n",
       "      <th>0</th>\n",
       "      <td>store 3</td>\n",
       "      <td>c</td>\n",
       "      <td>55</td>\n",
       "      <td>65</td>\n",
       "    </tr>\n",
       "    <tr>\n",
       "      <th>1</th>\n",
       "      <td>store 3</td>\n",
       "      <td>d</td>\n",
       "      <td>3</td>\n",
       "      <td>48</td>\n",
       "    </tr>\n",
       "    <tr>\n",
       "      <th>2</th>\n",
       "      <td>store 4</td>\n",
       "      <td>c</td>\n",
       "      <td>6</td>\n",
       "      <td>7</td>\n",
       "    </tr>\n",
       "    <tr>\n",
       "      <th>3</th>\n",
       "      <td>store 3</td>\n",
       "      <td>c</td>\n",
       "      <td>90</td>\n",
       "      <td>64</td>\n",
       "    </tr>\n",
       "    <tr>\n",
       "      <th>4</th>\n",
       "      <td>store 0</td>\n",
       "      <td>b</td>\n",
       "      <td>47</td>\n",
       "      <td>10</td>\n",
       "    </tr>\n",
       "    <tr>\n",
       "      <th>5</th>\n",
       "      <td>store 4</td>\n",
       "      <td>b</td>\n",
       "      <td>62</td>\n",
       "      <td>96</td>\n",
       "    </tr>\n",
       "    <tr>\n",
       "      <th>6</th>\n",
       "      <td>store 2</td>\n",
       "      <td>d</td>\n",
       "      <td>43</td>\n",
       "      <td>20</td>\n",
       "    </tr>\n",
       "    <tr>\n",
       "      <th>7</th>\n",
       "      <td>store 1</td>\n",
       "      <td>b</td>\n",
       "      <td>45</td>\n",
       "      <td>97</td>\n",
       "    </tr>\n",
       "    <tr>\n",
       "      <th>8</th>\n",
       "      <td>store 4</td>\n",
       "      <td>b</td>\n",
       "      <td>14</td>\n",
       "      <td>84</td>\n",
       "    </tr>\n",
       "    <tr>\n",
       "      <th>9</th>\n",
       "      <td>store 2</td>\n",
       "      <td>d</td>\n",
       "      <td>32</td>\n",
       "      <td>83</td>\n",
       "    </tr>\n",
       "    <tr>\n",
       "      <th>10</th>\n",
       "      <td>store 3</td>\n",
       "      <td>d</td>\n",
       "      <td>35</td>\n",
       "      <td>80</td>\n",
       "    </tr>\n",
       "  </tbody>\n",
       "</table>\n",
       "</div>"
      ],
      "text/plain": [
       "      store item  number sold  number left\n",
       "0   store 3    c           55           65\n",
       "1   store 3    d            3           48\n",
       "2   store 4    c            6            7\n",
       "3   store 3    c           90           64\n",
       "4   store 0    b           47           10\n",
       "5   store 4    b           62           96\n",
       "6   store 2    d           43           20\n",
       "7   store 1    b           45           97\n",
       "8   store 4    b           14           84\n",
       "9   store 2    d           32           83\n",
       "10  store 3    d           35           80"
      ]
     },
     "execution_count": 95,
     "metadata": {},
     "output_type": "execute_result"
    }
   ],
   "source": [
    "num_rows = 11\n",
    "inventory = pd.DataFrame({\n",
    "    'store': np.random.choice(['store %d' %d for d in range(5)], size=num_rows),\n",
    "    'item': np.random.choice('a b c d'.split(), size=num_rows),\n",
    "    'number sold': np.random.randint(0, 100, size=num_rows),\n",
    "    'number left': np.random.randint(0, 100, size=num_rows)\n",
    "})\n",
    "\n",
    "inventory"
   ]
  },
  {
   "cell_type": "code",
   "execution_count": 96,
   "metadata": {},
   "outputs": [],
   "source": [
    "price_per_unit = pd.DataFrame(\n",
    "    np.random.uniform(size=(5,5)),\n",
    "    index=pd.Series('a b c d e'.split(), name='item'),\n",
    "    columns=pd.Series(['store %d' %d for d in range(5)], name='store'),\n",
    ")\n",
    "\n",
    "price_per_unit_unstacked = price_per_unit.unstack().rename('price').reset_index()\n"
   ]
  },
  {
   "cell_type": "code",
   "execution_count": 103,
   "metadata": {},
   "outputs": [],
   "source": [
    "item_description = pd.DataFrame({\n",
    "    'item': 'a b c d e'.split(),\n",
    "    'description': 'apple bananna cherry dragonfruit elderberry'.split()\n",
    "})"
   ]
  },
  {
   "cell_type": "code",
   "execution_count": null,
   "metadata": {},
   "outputs": [],
   "source": []
  },
  {
   "cell_type": "code",
   "execution_count": null,
   "metadata": {},
   "outputs": [],
   "source": []
  },
  {
   "cell_type": "code",
   "execution_count": null,
   "metadata": {},
   "outputs": [],
   "source": []
  },
  {
   "cell_type": "code",
   "execution_count": null,
   "metadata": {},
   "outputs": [],
   "source": []
  },
  {
   "cell_type": "code",
   "execution_count": null,
   "metadata": {},
   "outputs": [],
   "source": []
  },
  {
   "cell_type": "code",
   "execution_count": null,
   "metadata": {},
   "outputs": [],
   "source": []
  },
  {
   "cell_type": "code",
   "execution_count": 34,
   "metadata": {},
   "outputs": [],
   "source": []
  },
  {
   "cell_type": "code",
   "execution_count": null,
   "metadata": {},
   "outputs": [],
   "source": []
  },
  {
   "cell_type": "code",
   "execution_count": 54,
   "metadata": {},
   "outputs": [
    {
     "data": {
      "text/html": [
       "<div>\n",
       "<style scoped>\n",
       "    .dataframe tbody tr th:only-of-type {\n",
       "        vertical-align: middle;\n",
       "    }\n",
       "\n",
       "    .dataframe tbody tr th {\n",
       "        vertical-align: top;\n",
       "    }\n",
       "\n",
       "    .dataframe thead th {\n",
       "        text-align: right;\n",
       "    }\n",
       "</style>\n",
       "<table border=\"1\" class=\"dataframe\">\n",
       "  <thead>\n",
       "    <tr style=\"text-align: right;\">\n",
       "      <th></th>\n",
       "      <th>c1</th>\n",
       "      <th>c2</th>\n",
       "      <th>c3</th>\n",
       "      <th>c4</th>\n",
       "    </tr>\n",
       "  </thead>\n",
       "  <tbody>\n",
       "    <tr>\n",
       "      <th>0</th>\n",
       "      <td>a</td>\n",
       "      <td>0.606245</td>\n",
       "      <td>1</td>\n",
       "      <td>False</td>\n",
       "    </tr>\n",
       "    <tr>\n",
       "      <th>1</th>\n",
       "      <td>b</td>\n",
       "      <td>0.065381</td>\n",
       "      <td>1</td>\n",
       "      <td>True</td>\n",
       "    </tr>\n",
       "    <tr>\n",
       "      <th>2</th>\n",
       "      <td>b</td>\n",
       "      <td>0.084807</td>\n",
       "      <td>8</td>\n",
       "      <td>True</td>\n",
       "    </tr>\n",
       "    <tr>\n",
       "      <th>3</th>\n",
       "      <td>b</td>\n",
       "      <td>0.543094</td>\n",
       "      <td>1</td>\n",
       "      <td>False</td>\n",
       "    </tr>\n",
       "    <tr>\n",
       "      <th>4</th>\n",
       "      <td>c</td>\n",
       "      <td>0.553677</td>\n",
       "      <td>6</td>\n",
       "      <td>False</td>\n",
       "    </tr>\n",
       "  </tbody>\n",
       "</table>\n",
       "</div>"
      ],
      "text/plain": [
       "  c1        c2  c3     c4\n",
       "0  a  0.606245   1  False\n",
       "1  b  0.065381   1   True\n",
       "2  b  0.084807   8   True\n",
       "3  b  0.543094   1  False\n",
       "4  c  0.553677   6  False"
      ]
     },
     "execution_count": 54,
     "metadata": {},
     "output_type": "execute_result"
    }
   ],
   "source": []
  },
  {
   "cell_type": "code",
   "execution_count": null,
   "metadata": {},
   "outputs": [],
   "source": []
  },
  {
   "cell_type": "code",
   "execution_count": null,
   "metadata": {},
   "outputs": [],
   "source": []
  }
 ],
 "metadata": {
  "kernelspec": {
   "display_name": "Python 3",
   "language": "python",
   "name": "python3"
  },
  "language_info": {
   "codemirror_mode": {
    "name": "ipython",
    "version": 3
   },
   "file_extension": ".py",
   "mimetype": "text/x-python",
   "name": "python",
   "nbconvert_exporter": "python",
   "pygments_lexer": "ipython3",
   "version": "3.7.1"
  }
 },
 "nbformat": 4,
 "nbformat_minor": 2
}
