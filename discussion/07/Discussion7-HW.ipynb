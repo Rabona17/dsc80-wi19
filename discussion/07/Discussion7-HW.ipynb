{
 "cells": [
  {
   "cell_type": "markdown",
   "metadata": {},
   "source": [
    "### NLTK"
   ]
  },
  {
   "cell_type": "markdown",
   "metadata": {},
   "source": [
    "In the discussion, we talked about tokenization, which essentially is the process of converting a string(sentence) to a list of  substring(words). It is a useful tool in several text analyses. Infact, rarely do we analyze textual data with tokenizing appropriately.\n",
    "\n",
    "Another such tool is stemming. "
   ]
  },
  {
   "cell_type": "markdown",
   "metadata": {},
   "source": [
    "#### Question 1"
   ]
  },
  {
   "cell_type": "markdown",
   "metadata": {},
   "source": [
    "- Import the all words belonging to category \"trade\" from the reuters corpus. \n",
    "- Convert the first 100 words from the above to their stemmed forms using any NLTK stemmer. Print the stemmed words.\n",
    "- You may use functions or may not."
   ]
  },
  {
   "cell_type": "markdown",
   "metadata": {},
   "source": [
    "Hint:\n",
    "- If you havent already, you will have to download NLTK corpus using `nltk.download()`. \n",
    "- For how to stem, please refer - https://pythonspot.com/nltk-stemming/\n",
    "- To get trade words from reuters corpus, you could simply use: `trade_words = reuters.words(categories='trade')`, where `reuters` is a member corpus of nltk.corpus."
   ]
  },
  {
   "cell_type": "markdown",
   "metadata": {},
   "source": [
    "#### Question 2"
   ]
  },
  {
   "cell_type": "markdown",
   "metadata": {},
   "source": [
    "What is the difference between STEMMING and LEMMATIZATION?"
   ]
  },
  {
   "cell_type": "code",
   "execution_count": null,
   "metadata": {},
   "outputs": [],
   "source": [
    "# Enter your answer here. "
   ]
  },
  {
   "cell_type": "code",
   "execution_count": null,
   "metadata": {},
   "outputs": [],
   "source": []
  },
  {
   "cell_type": "markdown",
   "metadata": {},
   "source": [
    "#### Question 3"
   ]
  },
  {
   "cell_type": "markdown",
   "metadata": {},
   "source": [
    "- Convert the \"label\" column in the below df to one hot encoding. \n",
    "- Drop the label column and name the encoded columns appropriately"
   ]
  },
  {
   "cell_type": "code",
   "execution_count": null,
   "metadata": {},
   "outputs": [],
   "source": [
    "import pandas as pd"
   ]
  },
  {
   "cell_type": "code",
   "execution_count": null,
   "metadata": {},
   "outputs": [],
   "source": [
    "letter=[chr(i) for i in range(97,97+26)]\n",
    "label=[i%9 for i in range(len(letter))]\n",
    "df=pd.DataFrame({\"letter\":letter,\"label\":label})\n",
    "df"
   ]
  },
  {
   "cell_type": "markdown",
   "metadata": {},
   "source": [
    "#### Question 4"
   ]
  },
  {
   "cell_type": "code",
   "execution_count": null,
   "metadata": {},
   "outputs": [],
   "source": [
    "from bs4 import BeautifulSoup\n",
    "import requests\n",
    "url = \"https://www.tripadvisor.com/g32578-d877873.html\"\n",
    "\n",
    "res = requests.get(url)\n",
    "page = BeautifulSoup(res.text, 'html.parser')"
   ]
  },
  {
   "cell_type": "code",
   "execution_count": null,
   "metadata": {},
   "outputs": [],
   "source": [
    "reviews = page.find_all('div', class_='review-container')\n",
    "review_text = []\n",
    "review_header = []\n",
    "for i in range(len(reviews)):\n",
    "    review_header.append(reviews[i].find('span', class_='noQuotes').text)\n",
    "    review_text.append(reviews[i].find('p', class_='partial_entry').text)"
   ]
  },
  {
   "cell_type": "markdown",
   "metadata": {},
   "source": [
    "Find TF-IDF of the following words"
   ]
  },
  {
   "cell_type": "code",
   "execution_count": null,
   "metadata": {},
   "outputs": [],
   "source": [
    "words = ['amazing', 'beautiful', 'area', 'to', 'visit'] "
   ]
  }
 ],
 "metadata": {
  "kernelspec": {
   "display_name": "Python 3",
   "language": "python",
   "name": "python3"
  },
  "language_info": {
   "codemirror_mode": {
    "name": "ipython",
    "version": 3
   },
   "file_extension": ".py",
   "mimetype": "text/x-python",
   "name": "python",
   "nbconvert_exporter": "python",
   "pygments_lexer": "ipython3",
   "version": "3.7.1"
  }
 },
 "nbformat": 4,
 "nbformat_minor": 2
}
