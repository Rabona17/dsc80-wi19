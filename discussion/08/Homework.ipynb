{
 "cells": [
  {
   "cell_type": "markdown",
   "metadata": {},
   "source": [
    "## HOMEWORK"
   ]
  },
  {
   "cell_type": "code",
   "execution_count": 39,
   "metadata": {
    "collapsed": true
   },
   "outputs": [],
   "source": [
    "import matplotlib.pyplot as plt\n",
    "import numpy as np\n",
    "from sklearn import datasets, linear_model\n",
    "from sklearn.metrics import mean_squared_error\n",
    "from sklearn.model_selection import train_test_split\n",
    "\n",
    "# Load the diabetes dataset\n",
    "diabetes = datasets.load_diabetes()\n",
    "\n",
    "# Use only one feature\n",
    "diabetes_X = diabetes.data[:, np.newaxis, 2]\n",
    "\n",
    "# Split the data train-test (80-20) into training/testing sets\n",
    "# train_test_split(diabetes_X, diabetes.target, test_size= 0.2,random_state=42 )\n",
    "\n",
    "# Create linear regression object using\n",
    "# model = linear_model.LinearRegression()\n",
    "\n",
    "# Train the model using the training sets\n",
    "# model.fit()\n",
    "\n",
    "# Make predictions using the testing set\n",
    "# y_pred = model.predict()\n",
    "\n",
    "# Calculate The mean squared error - around 4000\n",
    "# mean_squared_error(y_test,y_pred)\n",
    "\n",
    "# Calculate accouracy - around 20% accuracy\n",
    "# model.score()"
   ]
  }
 ],
 "metadata": {
  "kernelspec": {
   "display_name": "Python 3",
   "language": "python",
   "name": "python3"
  },
  "language_info": {
   "codemirror_mode": {
    "name": "ipython",
    "version": 3
   },
   "file_extension": ".py",
   "mimetype": "text/x-python",
   "name": "python",
   "nbconvert_exporter": "python",
   "pygments_lexer": "ipython3",
   "version": "3.6.2"
  }
 },
 "nbformat": 4,
 "nbformat_minor": 2
}
