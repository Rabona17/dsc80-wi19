{
 "cells": [
  {
   "cell_type": "markdown",
   "metadata": {
    "slideshow": {
     "slide_type": "slide"
    }
   },
   "source": [
    "# Intro to Scikit Learn"
   ]
  },
  {
   "cell_type": "markdown",
   "metadata": {
    "slideshow": {
     "slide_type": "slide"
    }
   },
   "source": [
    "## 1. What is Scikit Learn\n",
    "- It is a free software machine learning library for the Python programming language.\n",
    "- Scikit-learn provides a range of supervised and unsupervised learning algorithms via a consistent interface in Python."
   ]
  },
  {
   "cell_type": "markdown",
   "metadata": {
    "slideshow": {
     "slide_type": "slide"
    }
   },
   "source": [
    "## 2. Installation\n",
    "- The library is built upon the SciPy (Scientific Python) that must be installed before you can use scikit-learn.\n",
    "- This stack that includes:\n",
    ">- NumPy\n",
    ">- SciPy\n",
    ">- Matplotlib\n",
    ">- IPython\n",
    ">- Sympy\n",
    ">- Pandas\n",
    "\n",
    "- `pip install scikit-learn`"
   ]
  },
  {
   "cell_type": "markdown",
   "metadata": {
    "slideshow": {
     "slide_type": "slide"
    }
   },
   "source": [
    "## 3. Important Concepts/Functions\n",
    "\n",
    "* A. Train Test Split\n",
    "* B. Pipleling\n",
    "* C. Function Transformer\n",
    "* D. Column Transform"
   ]
  },
  {
   "cell_type": "markdown",
   "metadata": {
    "slideshow": {
     "slide_type": "slide"
    }
   },
   "source": [
    "### A. Train Test Split\n",
    "- Split arrays or matrices into random train and test subsets\n",
    "- **test_size** : float, int or None, optional (default=0.25). If float, should be between 0.0 and 1.0 and represent the proportion of the dataset to include in the test split.\n",
    "- **random_state** - https://stackoverflow.com/questions/28064634/random-state-pseudo-random-number-in-scikit-learn"
   ]
  },
  {
   "cell_type": "code",
   "execution_count": 59,
   "metadata": {},
   "outputs": [
    {
     "data": {
      "text/html": [
       "<div>\n",
       "<style scoped>\n",
       "    .dataframe tbody tr th:only-of-type {\n",
       "        vertical-align: middle;\n",
       "    }\n",
       "\n",
       "    .dataframe tbody tr th {\n",
       "        vertical-align: top;\n",
       "    }\n",
       "\n",
       "    .dataframe thead th {\n",
       "        text-align: right;\n",
       "    }\n",
       "</style>\n",
       "<table border=\"1\" class=\"dataframe\">\n",
       "  <thead>\n",
       "    <tr style=\"text-align: right;\">\n",
       "      <th></th>\n",
       "      <th>age</th>\n",
       "      <th>workclass</th>\n",
       "      <th>fnlwgt</th>\n",
       "      <th>education</th>\n",
       "      <th>education_num</th>\n",
       "      <th>marital</th>\n",
       "      <th>occupation</th>\n",
       "      <th>relationship</th>\n",
       "      <th>race</th>\n",
       "      <th>sex</th>\n",
       "      <th>capital_gain</th>\n",
       "      <th>capital_loss</th>\n",
       "      <th>hours_week</th>\n",
       "      <th>native_country</th>\n",
       "      <th>label</th>\n",
       "    </tr>\n",
       "  </thead>\n",
       "  <tbody>\n",
       "    <tr>\n",
       "      <th>0</th>\n",
       "      <td>39</td>\n",
       "      <td>State-gov</td>\n",
       "      <td>77516</td>\n",
       "      <td>Bachelors</td>\n",
       "      <td>13</td>\n",
       "      <td>Never-married</td>\n",
       "      <td>Adm-clerical</td>\n",
       "      <td>Not-in-family</td>\n",
       "      <td>White</td>\n",
       "      <td>Male</td>\n",
       "      <td>2174</td>\n",
       "      <td>0</td>\n",
       "      <td>40</td>\n",
       "      <td>United-States</td>\n",
       "      <td>&lt;=50K</td>\n",
       "    </tr>\n",
       "    <tr>\n",
       "      <th>1</th>\n",
       "      <td>50</td>\n",
       "      <td>Self-emp-not-inc</td>\n",
       "      <td>83311</td>\n",
       "      <td>Bachelors</td>\n",
       "      <td>13</td>\n",
       "      <td>Married-civ-spouse</td>\n",
       "      <td>Exec-managerial</td>\n",
       "      <td>Husband</td>\n",
       "      <td>White</td>\n",
       "      <td>Male</td>\n",
       "      <td>0</td>\n",
       "      <td>0</td>\n",
       "      <td>13</td>\n",
       "      <td>United-States</td>\n",
       "      <td>&lt;=50K</td>\n",
       "    </tr>\n",
       "    <tr>\n",
       "      <th>2</th>\n",
       "      <td>38</td>\n",
       "      <td>Private</td>\n",
       "      <td>215646</td>\n",
       "      <td>HS-grad</td>\n",
       "      <td>9</td>\n",
       "      <td>Divorced</td>\n",
       "      <td>Handlers-cleaners</td>\n",
       "      <td>Not-in-family</td>\n",
       "      <td>White</td>\n",
       "      <td>Male</td>\n",
       "      <td>0</td>\n",
       "      <td>0</td>\n",
       "      <td>40</td>\n",
       "      <td>United-States</td>\n",
       "      <td>&lt;=50K</td>\n",
       "    </tr>\n",
       "    <tr>\n",
       "      <th>3</th>\n",
       "      <td>53</td>\n",
       "      <td>Private</td>\n",
       "      <td>234721</td>\n",
       "      <td>11th</td>\n",
       "      <td>7</td>\n",
       "      <td>Married-civ-spouse</td>\n",
       "      <td>Handlers-cleaners</td>\n",
       "      <td>Husband</td>\n",
       "      <td>Black</td>\n",
       "      <td>Male</td>\n",
       "      <td>0</td>\n",
       "      <td>0</td>\n",
       "      <td>40</td>\n",
       "      <td>United-States</td>\n",
       "      <td>&lt;=50K</td>\n",
       "    </tr>\n",
       "    <tr>\n",
       "      <th>4</th>\n",
       "      <td>28</td>\n",
       "      <td>Private</td>\n",
       "      <td>338409</td>\n",
       "      <td>Bachelors</td>\n",
       "      <td>13</td>\n",
       "      <td>Married-civ-spouse</td>\n",
       "      <td>Prof-specialty</td>\n",
       "      <td>Wife</td>\n",
       "      <td>Black</td>\n",
       "      <td>Female</td>\n",
       "      <td>0</td>\n",
       "      <td>0</td>\n",
       "      <td>40</td>\n",
       "      <td>Cuba</td>\n",
       "      <td>&lt;=50K</td>\n",
       "    </tr>\n",
       "  </tbody>\n",
       "</table>\n",
       "</div>"
      ],
      "text/plain": [
       "   age         workclass  fnlwgt  education  education_num  \\\n",
       "0   39         State-gov   77516  Bachelors             13   \n",
       "1   50  Self-emp-not-inc   83311  Bachelors             13   \n",
       "2   38           Private  215646    HS-grad              9   \n",
       "3   53           Private  234721       11th              7   \n",
       "4   28           Private  338409  Bachelors             13   \n",
       "\n",
       "              marital         occupation   relationship   race     sex  \\\n",
       "0       Never-married       Adm-clerical  Not-in-family  White    Male   \n",
       "1  Married-civ-spouse    Exec-managerial        Husband  White    Male   \n",
       "2            Divorced  Handlers-cleaners  Not-in-family  White    Male   \n",
       "3  Married-civ-spouse  Handlers-cleaners        Husband  Black    Male   \n",
       "4  Married-civ-spouse     Prof-specialty           Wife  Black  Female   \n",
       "\n",
       "   capital_gain  capital_loss  hours_week native_country  label  \n",
       "0          2174             0          40  United-States  <=50K  \n",
       "1             0             0          13  United-States  <=50K  \n",
       "2             0             0          40  United-States  <=50K  \n",
       "3             0             0          40  United-States  <=50K  \n",
       "4             0             0          40           Cuba  <=50K  "
      ]
     },
     "execution_count": 59,
     "metadata": {},
     "output_type": "execute_result"
    }
   ],
   "source": [
    "## Define path data\n",
    "PATH = \"https://archive.ics.uci.edu/ml/machine-learning-databases/adult/adult.data\"\n",
    "COLUMNS = ['age','workclass', 'fnlwgt', 'education', 'education_num', 'marital',\n",
    "           'occupation', 'relationship', 'race', 'sex', 'capital_gain', 'capital_loss',\n",
    "           'hours_week', 'native_country', 'label']\n",
    "\n",
    "df_train = pd.read_csv(PATH, skipinitialspace=True, names = COLUMNS, index_col=False)\n",
    "df_train.head()"
   ]
  },
  {
   "cell_type": "code",
   "execution_count": 61,
   "metadata": {},
   "outputs": [
    {
     "name": "stdout",
     "output_type": "stream",
     "text": [
      "(26048, 14) (6513, 14)\n"
     ]
    }
   ],
   "source": [
    "from sklearn.model_selection import train_test_split\n",
    "\n",
    "# Now that the dataset is ready, we can split it 80/20. \n",
    "# 80 percent for the training set and 20 percent for the test set.\n",
    "X_train, X_test, y_train, y_test = train_test_split(df_train[features],\n",
    "                                                    df_train.label,\n",
    "                                                    test_size = 0.2,\n",
    "                                                    random_state=0)\n",
    "X_train.head(5)\n",
    "print(X_train.shape, X_test.shape)"
   ]
  },
  {
   "cell_type": "markdown",
   "metadata": {
    "slideshow": {
     "slide_type": "slide"
    }
   },
   "source": [
    "### B. Pipelining\n",
    "- Python scikit-learn provides a Pipeline utility to help automate machine learning workflows.\n",
    "- Pipelines work by allowing for a linear sequence of data transforms to be chained together culminating in a modeling process that can be evaluated.\n",
    "- Each stage of a pipeline is fed data processed from its preceding stage; that is, the output of a processing unit is supplied as the input to the next step. "
   ]
  },
  {
   "cell_type": "code",
   "execution_count": 65,
   "metadata": {
    "collapsed": true
   },
   "outputs": [],
   "source": [
    "from sklearn.datasets import load_iris\n",
    "from sklearn.preprocessing import StandardScaler\n",
    "from sklearn.linear_model import LogisticRegression\n",
    "from sklearn.model_selection import train_test_split\n",
    "from sklearn.pipeline import Pipeline"
   ]
  },
  {
   "cell_type": "code",
   "execution_count": 133,
   "metadata": {},
   "outputs": [
    {
     "data": {
      "text/plain": [
       "(120, 4)"
      ]
     },
     "execution_count": 133,
     "metadata": {},
     "output_type": "execute_result"
    }
   ],
   "source": [
    "# Load and split the data\n",
    "iris = load_iris()\n",
    "X_train, X_test, y_train, y_test = train_test_split(iris.data, iris.target, test_size= 0.2,random_state=42)\n",
    "X_train.shape"
   ]
  },
  {
   "cell_type": "code",
   "execution_count": 109,
   "metadata": {},
   "outputs": [],
   "source": [
    "# print(X_train)"
   ]
  },
  {
   "cell_type": "code",
   "execution_count": 114,
   "metadata": {
    "collapsed": true
   },
   "outputs": [],
   "source": [
    "pipe_lr = Pipeline([('stdscr', StandardScaler()),\n",
    " ('clf', LogisticRegression(solver='newton-cg', multi_class='ovr'))])"
   ]
  },
  {
   "cell_type": "code",
   "execution_count": 115,
   "metadata": {},
   "outputs": [
    {
     "data": {
      "text/plain": [
       "Pipeline(memory=None,\n",
       "     steps=[('stdscr', StandardScaler(copy=True, with_mean=True, with_std=True)), ('clf', LogisticRegression(C=1.0, class_weight=None, dual=False, fit_intercept=True,\n",
       "          intercept_scaling=1, max_iter=100, multi_class='ovr',\n",
       "          n_jobs=None, penalty='l2', random_state=None, solver='newton-cg',\n",
       "          tol=0.0001, verbose=0, warm_start=False))])"
      ]
     },
     "execution_count": 115,
     "metadata": {},
     "output_type": "execute_result"
    }
   ],
   "source": [
    "pipe_lr.fit(X_train, y_train)"
   ]
  },
  {
   "cell_type": "code",
   "execution_count": 116,
   "metadata": {},
   "outputs": [
    {
     "name": "stdout",
     "output_type": "stream",
     "text": [
      "Logistic Regression pipeline test accuracy: 0.967\n"
     ]
    }
   ],
   "source": [
    "score = pipe_lr.score(X_test, y_test)\n",
    "print('Logistic Regression pipeline test accuracy: %.3f' % score)"
   ]
  },
  {
   "cell_type": "code",
   "execution_count": 117,
   "metadata": {},
   "outputs": [],
   "source": [
    "# pipe_lr.named_steps['stdscr'].transform(X_train)"
   ]
  },
  {
   "cell_type": "markdown",
   "metadata": {
    "slideshow": {
     "slide_type": "slide"
    }
   },
   "source": [
    "### C. Function Transformer\n",
    "- A FunctionTransformer forwards its X (and optionally y) arguments to a user-defined function or function object and returns the result of this function.\n",
    "- Used in Data Pre-processing.\n",
    "- Applies a user-defined function to the dataset."
   ]
  },
  {
   "cell_type": "markdown",
   "metadata": {},
   "source": [
    "**validate** : bool, optional default=True\n",
    "Indicate that the input X array should be checked before calling func. \n",
    "\n",
    "The possibilities are:\n",
    "\n",
    "If False, there is no input validation.\n",
    "\n",
    "If True, then X will be converted to a 2-dimensional NumPy array or sparse matrix. If the conversion is not possible an exception is raised."
   ]
  },
  {
   "cell_type": "code",
   "execution_count": 202,
   "metadata": {},
   "outputs": [
    {
     "data": {
      "text/html": [
       "<div>\n",
       "<style scoped>\n",
       "    .dataframe tbody tr th:only-of-type {\n",
       "        vertical-align: middle;\n",
       "    }\n",
       "\n",
       "    .dataframe tbody tr th {\n",
       "        vertical-align: top;\n",
       "    }\n",
       "\n",
       "    .dataframe thead th {\n",
       "        text-align: right;\n",
       "    }\n",
       "</style>\n",
       "<table border=\"1\" class=\"dataframe\">\n",
       "  <thead>\n",
       "    <tr style=\"text-align: right;\">\n",
       "      <th></th>\n",
       "      <th>CRIM</th>\n",
       "      <th>ZN</th>\n",
       "      <th>INDUS</th>\n",
       "      <th>CHAS</th>\n",
       "      <th>NOX</th>\n",
       "      <th>RM</th>\n",
       "      <th>AGE</th>\n",
       "      <th>DIS</th>\n",
       "      <th>RAD</th>\n",
       "      <th>TAX</th>\n",
       "      <th>PTRATIO</th>\n",
       "      <th>B</th>\n",
       "      <th>LSTAT</th>\n",
       "      <th>PRICE</th>\n",
       "    </tr>\n",
       "  </thead>\n",
       "  <tbody>\n",
       "    <tr>\n",
       "      <th>0</th>\n",
       "      <td>0.00632</td>\n",
       "      <td>18.0</td>\n",
       "      <td>2.31</td>\n",
       "      <td>0.0</td>\n",
       "      <td>0.538</td>\n",
       "      <td>6.575</td>\n",
       "      <td>65.2</td>\n",
       "      <td>4.0900</td>\n",
       "      <td>1.0</td>\n",
       "      <td>296.0</td>\n",
       "      <td>15.3</td>\n",
       "      <td>396.90</td>\n",
       "      <td>4.98</td>\n",
       "      <td>24.0</td>\n",
       "    </tr>\n",
       "    <tr>\n",
       "      <th>1</th>\n",
       "      <td>0.02731</td>\n",
       "      <td>0.0</td>\n",
       "      <td>7.07</td>\n",
       "      <td>0.0</td>\n",
       "      <td>0.469</td>\n",
       "      <td>6.421</td>\n",
       "      <td>78.9</td>\n",
       "      <td>4.9671</td>\n",
       "      <td>2.0</td>\n",
       "      <td>242.0</td>\n",
       "      <td>17.8</td>\n",
       "      <td>396.90</td>\n",
       "      <td>9.14</td>\n",
       "      <td>21.6</td>\n",
       "    </tr>\n",
       "    <tr>\n",
       "      <th>2</th>\n",
       "      <td>0.02729</td>\n",
       "      <td>0.0</td>\n",
       "      <td>7.07</td>\n",
       "      <td>0.0</td>\n",
       "      <td>0.469</td>\n",
       "      <td>7.185</td>\n",
       "      <td>61.1</td>\n",
       "      <td>4.9671</td>\n",
       "      <td>2.0</td>\n",
       "      <td>242.0</td>\n",
       "      <td>17.8</td>\n",
       "      <td>392.83</td>\n",
       "      <td>4.03</td>\n",
       "      <td>34.7</td>\n",
       "    </tr>\n",
       "    <tr>\n",
       "      <th>3</th>\n",
       "      <td>0.03237</td>\n",
       "      <td>0.0</td>\n",
       "      <td>2.18</td>\n",
       "      <td>0.0</td>\n",
       "      <td>0.458</td>\n",
       "      <td>6.998</td>\n",
       "      <td>45.8</td>\n",
       "      <td>6.0622</td>\n",
       "      <td>3.0</td>\n",
       "      <td>222.0</td>\n",
       "      <td>18.7</td>\n",
       "      <td>394.63</td>\n",
       "      <td>2.94</td>\n",
       "      <td>33.4</td>\n",
       "    </tr>\n",
       "    <tr>\n",
       "      <th>4</th>\n",
       "      <td>0.06905</td>\n",
       "      <td>0.0</td>\n",
       "      <td>2.18</td>\n",
       "      <td>0.0</td>\n",
       "      <td>0.458</td>\n",
       "      <td>7.147</td>\n",
       "      <td>54.2</td>\n",
       "      <td>6.0622</td>\n",
       "      <td>3.0</td>\n",
       "      <td>222.0</td>\n",
       "      <td>18.7</td>\n",
       "      <td>396.90</td>\n",
       "      <td>5.33</td>\n",
       "      <td>36.2</td>\n",
       "    </tr>\n",
       "  </tbody>\n",
       "</table>\n",
       "</div>"
      ],
      "text/plain": [
       "      CRIM    ZN  INDUS  CHAS    NOX     RM   AGE     DIS  RAD    TAX  \\\n",
       "0  0.00632  18.0   2.31   0.0  0.538  6.575  65.2  4.0900  1.0  296.0   \n",
       "1  0.02731   0.0   7.07   0.0  0.469  6.421  78.9  4.9671  2.0  242.0   \n",
       "2  0.02729   0.0   7.07   0.0  0.469  7.185  61.1  4.9671  2.0  242.0   \n",
       "3  0.03237   0.0   2.18   0.0  0.458  6.998  45.8  6.0622  3.0  222.0   \n",
       "4  0.06905   0.0   2.18   0.0  0.458  7.147  54.2  6.0622  3.0  222.0   \n",
       "\n",
       "   PTRATIO       B  LSTAT  PRICE  \n",
       "0     15.3  396.90   4.98   24.0  \n",
       "1     17.8  396.90   9.14   21.6  \n",
       "2     17.8  392.83   4.03   34.7  \n",
       "3     18.7  394.63   2.94   33.4  \n",
       "4     18.7  396.90   5.33   36.2  "
      ]
     },
     "execution_count": 202,
     "metadata": {},
     "output_type": "execute_result"
    }
   ],
   "source": [
    "from sklearn.datasets import load_boston\n",
    "import pandas as pd\n",
    "housing_data = load_boston()\n",
    "df = pd.DataFrame(housing_data.data)\n",
    "df.columns = housing_data.feature_names\n",
    "df['PRICE'] = housing_data.target\n",
    "df.head()"
   ]
  },
  {
   "cell_type": "markdown",
   "metadata": {},
   "source": [
    "The goal is to predict the PRICE variable given the other features. How does this variable distribute?"
   ]
  },
  {
   "cell_type": "code",
   "execution_count": 203,
   "metadata": {},
   "outputs": [],
   "source": [
    "X_train, X_test, y_train, y_test = train_test_split(df, df.PRICE, test_size= 0.2,random_state=42 )"
   ]
  },
  {
   "cell_type": "code",
   "execution_count": 204,
   "metadata": {},
   "outputs": [],
   "source": [
    "from sklearn.pipeline import make_pipeline\n",
    "from sklearn.preprocessing import FunctionTransformer\n",
    "from sklearn.linear_model import LinearRegression\n",
    "\n",
    "def just_RM_column(X):\n",
    "    RM_col_index = 5\n",
    "    return X[:, [RM_col_index]]\n",
    "\n",
    "pipe = make_pipeline(\n",
    "FunctionTransformer(just_RM_column, validate=True),\n",
    "LinearRegression()\n",
    ")\n"
   ]
  },
  {
   "cell_type": "code",
   "execution_count": 205,
   "metadata": {},
   "outputs": [
    {
     "data": {
      "text/plain": [
       "Pipeline(memory=None,\n",
       "     steps=[('functiontransformer', FunctionTransformer(accept_sparse=False, check_inverse=True,\n",
       "          func=<function just_RM_column at 0x1a22f24c80>, inv_kw_args=None,\n",
       "          inverse_func=None, kw_args=None, pass_y='deprecated',\n",
       "          validate=True)), ('linearregression', LinearRegression(copy_X=True, fit_intercept=True, n_jobs=None,\n",
       "         normalize=False))])"
      ]
     },
     "execution_count": 205,
     "metadata": {},
     "output_type": "execute_result"
    }
   ],
   "source": [
    "pipe.fit(X_train,y_train)"
   ]
  },
  {
   "cell_type": "code",
   "execution_count": 206,
   "metadata": {},
   "outputs": [
    {
     "name": "stdout",
     "output_type": "stream",
     "text": [
      "Logistic Regression pipeline test accuracy: 0.371\n"
     ]
    }
   ],
   "source": [
    "score = pipe.score(X_test, y_test)\n",
    "print('Logistic Regression pipeline test accuracy: %.3f' % score)"
   ]
  },
  {
   "cell_type": "code",
   "execution_count": 207,
   "metadata": {},
   "outputs": [],
   "source": [
    "def add_squared_col(X):\n",
    "    return np.hstack((X, X**2))\n",
    "\n",
    "pipe = Pipeline([\n",
    "    ('colone', FunctionTransformer(just_RM_column, validate=True)),\n",
    "    ('coltwo', FunctionTransformer(add_squared_col, validate=True)),\n",
    "    ('clf', LinearRegression())\n",
    "])"
   ]
  },
  {
   "cell_type": "code",
   "execution_count": 208,
   "metadata": {},
   "outputs": [
    {
     "name": "stdout",
     "output_type": "stream",
     "text": [
      "Logistic Regression pipeline test accuracy: 0.518\n"
     ]
    }
   ],
   "source": [
    "pipe.fit(X_train,y_train)\n",
    "score = pipe.score(X_test, y_test)\n",
    "print('Logistic Regression pipeline test accuracy: %.3f' % score)"
   ]
  },
  {
   "cell_type": "code",
   "execution_count": 209,
   "metadata": {},
   "outputs": [],
   "source": [
    "# df[['RM']]"
   ]
  },
  {
   "cell_type": "code",
   "execution_count": 210,
   "metadata": {},
   "outputs": [],
   "source": [
    "# pipe.named_steps['colone'].transform(df)"
   ]
  },
  {
   "cell_type": "code",
   "execution_count": 219,
   "metadata": {},
   "outputs": [
    {
     "data": {
      "text/plain": [
       "0.5176878620868068"
      ]
     },
     "execution_count": 219,
     "metadata": {},
     "output_type": "execute_result"
    }
   ],
   "source": [
    "x1_train = pipe.named_steps['colone'].transform(X_train)\n",
    "x2_train = pipe.named_steps['coltwo'].transform(x1_train)\n",
    "model = LinearRegression()\n",
    "model.fit(x2_train,y_train)\n",
    "x1_test = pipe.named_steps['colone'].transform(X_test)\n",
    "x2_test = pipe.named_steps['coltwo'].transform(x1_test)\n",
    "model.score(x2_test, y_test)"
   ]
  },
  {
   "cell_type": "code",
   "execution_count": 211,
   "metadata": {
    "collapsed": true
   },
   "outputs": [],
   "source": [
    "from sklearn.tree import DecisionTreeRegressor\n",
    "pipe = Pipeline([\n",
    "    ('colone', FunctionTransformer(just_RM_column, validate=True)),\n",
    "    ('coltwo', FunctionTransformer(add_squared_col, validate=True)),\n",
    "    ('clf', DecisionTreeRegressor(max_depth=3))\n",
    "])"
   ]
  },
  {
   "cell_type": "code",
   "execution_count": 212,
   "metadata": {},
   "outputs": [
    {
     "name": "stdout",
     "output_type": "stream",
     "text": [
      "Decision Trees pipeline test accuracy: 0.512\n"
     ]
    }
   ],
   "source": [
    "pipe.fit(X_train,y_train)\n",
    "score = pipe.score(X_test, y_test)\n",
    "print('Decision Trees pipeline test accuracy: %.3f' % score)"
   ]
  },
  {
   "cell_type": "markdown",
   "metadata": {
    "slideshow": {
     "slide_type": "slide"
    }
   },
   "source": [
    "### D. Column Transformer\n",
    "- Datasets can often contain components of that require different feature extraction and processing pipelines. This scenario might occur when:\n",
    "\n",
    ">- Your dataset consists of heterogeneous data types (e.g. raster images and text captions)\n",
    ">- Your dataset is stored in a Pandas DataFrame and different columns require different processing pipelines."
   ]
  },
  {
   "cell_type": "markdown",
   "metadata": {
    "slideshow": {
     "slide_type": "slide"
    }
   },
   "source": [
    "- The brand new ColumnTransformer allows you to choose which columns get which transformations. \n",
    "- Categorical columns will almost always need separate transformations than continuous columns."
   ]
  },
  {
   "cell_type": "markdown",
   "metadata": {
    "slideshow": {
     "slide_type": "slide"
    }
   },
   "source": [
    "- The ColumnTransformer takes a list of three-item tuples. \n",
    "- The first value in the tuple is a name that labels it, \n",
    "- the second is an instantiated estimator, \n",
    "- and the third is a list of columns you want to apply the transformation to. \n",
    "- The tuple will look like this:\n",
    ">- `('name', SomeTransformer(parameters), columns)`"
   ]
  },
  {
   "cell_type": "markdown",
   "metadata": {},
   "source": [
    "### One Hot Encoder\n",
    "- Encoding Categorical Data into Features"
   ]
  },
  {
   "cell_type": "code",
   "execution_count": 221,
   "metadata": {},
   "outputs": [
    {
     "data": {
      "text/html": [
       "<div>\n",
       "<style scoped>\n",
       "    .dataframe tbody tr th:only-of-type {\n",
       "        vertical-align: middle;\n",
       "    }\n",
       "\n",
       "    .dataframe tbody tr th {\n",
       "        vertical-align: top;\n",
       "    }\n",
       "\n",
       "    .dataframe thead th {\n",
       "        text-align: right;\n",
       "    }\n",
       "</style>\n",
       "<table border=\"1\" class=\"dataframe\">\n",
       "  <thead>\n",
       "    <tr style=\"text-align: right;\">\n",
       "      <th></th>\n",
       "      <th>age</th>\n",
       "      <th>fnlwgt</th>\n",
       "      <th>education_num</th>\n",
       "      <th>capital_gain</th>\n",
       "      <th>capital_loss</th>\n",
       "      <th>hours_week</th>\n",
       "    </tr>\n",
       "  </thead>\n",
       "  <tbody>\n",
       "    <tr>\n",
       "      <th>count</th>\n",
       "      <td>32561.000000</td>\n",
       "      <td>3.256100e+04</td>\n",
       "      <td>32561.000000</td>\n",
       "      <td>32561.000000</td>\n",
       "      <td>32561.000000</td>\n",
       "      <td>32561.000000</td>\n",
       "    </tr>\n",
       "    <tr>\n",
       "      <th>mean</th>\n",
       "      <td>38.581647</td>\n",
       "      <td>1.897784e+05</td>\n",
       "      <td>10.080679</td>\n",
       "      <td>1077.648844</td>\n",
       "      <td>87.303830</td>\n",
       "      <td>40.437456</td>\n",
       "    </tr>\n",
       "    <tr>\n",
       "      <th>std</th>\n",
       "      <td>13.640433</td>\n",
       "      <td>1.055500e+05</td>\n",
       "      <td>2.572720</td>\n",
       "      <td>7385.292085</td>\n",
       "      <td>402.960219</td>\n",
       "      <td>12.347429</td>\n",
       "    </tr>\n",
       "    <tr>\n",
       "      <th>min</th>\n",
       "      <td>17.000000</td>\n",
       "      <td>1.228500e+04</td>\n",
       "      <td>1.000000</td>\n",
       "      <td>0.000000</td>\n",
       "      <td>0.000000</td>\n",
       "      <td>1.000000</td>\n",
       "    </tr>\n",
       "    <tr>\n",
       "      <th>25%</th>\n",
       "      <td>28.000000</td>\n",
       "      <td>1.178270e+05</td>\n",
       "      <td>9.000000</td>\n",
       "      <td>0.000000</td>\n",
       "      <td>0.000000</td>\n",
       "      <td>40.000000</td>\n",
       "    </tr>\n",
       "    <tr>\n",
       "      <th>50%</th>\n",
       "      <td>37.000000</td>\n",
       "      <td>1.783560e+05</td>\n",
       "      <td>10.000000</td>\n",
       "      <td>0.000000</td>\n",
       "      <td>0.000000</td>\n",
       "      <td>40.000000</td>\n",
       "    </tr>\n",
       "    <tr>\n",
       "      <th>75%</th>\n",
       "      <td>48.000000</td>\n",
       "      <td>2.370510e+05</td>\n",
       "      <td>12.000000</td>\n",
       "      <td>0.000000</td>\n",
       "      <td>0.000000</td>\n",
       "      <td>45.000000</td>\n",
       "    </tr>\n",
       "    <tr>\n",
       "      <th>max</th>\n",
       "      <td>90.000000</td>\n",
       "      <td>1.484705e+06</td>\n",
       "      <td>16.000000</td>\n",
       "      <td>99999.000000</td>\n",
       "      <td>4356.000000</td>\n",
       "      <td>99.000000</td>\n",
       "    </tr>\n",
       "  </tbody>\n",
       "</table>\n",
       "</div>"
      ],
      "text/plain": [
       "                age        fnlwgt  education_num  capital_gain  capital_loss  \\\n",
       "count  32561.000000  3.256100e+04   32561.000000  32561.000000  32561.000000   \n",
       "mean      38.581647  1.897784e+05      10.080679   1077.648844     87.303830   \n",
       "std       13.640433  1.055500e+05       2.572720   7385.292085    402.960219   \n",
       "min       17.000000  1.228500e+04       1.000000      0.000000      0.000000   \n",
       "25%       28.000000  1.178270e+05       9.000000      0.000000      0.000000   \n",
       "50%       37.000000  1.783560e+05      10.000000      0.000000      0.000000   \n",
       "75%       48.000000  2.370510e+05      12.000000      0.000000      0.000000   \n",
       "max       90.000000  1.484705e+06      16.000000  99999.000000   4356.000000   \n",
       "\n",
       "         hours_week  \n",
       "count  32561.000000  \n",
       "mean      40.437456  \n",
       "std       12.347429  \n",
       "min        1.000000  \n",
       "25%       40.000000  \n",
       "50%       40.000000  \n",
       "75%       45.000000  \n",
       "max       99.000000  "
      ]
     },
     "execution_count": 221,
     "metadata": {},
     "output_type": "execute_result"
    }
   ],
   "source": [
    "# Import dataset\n",
    "import pandas as pd\n",
    "\n",
    "## Define path data\n",
    "COLUMNS = ['age','workclass', 'fnlwgt', 'education', 'education_num', 'marital',\n",
    "           'occupation', 'relationship', 'race', 'sex', 'capital_gain', 'capital_loss',\n",
    "           'hours_week', 'native_country', 'label']\n",
    "\n",
    "### Define continuous list\n",
    "CONTI_FEATURES  = ['age', 'fnlwgt','capital_gain', 'education_num', 'capital_loss', 'hours_week']\n",
    "\n",
    "### Define categorical list\n",
    "CATE_FEATURES = ['workclass', 'education', 'marital', 'occupation', 'relationship', 'race', 'sex', 'native_country']\n",
    "\n",
    "## Prepare the data\n",
    "features = ['age','workclass', 'fnlwgt', 'education', 'education_num', 'marital',\n",
    "           'occupation', 'relationship', 'race', 'sex', 'capital_gain', 'capital_loss',\n",
    "           'hours_week', 'native_country']\n",
    "\n",
    "PATH = \"https://archive.ics.uci.edu/ml/machine-learning-databases/adult/adult.data\"\n",
    "\n",
    "df_train = pd.read_csv(PATH, skipinitialspace=True, names = COLUMNS, index_col=False)\n",
    "df_train[CONTI_FEATURES] = df_train[CONTI_FEATURES].astype('float64')\n",
    "df_train.describe()"
   ]
  },
  {
   "cell_type": "code",
   "execution_count": 222,
   "metadata": {},
   "outputs": [
    {
     "data": {
      "text/plain": [
       "array(['Never-married', 'Married-civ-spouse', 'Divorced',\n",
       "       'Married-spouse-absent', 'Separated', 'Married-AF-spouse',\n",
       "       'Widowed'], dtype=object)"
      ]
     },
     "execution_count": 222,
     "metadata": {},
     "output_type": "execute_result"
    }
   ],
   "source": [
    "df_train['marital'].unique()"
   ]
  },
  {
   "cell_type": "code",
   "execution_count": 225,
   "metadata": {},
   "outputs": [
    {
     "data": {
      "text/plain": [
       "2"
      ]
     },
     "execution_count": 225,
     "metadata": {},
     "output_type": "execute_result"
    }
   ],
   "source": [
    "hs_train = df_train[['marital']].copy()\n",
    "hs_train.ndim"
   ]
  },
  {
   "cell_type": "code",
   "execution_count": 228,
   "metadata": {},
   "outputs": [
    {
     "data": {
      "text/plain": [
       "array([[0., 0., 0., ..., 1., 0., 0.],\n",
       "       [0., 0., 1., ..., 0., 0., 0.],\n",
       "       [1., 0., 0., ..., 0., 0., 0.],\n",
       "       ...,\n",
       "       [0., 0., 0., ..., 0., 0., 1.],\n",
       "       [0., 0., 0., ..., 1., 0., 0.],\n",
       "       [0., 0., 1., ..., 0., 0., 0.]])"
      ]
     },
     "execution_count": 228,
     "metadata": {},
     "output_type": "execute_result"
    }
   ],
   "source": [
    "from sklearn.preprocessing import OneHotEncoder\n",
    "ohe = OneHotEncoder(sparse=False)\n",
    "hs_train_transformed = ohe.fit_transform(hs_train)\n",
    "hs_train_transformed"
   ]
  },
  {
   "cell_type": "code",
   "execution_count": 231,
   "metadata": {},
   "outputs": [
    {
     "name": "stdout",
     "output_type": "stream",
     "text": [
      "(26048, 14) (6513, 14)\n"
     ]
    }
   ],
   "source": [
    "from sklearn.model_selection import train_test_split\n",
    "X_train, X_test, y_train, y_test = train_test_split(df_train[features],\n",
    "                                                    df_train.label,\n",
    "                                                    test_size = 0.2,\n",
    "                                                    random_state=0)\n",
    "X_train.head(5)\n",
    "print(X_train.shape, X_test.shape)"
   ]
  },
  {
   "cell_type": "code",
   "execution_count": 229,
   "metadata": {
    "collapsed": true
   },
   "outputs": [],
   "source": [
    "### Define continuous list\n",
    "CONTI_FEATURES  = ['age', 'fnlwgt','capital_gain', 'education_num', 'capital_loss', 'hours_week']\n",
    "\n",
    "### Define categorical list\n",
    "CATE_FEATURES = ['workclass', 'education', 'marital', 'occupation', 'relationship', 'race', 'sex', 'native_country']\n",
    "\n",
    "numeric_transformer = Pipeline(steps=[\n",
    "    ('imputer', SimpleImputer(strategy='median')),\n",
    "    ('scaler', StandardScaler())])\n",
    "\n",
    "categorical_transformer = Pipeline(steps=[\n",
    "    ('imputer', SimpleImputer(strategy='constant', fill_value='missing')),\n",
    "    ('onehot', OneHotEncoder(handle_unknown='ignore'))])\n",
    "\n",
    "preprocessor = ColumnTransformer(\n",
    "    transformers=[\n",
    "        ('num', numeric_transformer, CONTI_FEATURES),\n",
    "        ('cat', categorical_transformer, CATE_FEATURES)])"
   ]
  },
  {
   "cell_type": "code",
   "execution_count": 233,
   "metadata": {
    "collapsed": true
   },
   "outputs": [],
   "source": [
    "clf = Pipeline(steps=[('preprocessor', preprocessor),\n",
    "                      ('classifier', LogisticRegression(solver='newton-cg'))])"
   ]
  },
  {
   "cell_type": "code",
   "execution_count": 234,
   "metadata": {},
   "outputs": [
    {
     "data": {
      "text/plain": [
       "Pipeline(memory=None,\n",
       "     steps=[('preprocessor', ColumnTransformer(n_jobs=None, remainder='drop', sparse_threshold=0.3,\n",
       "         transformer_weights=None,\n",
       "         transformers=[('num', Pipeline(memory=None,\n",
       "     steps=[('imputer', SimpleImputer(copy=True, fill_value=None, missing_values=nan,\n",
       "       strategy='median', verbo...ty='l2', random_state=None, solver='newton-cg',\n",
       "          tol=0.0001, verbose=0, warm_start=False))])"
      ]
     },
     "execution_count": 234,
     "metadata": {},
     "output_type": "execute_result"
    }
   ],
   "source": [
    "clf.fit(X_train, y_train)"
   ]
  },
  {
   "cell_type": "code",
   "execution_count": 235,
   "metadata": {},
   "outputs": [
    {
     "data": {
      "text/plain": [
       "0.8472286196837095"
      ]
     },
     "execution_count": 235,
     "metadata": {},
     "output_type": "execute_result"
    }
   ],
   "source": [
    "clf.score(X_test, y_test)"
   ]
  },
  {
   "cell_type": "code",
   "execution_count": null,
   "metadata": {
    "collapsed": true
   },
   "outputs": [],
   "source": []
  },
  {
   "cell_type": "code",
   "execution_count": null,
   "metadata": {
    "collapsed": true
   },
   "outputs": [],
   "source": []
  },
  {
   "cell_type": "code",
   "execution_count": null,
   "metadata": {
    "collapsed": true
   },
   "outputs": [],
   "source": []
  },
  {
   "cell_type": "code",
   "execution_count": 237,
   "metadata": {
    "collapsed": true
   },
   "outputs": [],
   "source": [
    "%matplotlib inline\n",
    "\n",
    "import numpy as np\n",
    "import pandas as pd\n",
    "import matplotlib.pyplot as plt\n",
    "import seaborn as sns\n",
    "\n",
    "import warnings"
   ]
  },
  {
   "cell_type": "code",
   "execution_count": 238,
   "metadata": {
    "collapsed": true
   },
   "outputs": [],
   "source": [
    "from sklearn.datasets import fetch_20newsgroups"
   ]
  },
  {
   "cell_type": "markdown",
   "metadata": {},
   "source": [
    "## Explaination of the Dataset"
   ]
  },
  {
   "cell_type": "code",
   "execution_count": 239,
   "metadata": {},
   "outputs": [
    {
     "name": "stderr",
     "output_type": "stream",
     "text": [
      "Downloading 20news dataset. This may take a few minutes.\n",
      "Downloading dataset from https://ndownloader.figshare.com/files/5975967 (14 MB)\n"
     ]
    },
    {
     "data": {
      "text/plain": [
       "'shuffle useful if you wish to select only a subset of samples to quickly train a model and get a first idea of the results \\nbefore re-training on the complete dataset later.'"
      ]
     },
     "execution_count": 239,
     "metadata": {},
     "output_type": "execute_result"
    }
   ],
   "source": [
    "categories = ['alt.atheism', 'soc.religion.christian', 'comp.graphics', 'sci.med']\n",
    "twenty_train = fetch_20newsgroups(subset='train', categories=categories, shuffle=True, random_state=42)\n",
    "\n",
    "\"\"\"shuffle useful if you wish to select only a subset of samples to quickly train a model and get a first idea of the results \n",
    "before re-training on the complete dataset later.\"\"\""
   ]
  },
  {
   "cell_type": "code",
   "execution_count": 240,
   "metadata": {},
   "outputs": [
    {
     "data": {
      "text/plain": [
       "['alt.atheism', 'comp.graphics', 'sci.med', 'soc.religion.christian']"
      ]
     },
     "execution_count": 240,
     "metadata": {},
     "output_type": "execute_result"
    }
   ],
   "source": [
    "'''The returned dataset is a scikit-learn “bunch”: a simple holder object with fields that can be both accessed as \n",
    "python dict keys or object attributes for convenience, for instance the target_names holds the list of the requested category\n",
    "names:'''\n",
    "\n",
    "twenty_train.target_names"
   ]
  },
  {
   "cell_type": "code",
   "execution_count": 247,
   "metadata": {},
   "outputs": [
    {
     "name": "stdout",
     "output_type": "stream",
     "text": [
      "2257\n",
      "2257\n"
     ]
    }
   ],
   "source": [
    "'The files themselves are loaded in memory in the data attribute. For reference the filenames are also available:'\n",
    "print (len(twenty_train.data))\n",
    "#2257 is the number of files that we will be using for training\n",
    "print (len(twenty_train.filenames))\n",
    "#2257"
   ]
  },
  {
   "cell_type": "code",
   "execution_count": 248,
   "metadata": {},
   "outputs": [
    {
     "name": "stdout",
     "output_type": "stream",
     "text": [
      "From: sd345@city.ac.uk (Michael Collier)\n",
      "Subject: Converting images to HP LaserJet III?\n",
      "Nntp-Posting-Host: hampton\n"
     ]
    }
   ],
   "source": [
    "'Let’s print the first lines of the first loaded file:'\n",
    "\n",
    "print(\"\\n\".join(twenty_train.data[0].split(\"\\n\")[:3]))"
   ]
  },
  {
   "cell_type": "code",
   "execution_count": 252,
   "metadata": {},
   "outputs": [
    {
     "name": "stdout",
     "output_type": "stream",
     "text": [
      "[1 1 3 3 3 3 3 2 2 2]\n",
      "comp.graphics\n"
     ]
    }
   ],
   "source": [
    "\"\"\"Supervised learning algorithms will require a category label for each document in the training set. In this case the \n",
    "category is the name of the newsgroup which also happens to be the name of the folder holding the individual documents.\n",
    "\n",
    "For speed and space efficiency reasons scikit-learn loads the target attribute as an array of integers that corresponds to \n",
    "the index of the category name in the target_names list. The category integer id of each sample is stored in the target \n",
    "attribute:\"\"\"\n",
    "\n",
    "print (twenty_train.target[:10])\n",
    "#array([1, 1, 3, 3, 3, 3, 3, 2, 2, 2])\n",
    "\n",
    "print(twenty_train.target_names[twenty_train.target[0]])\n",
    "#comp.graphics"
   ]
  },
  {
   "cell_type": "code",
   "execution_count": 253,
   "metadata": {},
   "outputs": [
    {
     "name": "stdout",
     "output_type": "stream",
     "text": [
      "comp.graphics\n",
      "comp.graphics\n",
      "soc.religion.christian\n",
      "soc.religion.christian\n",
      "soc.religion.christian\n",
      "soc.religion.christian\n",
      "soc.religion.christian\n",
      "sci.med\n",
      "sci.med\n",
      "sci.med\n"
     ]
    }
   ],
   "source": [
    "'It is possible to get back the category names as follows:'\n",
    "\n",
    "for t in twenty_train.target[:10]:\n",
    "    print(twenty_train.target_names[t])\n",
    "    \n",
    "#twenty train.target is a list of category names for all the files present"
   ]
  },
  {
   "cell_type": "markdown",
   "metadata": {},
   "source": [
    "# Extracting features from text files\n",
    "\n",
    "In order to perform machine learning on text documents, we first need to turn the text content **into numerical feature vectors.**\n",
    "\n",
    "### Bags of words\n",
    "The most intuitive way to do so is to use a **bags of words representation:**\n",
    "\n",
    "    1.Assign a fixed integer id to each word occurring in any document of the training set (for instance by building a dictionary from words to integer indices).\n",
    "\n",
    "    2.For each document #i, count the number of occurrences of each word w and store it in X[i, j] as the value of feature #j where j is the index of word w in the dictionary.\n",
    "\n",
    "The bags of words representation implies that n_features is the number of distinct words in the corpus: this number is typically larger than 100,000.\n",
    "\n",
    "If n_samples == 10000, storing X as a NumPy array of type float32 would require 10000 x 100000 x 4 bytes = 4GB in RAM which is barely manageable on today’s computers.\n",
    "\n",
    "**Fortunately, most values in X will be zeros since for a given document less than a few thousand distinct words will be used. For this reason we say that bags of words are typically high-dimensional sparse datasets. We can save a lot of memory by only storing the non-zero parts of the feature vectors in memory.**\n",
    "\n",
    "**scipy.sparse matrices are data structures that do exactly this, and scikit-learn has built-in support for these structures.**"
   ]
  },
  {
   "cell_type": "markdown",
   "metadata": {},
   "source": [
    "### Tokenizing text with scikit-learn\n",
    "\n",
    "Text preprocessing, tokenizing and filtering of stopwords are all included in CountVectorizer, which builds a dictionary of features and transforms documents to feature vectors:"
   ]
  },
  {
   "cell_type": "code",
   "execution_count": 254,
   "metadata": {
    "collapsed": true
   },
   "outputs": [],
   "source": [
    "from sklearn.feature_extraction.text import CountVectorizer\n",
    "count_vect = CountVectorizer()\n",
    "X_train_counts = count_vect.fit_transform(twenty_train.data)\n",
    "#print (X_train_counts[0])\n",
    "\n",
    "#count_vect will give you a dictionary which will contain info of all words in all docs\n",
    "#output format - (doc number, word id)  count of that word in the doc"
   ]
  },
  {
   "cell_type": "code",
   "execution_count": 258,
   "metadata": {},
   "outputs": [
    {
     "data": {
      "text/plain": [
       "{'from': 14887,\n",
       " 'sd345': 29022,\n",
       " 'city': 8696,\n",
       " 'ac': 4017,\n",
       " 'uk': 33256,\n",
       " 'michael': 21661,\n",
       " 'collier': 9031,\n",
       " 'subject': 31077,\n",
       " 'converting': 9805,\n",
       " 'images': 17366,\n",
       " 'to': 32493,\n",
       " 'hp': 16916,\n",
       " 'laserjet': 19780,\n",
       " 'iii': 17302,\n",
       " 'nntp': 23122,\n",
       " 'posting': 25663,\n",
       " 'host': 16881,\n",
       " 'hampton': 16082,\n",
       " 'organization': 23915,\n",
       " 'the': 32142,\n",
       " 'university': 33597,\n",
       " 'lines': 20253,\n",
       " '14': 587,\n",
       " 'does': 12051,\n",
       " 'anyone': 5201,\n",
       " 'know': 19458,\n",
       " 'of': 23610,\n",
       " 'good': 15576,\n",
       " 'way': 34755,\n",
       " 'standard': 30623,\n",
       " 'pc': 24651,\n",
       " 'application': 5285,\n",
       " 'pd': 24677,\n",
       " 'utility': 33915,\n",
       " 'convert': 9801,\n",
       " 'tif': 32391,\n",
       " 'img': 17389,\n",
       " 'tga': 32116,\n",
       " 'files': 14281,\n",
       " 'into': 18268,\n",
       " 'format': 14676,\n",
       " 'we': 34775,\n",
       " 'would': 35312,\n",
       " 'also': 4808,\n",
       " 'like': 20198,\n",
       " 'do': 12014,\n",
       " 'same': 28619,\n",
       " 'hpgl': 16927,\n",
       " 'plotter': 25361,\n",
       " 'please': 25337,\n",
       " 'email': 12833,\n",
       " 'any': 5195,\n",
       " 'response': 27836,\n",
       " 'is': 18474,\n",
       " 'this': 32270,\n",
       " 'correct': 9932,\n",
       " 'group': 15837,\n",
       " 'thanks': 32135,\n",
       " 'in': 17556,\n",
       " 'advance': 4378,\n",
       " 'programmer': 26175,\n",
       " 'computer': 9338,\n",
       " 'unit': 33572,\n",
       " 'tel': 31915,\n",
       " '071': 177,\n",
       " '477': 2326,\n",
       " '8000': 3062,\n",
       " 'x3769': 35416,\n",
       " 'london': 20459,\n",
       " 'fax': 14085,\n",
       " '8565': 3166,\n",
       " 'ec1v': 12541,\n",
       " '0hb': 230,\n",
       " 'ani': 5046,\n",
       " 'ms': 22366,\n",
       " 'uky': 33267,\n",
       " 'edu': 12626,\n",
       " 'aniruddha': 5062,\n",
       " 'deglurkar': 11001,\n",
       " 'help': 16418,\n",
       " 'splitting': 30464,\n",
       " 'trimming': 32915,\n",
       " 'region': 27378,\n",
       " 'along': 4788,\n",
       " 'mesh': 21550,\n",
       " 'kentucky': 19254,\n",
       " 'dept': 11193,\n",
       " 'math': 21153,\n",
       " 'sciences': 28899,\n",
       " '28': 1731,\n",
       " 'hi': 16550,\n",
       " 'have': 16254,\n",
       " 'problem': 26093,\n",
       " 'hope': 16833,\n",
       " 'some': 30173,\n",
       " 'gurus': 15949,\n",
       " 'can': 7766,\n",
       " 'me': 21322,\n",
       " 'solve': 30164,\n",
       " 'background': 6031,\n",
       " 'rectangular': 27238,\n",
       " 'uv': 33949,\n",
       " 'domain': 12075,\n",
       " 'mapping': 20985,\n",
       " '3d': 2148,\n",
       " 'bezier': 6574,\n",
       " 'patch': 24567,\n",
       " '2d': 1858,\n",
       " 'area': 5411,\n",
       " 'which': 34954,\n",
       " 'inside': 18016,\n",
       " 'loop': 20480,\n",
       " 'had': 16014,\n",
       " 'be': 6298,\n",
       " 'rendered': 27582,\n",
       " 'set': 29313,\n",
       " 'curve': 10471,\n",
       " 'segments': 29147,\n",
       " 'for': 14601,\n",
       " 'sake': 28580,\n",
       " 'notation': 23256,\n",
       " 'made': 20770,\n",
       " 'up': 33773,\n",
       " 'cells': 8153,\n",
       " 'my': 22541,\n",
       " 'has': 16216,\n",
       " 'split': 30462,\n",
       " 'individual': 17716,\n",
       " 'smaller': 29976,\n",
       " 'bounded': 7085,\n",
       " 'by': 7505,\n",
       " 'if': 17268,\n",
       " 'cell': 8150,\n",
       " 'wholly': 34992,\n",
       " 'then': 32164,\n",
       " 'it': 18551,\n",
       " 'output': 24079,\n",
       " 'as': 5549,\n",
       " 'whole': 34987,\n",
       " 'else': 12817,\n",
       " 'trivially': 32945,\n",
       " 'rejected': 27438,\n",
       " 'body': 6939,\n",
       " 'how': 16908,\n",
       " 'thiss': 32271,\n",
       " 'done': 12103,\n",
       " 'or': 23870,\n",
       " 'there': 32202,\n",
       " 'algo': 4687,\n",
       " 'somewhere': 30194,\n",
       " 'doing': 12065,\n",
       " 'appreciated': 5304,\n",
       " 'get': 15319,\n",
       " 'irritated': 18465,\n",
       " 'human': 16999,\n",
       " 'stay': 30701,\n",
       " 'cool': 9839,\n",
       " 'divine': 11944,\n",
       " 'djohnson': 11966,\n",
       " 'cs': 10324,\n",
       " 'ucsd': 33216,\n",
       " 'darin': 10667,\n",
       " 'johnson': 18893,\n",
       " 're': 27031,\n",
       " 'harrassed': 16194,\n",
       " 'at': 5698,\n",
       " 'work': 35255,\n",
       " 'could': 9992,\n",
       " 'use': 33858,\n",
       " 'prayers': 25765,\n",
       " 'cse': 10339,\n",
       " 'san': 28631,\n",
       " 'diego': 11499,\n",
       " '63': 2648,\n",
       " 'well': 34866,\n",
       " 'll': 20373,\n",
       " 'but': 7480,\n",
       " 'may': 21209,\n",
       " 'apply': 5289,\n",
       " 'other': 24020,\n",
       " 'people': 24784,\n",
       " 'so': 30068,\n",
       " 'post': 25646,\n",
       " 've': 34120,\n",
       " 'been': 6358,\n",
       " 'working': 35264,\n",
       " 'company': 9191,\n",
       " 'eight': 12703,\n",
       " 'years': 35587,\n",
       " 'various': 34083,\n",
       " 'engineering': 13051,\n",
       " 'jobs': 18863,\n",
       " 'female': 14166,\n",
       " 'yesterday': 35603,\n",
       " 'counted': 10004,\n",
       " 'and': 4992,\n",
       " 'realized': 27084,\n",
       " 'that': 32139,\n",
       " 'on': 23733,\n",
       " 'seven': 29333,\n",
       " 'different': 11520,\n",
       " 'occasions': 23548,\n",
       " 'sexually': 29352,\n",
       " 'dreaded': 12231,\n",
       " 'coming': 9110,\n",
       " 'back': 6024,\n",
       " 'today': 32506,\n",
       " 'what': 34923,\n",
       " 'boss': 7056,\n",
       " 'comes': 9098,\n",
       " 'ask': 5578,\n",
       " 'kind': 19370,\n",
       " 'question': 26709,\n",
       " 'your': 35648,\n",
       " 'should': 29578,\n",
       " 'person': 24895,\n",
       " 'bring': 7231,\n",
       " 'these': 32221,\n",
       " 'problems': 26097,\n",
       " 'he': 16302,\n",
       " 'she': 29455,\n",
       " 'not': 23250,\n",
       " 'seem': 29130,\n",
       " 'take': 31710,\n",
       " 'action': 4194,\n",
       " 'keep': 19210,\n",
       " 'going': 15545,\n",
       " 'higher': 16573,\n",
       " 'sexual': 29350,\n",
       " 'harrassment': 16195,\n",
       " 'need': 22774,\n",
       " 'tolerated': 32530,\n",
       " 'an': 4938,\n",
       " 'enormous': 13089,\n",
       " 'emotional': 12899,\n",
       " 'support': 31364,\n",
       " 'discuss': 11723,\n",
       " 'with': 35157,\n",
       " 'someone': 30180,\n",
       " 'they': 32233,\n",
       " 'are': 5410,\n",
       " 'trying': 32997,\n",
       " 'something': 30187,\n",
       " 'about': 3958,\n",
       " 'you': 35638,\n",
       " 'feel': 14135,\n",
       " 'perhaps': 24827,\n",
       " 'personnel': 24908,\n",
       " 'department': 11159,\n",
       " 'while': 34956,\n",
       " 'preserving': 25924,\n",
       " 'privacy': 26060,\n",
       " 'most': 22270,\n",
       " 'companies': 9188,\n",
       " 'will': 35057,\n",
       " 'want': 34660,\n",
       " 'deal': 10797,\n",
       " 'because': 6333,\n",
       " 'constant': 9614,\n",
       " 'anxiety': 5193,\n",
       " 'seriously': 29286,\n",
       " 'affect': 4431,\n",
       " 'effectively': 12659,\n",
       " 'employees': 12924,\n",
       " 'their': 32152,\n",
       " 'unclear': 33374,\n",
       " 'letter': 20054,\n",
       " 'inconceivable': 17622,\n",
       " 'management': 20906,\n",
       " 'remains': 27528,\n",
       " 'ignorant': 17283,\n",
       " 'employee': 12923,\n",
       " 'strife': 30973,\n",
       " 'even': 13491,\n",
       " 'after': 4471,\n",
       " 'miracle': 21859,\n",
       " 'notice': 23268,\n",
       " 'manager': 20907,\n",
       " 'did': 11493,\n",
       " 'attention': 5783,\n",
       " 'ups': 33807,\n",
       " 'indeed': 17666,\n",
       " 'ignore': 17287,\n",
       " 'entire': 13132,\n",
       " 'state': 30673,\n",
       " 'agency': 4496,\n",
       " 'willing': 35073,\n",
       " 'fight': 14265,\n",
       " 'check': 8380,\n",
       " 'lawyer': 19852,\n",
       " 'women': 35216,\n",
       " 'resource': 27816,\n",
       " 'center': 8159,\n",
       " 'etc': 13400,\n",
       " 'find': 14309,\n",
       " 'out': 24052,\n",
       " 'paster': 24555,\n",
       " 'priest': 26010,\n",
       " 'husband': 17055,\n",
       " 'judgemental': 19017,\n",
       " 'supportive': 31370,\n",
       " 'comforting': 9106,\n",
       " 'lot': 20517,\n",
       " 'healing': 16325,\n",
       " 'returned': 27926,\n",
       " '11': 336,\n",
       " '25': 1632,\n",
       " 'only': 23757,\n",
       " 'ever': 13503,\n",
       " 'single': 29769,\n",
       " 'already': 4805,\n",
       " 'left': 19951,\n",
       " 'lunch': 20631,\n",
       " '15': 677,\n",
       " 'no': 23123,\n",
       " 'one': 23741,\n",
       " 'bothered': 7065,\n",
       " 'call': 7714,\n",
       " 'building': 7391,\n",
       " 'though': 32297,\n",
       " 'number': 23363,\n",
       " 'was': 34703,\n",
       " 'posted': 25654,\n",
       " 'happens': 16136,\n",
       " 'honest': 16803,\n",
       " 'believe': 6430,\n",
       " 'due': 12354,\n",
       " 'gross': 15827,\n",
       " 'insensitivity': 18009,\n",
       " 'feelings': 14138,\n",
       " 'through': 32332,\n",
       " 'offices': 23636,\n",
       " 'tend': 31978,\n",
       " 'more': 22215,\n",
       " 'insensitive': 18008,\n",
       " 'than': 32131,\n",
       " 'normally': 23215,\n",
       " 'maybe': 21212,\n",
       " 'hustle': 17068,\n",
       " 'stress': 30954,\n",
       " 'happen': 16131,\n",
       " 'often': 23654,\n",
       " 'didn': 11495,\n",
       " 'realize': 27083,\n",
       " 'car': 7860,\n",
       " 'broken': 7265,\n",
       " 'come': 9093,\n",
       " 'wonder': 35218,\n",
       " 'why': 35006,\n",
       " 'go': 15511,\n",
       " 'make': 20862,\n",
       " 'stop': 30874,\n",
       " 'being': 6412,\n",
       " 'angry': 5041,\n",
       " 'ignored': 17288,\n",
       " 'laugh': 19819,\n",
       " 'once': 23736,\n",
       " 'went': 34876,\n",
       " 'off': 23614,\n",
       " 'without': 35168,\n",
       " 'our': 24046,\n",
       " 'who': 34982,\n",
       " 'paying': 24636,\n",
       " 'reason': 27103,\n",
       " 'mr': 22356,\n",
       " 'moderator': 22069,\n",
       " 'allows': 4766,\n",
       " 'latest': 19802,\n",
       " 'indulgence': 17737,\n",
       " 'turn': 33078,\n",
       " 'signs': 29690,\n",
       " 'age': 4492,\n",
       " 'closing': 8860,\n",
       " 'don': 12096,\n",
       " 'let': 20048,\n",
       " 'hateful': 16235,\n",
       " 'actions': 4195,\n",
       " 'harm': 16179,\n",
       " 'still': 30808,\n",
       " 'playground': 25324,\n",
       " 'bully': 7413,\n",
       " 'enjoy': 13068,\n",
       " 'seeing': 29124,\n",
       " 'hurt': 17050,\n",
       " 'cause': 8034,\n",
       " 'accept': 4039,\n",
       " 'opinions': 23815,\n",
       " 'imbecile': 17384,\n",
       " 'worthless': 35306,\n",
       " 'much': 22403,\n",
       " 'wiser': 35145,\n",
       " 'hold': 16743,\n",
       " 'great': 15743,\n",
       " 'esteem': 13379,\n",
       " 'luxury': 20663,\n",
       " 'day': 10752,\n",
       " 'bytes': 7517,\n",
       " 'swap': 31497,\n",
       " 's0612596': 28498,\n",
       " 'rug': 28425,\n",
       " 'nl': 23102,\n",
       " 'zwart': 35780,\n",
       " 'catholic': 8017,\n",
       " 'church': 8609,\n",
       " 'poland': 25461,\n",
       " 'faculteit': 13921,\n",
       " 'der': 11198,\n",
       " 'letteren': 20056,\n",
       " 'rijksuniversiteit': 28104,\n",
       " 'groningen': 15824,\n",
       " '10': 242,\n",
       " 'hello': 16413,\n",
       " 'writing': 35351,\n",
       " 'paper': 24382,\n",
       " 'role': 28256,\n",
       " '1989': 1097,\n",
       " 'tell': 31945,\n",
       " 'fill': 14285,\n",
       " 'recent': 27149,\n",
       " 'books': 7008,\n",
       " 'articles': 5530,\n",
       " 'english': 13055,\n",
       " 'german': 15305,\n",
       " 'french': 14842,\n",
       " 'important': 17508,\n",
       " 'concerning': 9379,\n",
       " 'abortion': 3954,\n",
       " 'law': 19841,\n",
       " 'religious': 27510,\n",
       " 'education': 12629,\n",
       " 'schools': 28877,\n",
       " 'birth': 6726,\n",
       " 'control': 9771,\n",
       " 'relation': 27456,\n",
       " 'government': 15618,\n",
       " 'thanx': 32138,\n",
       " 'masja': 21101,\n",
       " 'stanly': 30638,\n",
       " 'grok11': 15822,\n",
       " 'columbiasc': 9067,\n",
       " 'ncr': 22725,\n",
       " 'com': 9072,\n",
       " 'elder': 12731,\n",
       " 'brother': 7280,\n",
       " 'corp': 9925,\n",
       " 'columbia': 9066,\n",
       " 'sc': 28771,\n",
       " 'article': 5529,\n",
       " 'apr': 5340,\n",
       " '00': 0,\n",
       " '57': 2521,\n",
       " '41': 2203,\n",
       " '1993': 1102,\n",
       " '28246': 1742,\n",
       " 'athos': 5730,\n",
       " 'rutgers': 28473,\n",
       " 'rexlex': 27997,\n",
       " 'fnal': 14526,\n",
       " 'gov': 15612,\n",
       " 'writes': 35350,\n",
       " '01': 37,\n",
       " '56': 2513,\n",
       " '22824': 1540,\n",
       " 'shrum': 29610,\n",
       " 'hpfcso': 16926,\n",
       " 'fc': 14095,\n",
       " 'matt': 21176,\n",
       " '22': 1490,\n",
       " 'therefore': 32205,\n",
       " 'main': 20842,\n",
       " 'highways': 16585,\n",
       " 'many': 20978,\n",
       " 'invite': 18363,\n",
       " 'wedding': 34810,\n",
       " 'feast': 14109,\n",
       " 'hmmmmmm': 16703,\n",
       " 'sounds': 30250,\n",
       " 'theology': 32179,\n",
       " 'christ': 8544,\n",
       " 'odds': 23595,\n",
       " 'am': 4852,\n",
       " 'parable': 24395,\n",
       " 'jesus': 18774,\n",
       " 'tells': 31948,\n",
       " 'kingdom': 19383,\n",
       " 'heaven': 16358,\n",
       " 'unto': 33741,\n",
       " 'certain': 8197,\n",
       " 'king': 19382,\n",
       " 'marriage': 21060,\n",
       " 'his': 16642,\n",
       " 'son': 30199,\n",
       " 'clothes': 8863,\n",
       " 'were': 34879,\n",
       " 'customary': 10481,\n",
       " 'given': 15406,\n",
       " 'those': 32295,\n",
       " 'chose': 8525,\n",
       " 'attend': 5777,\n",
       " 'man': 20903,\n",
       " 'refused': 27352,\n",
       " 'wear': 34790,\n",
       " 'equalivant': 13239,\n",
       " 'righteousness': 28091,\n",
       " 'when': 34935,\n",
       " 'died': 11498,\n",
       " 'sins': 29785,\n",
       " 'provided': 26356,\n",
       " 'decision': 10874,\n",
       " 'put': 26570,\n",
       " 'vbv': 34111,\n",
       " 'lor': 20493,\n",
       " 'eeap': 12639,\n",
       " 'cwru': 10510,\n",
       " 'virgilio': 34360,\n",
       " 'dean': 10805,\n",
       " 'velasco': 34151,\n",
       " 'jr': 18983,\n",
       " 'arrogance': 5512,\n",
       " 'christians': 8559,\n",
       " 'case': 7965,\n",
       " 'western': 34896,\n",
       " 'reserve': 27768,\n",
       " 'univ': 33581,\n",
       " 'cleveland': 8795,\n",
       " 'ohio': 23662,\n",
       " 'usa': 33848,\n",
       " '2073': 1396,\n",
       " 'geneva': 15237,\n",
       " 'hayesstw': 16277,\n",
       " 'risc1': 28131,\n",
       " 'unisa': 33569,\n",
       " 'za': 35688,\n",
       " 'steve': 30776,\n",
       " 'hayes': 16276,\n",
       " 'similar': 29715,\n",
       " 'analogy': 4953,\n",
       " 'might': 21732,\n",
       " 'medical': 21386,\n",
       " 'doctor': 12026,\n",
       " 'believes': 6437,\n",
       " 'blood': 6863,\n",
       " 'transfusion': 32756,\n",
       " 'necessary': 22765,\n",
       " 'save': 28735,\n",
       " 'life': 20167,\n",
       " 'child': 8451,\n",
       " 'whose': 34999,\n",
       " 'parents': 24451,\n",
       " 'jehovah': 18729,\n",
       " 'witnesses': 35176,\n",
       " 'conscientious': 9557,\n",
       " 'objections': 23477,\n",
       " 'efforts': 12669,\n",
       " 'persuade': 24913,\n",
       " 'them': 32160,\n",
       " 'agree': 4529,\n",
       " 'perceived': 24793,\n",
       " 'arrogant': 5513,\n",
       " 'precisely': 25794,\n",
       " 'truth': 32989,\n",
       " 'otherwise': 24026,\n",
       " 'belief': 6426,\n",
       " 'irrelevant': 18452,\n",
       " 'here': 16482,\n",
       " 'matters': 21179,\n",
       " 'true': 32973,\n",
       " 'seen': 29135,\n",
       " 'foce': 14533,\n",
       " 'beliefs': 6427,\n",
       " 'carry': 7938,\n",
       " 'step': 30747,\n",
       " 'further': 15006,\n",
       " 'doctors': 12028,\n",
       " 'claim': 8713,\n",
       " 'infallible': 17784,\n",
       " 'generally': 15219,\n",
       " 'admit': 4330,\n",
       " 'conceivably': 9360,\n",
       " 'wrong': 35358,\n",
       " 'tranfusion': 32722,\n",
       " 'all': 4720,\n",
       " 'however': 16913,\n",
       " 'enough': 13091,\n",
       " 'confidence': 9461,\n",
       " 'conviction': 9816,\n",
       " 'genuine': 15261,\n",
       " 'concern': 9377,\n",
       " 'fallible': 13977,\n",
       " 'beings': 6413,\n",
       " 'must': 22509,\n",
       " 'acknowledge': 4153,\n",
       " 'possibility': 25640,\n",
       " 'say': 28755,\n",
       " 'such': 31180,\n",
       " 'doubts': 12166,\n",
       " 'reasonable': 27105,\n",
       " 'stand': 30621,\n",
       " 'convictions': 9817,\n",
       " 'electrical': 12746,\n",
       " 'eng': 13037,\n",
       " 'applied': 5287,\n",
       " 'physics': 25121,\n",
       " 'graduate': 15653,\n",
       " 'student': 31031,\n",
       " 'roboticist': 28207,\n",
       " 'training': 32709,\n",
       " 'wannabee': 34657,\n",
       " 'bullwinkle': 7412,\n",
       " 'intimidating': 18267,\n",
       " 'referee': 27307,\n",
       " 'very': 34229,\n",
       " 'doesn': 12052,\n",
       " 'look': 20470,\n",
       " 'jewish': 18779,\n",
       " 'carpenter': 7928,\n",
       " 'jodfishe': 18866,\n",
       " 'silver': 29706,\n",
       " 'ucs': 33213,\n",
       " 'indiana': 17687,\n",
       " 'joseph': 18929,\n",
       " 'dale': 10604,\n",
       " 'fisher': 14363,\n",
       " 'anger': 5030,\n",
       " '34': 2012,\n",
       " '17': 842,\n",
       " '44': 2258,\n",
       " '2232': 1512,\n",
       " 'news': 22944,\n",
       " 'cbnewsk': 8065,\n",
       " 'att': 5758,\n",
       " 'paul': 24616,\n",
       " 'conditt': 9428,\n",
       " 'insert': 18011,\n",
       " 'deletion': 11041,\n",
       " 'aaron': 3892,\n",
       " 'discourse': 11701,\n",
       " 'ref': 27304,\n",
       " 'galatians': 15060,\n",
       " '19': 966,\n",
       " '20': 1341,\n",
       " 'obvious': 23541,\n",
       " 'speaking': 30330,\n",
       " 'acts': 4211,\n",
       " 'flesh': 14440,\n",
       " 'just': 19076,\n",
       " 'emotions': 12902,\n",
       " 'themselves': 32163,\n",
       " 'moral': 22200,\n",
       " 'immoral': 17423,\n",
       " 'bad': 6057,\n",
       " 'first': 14357,\n",
       " 'label': 19649,\n",
       " 'emotion': 12898,\n",
       " 'numb': 23362,\n",
       " 'ourselves': 24050,\n",
       " 'hide': 16562,\n",
       " 'god': 15521,\n",
       " 'accepts': 4045,\n",
       " 'us': 33847,\n",
       " 'oh': 23660,\n",
       " 'definitely': 10983,\n",
       " 'colossians': 9056,\n",
       " 'ephesians': 13192,\n",
       " '27': 1700,\n",
       " 'controlled': 9774,\n",
       " 'puts': 26572,\n",
       " 'strong': 31000,\n",
       " 'emphasis': 12911,\n",
       " 'self': 29171,\n",
       " 'write': 35346,\n",
       " 'timothy': 32435,\n",
       " 'making': 20868,\n",
       " 'sure': 31394,\n",
       " 'teach': 31849,\n",
       " 'remainder': 27525,\n",
       " 'paragraph': 24411,\n",
       " 'think': 32253,\n",
       " 'quick': 26724,\n",
       " 'judge': 19014,\n",
       " 'forgiven': 14656,\n",
       " 'aids': 4566,\n",
       " 'dealt': 10802,\n",
       " 'taken': 31711,\n",
       " 'responsibility': 27840,\n",
       " 'appropriate': 5319,\n",
       " 'choices': 8499,\n",
       " 'read': 27049,\n",
       " 'yourself': 35651,\n",
       " 'joe': 18869,\n",
       " 'again': 4486,\n",
       " 'issue': 18542,\n",
       " 'especially': 13351,\n",
       " 'over': 24108,\n",
       " 'stem': 30741,\n",
       " 'instances': 18051,\n",
       " 'giving': 15408,\n",
       " 'soon': 30208,\n",
       " 'moore': 22193,\n",
       " 'aldridge': 4661,\n",
       " 'netcom': 22861,\n",
       " 'jacquelin': 18627,\n",
       " 'teenage': 31893,\n",
       " 'acne': 4165,\n",
       " 'line': 20242,\n",
       " 'communication': 9171,\n",
       " 'services': 29306,\n",
       " '408': 2198,\n",
       " '241': 1599,\n",
       " '9760': 3432,\n",
       " 'guest': 15907,\n",
       " 'pchurch': 24668,\n",
       " 'swell': 31528,\n",
       " 'actrix': 4210,\n",
       " 'gen': 15195,\n",
       " 'nz': 23432,\n",
       " 'pat': 24565,\n",
       " 'churchill': 8612,\n",
       " 'usual': 33889,\n",
       " 'spotty': 30494,\n",
       " 'chin': 8470,\n",
       " 'greasy': 15742,\n",
       " 'nose': 23240,\n",
       " 'bought': 7073,\n",
       " 'him': 16603,\n",
       " 'clearasil': 8777,\n",
       " 'face': 13892,\n",
       " 'wash': 34705,\n",
       " 'ointment': 23671,\n",
       " 'probably': 26085,\n",
       " 'diet': 11505,\n",
       " 'product': 26136,\n",
       " 'called': 7718,\n",
       " 'dalacin': 10602,\n",
       " 'used': 33860,\n",
       " 'prescription': 25907,\n",
       " 'treatment': 32847,\n",
       " 'available': 5906,\n",
       " 'chemist': 8406,\n",
       " 'counter': 10006,\n",
       " 'asked': 5580,\n",
       " 'couple': 10028,\n",
       " 'pharmacists': 24998,\n",
       " 'either': 12711,\n",
       " 'severe': 29337,\n",
       " 'ok': 23674,\n",
       " 'odd': 23589,\n",
       " 'spots': 30493,\n",
       " 'teenager': 31894,\n",
       " 'nothing': 23264,\n",
       " 'serious': 29285,\n",
       " 'father': 14060,\n",
       " 'figure': 14272,\n",
       " 'escalate': 13330,\n",
       " 'disfiguring': 11735,\n",
       " 'kids': 19336,\n",
       " 'senstitive': 29229,\n",
       " 'appearance': 5267,\n",
       " 'wary': 34702,\n",
       " 'neighbour': 22816,\n",
       " 'wierd': 35031,\n",
       " 'malady': 20873,\n",
       " 'eventually': 13501,\n",
       " 'down': 12176,\n",
       " 'overdose': 24121,\n",
       " 'vitamin': 34417,\n",
       " 'scaliness': 28779,\n",
       " 'around': 5489,\n",
       " 'hairline': 16038,\n",
       " 'scalp': 28783,\n",
       " 'sort': 30233,\n",
       " 'cradle': 10109,\n",
       " 'cap': 7820,\n",
       " 'pointers': 25445,\n",
       " 'advice': 4399,\n",
       " 'tried': 32898,\n",
       " 'anti': 5138,\n",
       " 'dandruff': 10633,\n",
       " 'shampoos': 29412,\n",
       " 'inclined': 17601,\n",
       " 'condition': 9423,\n",
       " 'worse': 35295,\n",
       " 'better': 6557,\n",
       " 'shall': 29399,\n",
       " 'bury': 7463,\n",
       " 'kid': 19330,\n",
       " 'till': 32409,\n",
       " '21': 1421,\n",
       " 'lucky': 20599,\n",
       " 'ones': 23746,\n",
       " 'little': 20342,\n",
       " 'luck': 20597,\n",
       " 'skin': 29864,\n",
       " 'gets': 15322,\n",
       " 'oily': 23668,\n",
       " 'really': 27088,\n",
       " 'miserable': 21898,\n",
       " 'pimples': 25200,\n",
       " 'dry': 12294,\n",
       " 'frequent': 14848,\n",
       " 'lukewarm': 20613,\n",
       " 'water': 34727,\n",
       " 'rinses': 28120,\n",
       " 'getting': 15323,\n",
       " 'thing': 32249,\n",
       " 'under': 33410,\n",
       " 'simple': 29724,\n",
       " 'submerging': 31093,\n",
       " 'bathwater': 6253,\n",
       " 'softened': 30112,\n",
       " 'washing': 34709,\n",
       " 'taking': 31716,\n",
       " 'mineral': 21814,\n",
       " 'heard': 16336,\n",
       " 'iodine': 18380,\n",
       " 'causes': 8037,\n",
       " 'trouble': 32962,\n",
       " 'fast': 14048,\n",
       " 'food': 14581,\n",
       " 'restaurants': 27850,\n",
       " 'sterilize': 30766,\n",
       " 'equipment': 13256,\n",
       " 'where': 34938,\n",
       " 'foods': 14583,\n",
       " 'came': 7746,\n",
       " 'grease': 15741,\n",
       " 'immediately': 17410,\n",
       " 'removed': 27567,\n",
       " 'eating': 12524,\n",
       " 'meat': 21356,\n",
       " 'keeping': 19213,\n",
       " 'hair': 16036,\n",
       " 'rinse': 28119,\n",
       " 'mousse': 22315,\n",
       " 'dip': 11599,\n",
       " 'spray': 30502,\n",
       " 'warm': 34672,\n",
       " 'bath': 6248,\n",
       " 'soaks': 30071,\n",
       " 'cloths': 8865,\n",
       " 'soften': 30111,\n",
       " 'oil': 23667,\n",
       " 'pores': 25580,\n",
       " 'prevent': 25983,\n",
       " 'blackheads': 6774,\n",
       " 'hydrophilic': 17093,\n",
       " 'loves': 20543,\n",
       " 'softens': 30113,\n",
       " 'washes': 34708,\n",
       " 'chance': 8278,\n",
       " 'goes': 15541,\n",
       " 'limp': 20226,\n",
       " 'oilyness': 23669,\n",
       " 'becoming': 6342,\n",
       " 'convinced': 9820,\n",
       " 'best': 6540,\n",
       " 'whitehead': 34973,\n",
       " 'leave': 19926,\n",
       " 'alone': 4787,\n",
       " 'days': 10760,\n",
       " 'pimple': 25199,\n",
       " 'misery': 21901,\n",
       " 'prying': 26386,\n",
       " 'black': 6773,\n",
       " 'whiteheads': 34974,\n",
       " 'infections': 17796,\n",
       " 'red': 27255,\n",
       " 'usually': 33891,\n",
       " 'break': 7167,\n",
       " 'naturally': 22686,\n",
       " 'won': 35217,\n",
       " 'infection': 17795,\n",
       " 'afterwards': 4479,\n",
       " 'normal': 23210,\n",
       " 'cosmetic': 9970,\n",
       " 'industry': 17742,\n",
       " 'makes': 20866,\n",
       " 'money': 22135,\n",
       " 'selling': 29180,\n",
       " 'idea': 17219,\n",
       " 'incredible': 17650,\n",
       " 'defect': 10949,\n",
       " 'hidden': 16561,\n",
       " 'cost': 9981,\n",
       " 'causing': 8039,\n",
       " 'jackie': 18618,\n",
       " 'geb': 15173,\n",
       " 'pitt': 25234,\n",
       " 'gordon': 15591,\n",
       " 'banks': 6140,\n",
       " 'blindsight': 6838,\n",
       " 'reply': 27664,\n",
       " 'pittsburgh': 25237,\n",
       " 'science': 28897,\n",
       " '18': 896,\n",
       " 'werner': 34881,\n",
       " '240393161954': 1594,\n",
       " 'tol7mac15': 32522,\n",
       " 'soe': 30105,\n",
       " 'berkeley': 6507,\n",
       " 'john': 18880,\n",
       " '19213': 995,\n",
       " 'uucp': 33940,\n",
       " 'wrote': 35363,\n",
       " 'explain': 13733,\n",
       " 'thought': 32298,\n",
       " 'types': 33142,\n",
       " 'cones': 9444,\n",
       " 'equivalent': 13259,\n",
       " 'rgb': 28011,\n",
       " 'basically': 6223,\n",
       " 'right': 28089,\n",
       " 'sensitive': 29222,\n",
       " 'green': 15755,\n",
       " 'blue': 6882,\n",
       " 'yellow': 35597,\n",
       " 'two': 33125,\n",
       " 'common': 9158,\n",
       " 'kinds': 19378,\n",
       " 'color': 9045,\n",
       " 'blindness': 6836,\n",
       " 'yes': 35601,\n",
       " 'remember': 27543,\n",
       " 'now': 23301,\n",
       " 'contrary': 9748,\n",
       " 'original': 23940,\n",
       " 'respondent': 27832,\n",
       " 'claimed': 8715,\n",
       " 'n3jxp': 22582,\n",
       " 'skepticism': 29848,\n",
       " 'chastity': 8362,\n",
       " 'intellect': 18117,\n",
       " 'cadre': 7665,\n",
       " 'dsl': 12307,\n",
       " 'shameful': 29408,\n",
       " 'surrender': 31424,\n",
       " 'too': 32570,\n",
       " 'libman': 20133,\n",
       " 'hsc': 16954,\n",
       " 'usc': 33853,\n",
       " 'marlena': 21053,\n",
       " 'patient': 24593,\n",
       " 'relationship': 27459,\n",
       " 'southern': 30259,\n",
       " 'california': 7711,\n",
       " 'los': 20506,\n",
       " 'angeles': 5026,\n",
       " 'ca': 7643,\n",
       " '64': 2667,\n",
       " 'situation': 29813,\n",
       " 'occurred': 23566,\n",
       " 'between': 6561,\n",
       " 'physican': 25115,\n",
       " 'upset': 33808,\n",
       " 'saw': 28747,\n",
       " 'recurring': 27248,\n",
       " 'pain': 24296,\n",
       " 'suggested': 31218,\n",
       " 'medication': 21389,\n",
       " 'course': 10037,\n",
       " 'told': 32523,\n",
       " 'begin': 6381,\n",
       " 'monitor': 22140,\n",
       " 'its': 18585,\n",
       " 'effectiveness': 12660,\n",
       " 'general': 15209,\n",
       " 'health': 16328,\n",
       " 'exactly': 13552,\n",
       " 'reaching': 27038,\n",
       " 'secretary': 29094,\n",
       " 'explained': 13737,\n",
       " 'her': 16470,\n",
       " 'following': 14565,\n",
       " 'request': 27727,\n",
       " 'worried': 35290,\n",
       " 'episodes': 13215,\n",
       " 'effective': 12658,\n",
       " 'words': 35249,\n",
       " 'whatever': 34924,\n",
       " 'busy': 7479,\n",
       " 'time': 32417,\n",
       " 'chit': 8493,\n",
       " 'chat': 8363,\n",
       " 'simply': 29736,\n",
       " 'instructions': 18080,\n",
       " '7th': 3052,\n",
       " 'status': 30696,\n",
       " 'feeling': 14137,\n",
       " 'talk': 31723,\n",
       " 'responded': 27831,\n",
       " 'spit': 30445,\n",
       " 'said': 28573,\n",
       " 'raised': 26849,\n",
       " 'voice': 34463,\n",
       " 'started': 30661,\n",
       " 'quickly': 26727,\n",
       " 'nervousness': 22847,\n",
       " 'interfered': 18176,\n",
       " 'choice': 8498,\n",
       " 'stuttered': 31052,\n",
       " ...}"
      ]
     },
     "execution_count": 258,
     "metadata": {},
     "output_type": "execute_result"
    }
   ],
   "source": [
    "count_vect.vocabulary_"
   ]
  },
  {
   "cell_type": "code",
   "execution_count": 259,
   "metadata": {},
   "outputs": [
    {
     "name": "stdout",
     "output_type": "stream",
     "text": [
      "4690\n"
     ]
    }
   ],
   "source": [
    "'''CountVectorizer supports counts of N-grams of words or consecutive characters. Once fitted, the vectorizer has built a \n",
    "dictionary of feature indices:'''\n",
    "'The index value of a word in the vocabulary is linked to its frequency in the whole training corpus.'\n",
    "\n",
    "print (count_vect.vocabulary_.get(u'algorithm'))"
   ]
  },
  {
   "cell_type": "markdown",
   "metadata": {},
   "source": [
    "## From occurrences to frequencies (tf-idf)\n",
    "\n",
    "Occurrence count is a good start but there is an issue: longer documents will have higher average count values than shorter documents, even though they might talk about the same topics.\n",
    "\n",
    "To avoid these potential discrepancies it suffices to divide the number of occurrences of each word in a document by the total number of words in the document: these new features are called **tf for Term Frequencies.**\n",
    "\n",
    "Another refinement on top of tf is to downscale weights for words that occur in many documents in the corpus and are therefore less informative than those that occur only in a smaller portion of the corpus.\n",
    "\n",
    "This downscaling is called tf–idf for **“Term Frequency times Inverse Document Frequency”.**\n",
    "\n",
    "**Both tf and tf–idf can be computed as follows using TfidfTransformer:**"
   ]
  },
  {
   "cell_type": "code",
   "execution_count": 260,
   "metadata": {},
   "outputs": [
    {
     "name": "stdout",
     "output_type": "stream",
     "text": [
      "(2257, 35788)\n"
     ]
    }
   ],
   "source": [
    "from sklearn.feature_extraction.text import TfidfTransformer\n",
    "\n",
    "tf_transformer = TfidfTransformer(use_idf=False).fit(X_train_counts)\n",
    "X_train_tf = tf_transformer.transform(X_train_counts) #sparse matrix of type '<class 'numpy.float64'>\n",
    "print (X_train_tf.shape)"
   ]
  },
  {
   "cell_type": "markdown",
   "metadata": {},
   "source": [
    "In the above example-code, we firstly use the **fit(..)** method to fit our estimator to the data and secondly the **transform(..)** method to transform our count-matrix to a tf-idf representation. These two steps can be combined to achieve the same end result faster by skipping redundant processing. This is done through using the **fit_transform(..)** method as shown below, and as mentioned in the note in the previous section:"
   ]
  },
  {
   "cell_type": "code",
   "execution_count": 262,
   "metadata": {},
   "outputs": [
    {
     "name": "stdout",
     "output_type": "stream",
     "text": [
      "(2257, 35788)\n"
     ]
    }
   ],
   "source": [
    "tfidf_transformer = TfidfTransformer()\n",
    "X_train_tfidf = tfidf_transformer.fit_transform(X_train_counts)\n",
    "print (X_train_tfidf.shape)"
   ]
  },
  {
   "cell_type": "markdown",
   "metadata": {},
   "source": [
    "## Training a classifier\n",
    "Now that we have our features, we can train a classifier to try to predict the category of a post. Let’s start with a **naïve Bayes classifier**, which provides a nice baseline for this task. scikit-learn includes several variants of this classifier; **the one most suitable for word counts is the multinomial variant:**"
   ]
  },
  {
   "cell_type": "code",
   "execution_count": 268,
   "metadata": {},
   "outputs": [],
   "source": [
    "from sklearn.naive_bayes import MultinomialNB\n",
    "clf = MultinomialNB().fit(X_train_tfidf, twenty_train.target)"
   ]
  },
  {
   "cell_type": "markdown",
   "metadata": {},
   "source": [
    "To try to predict the outcome on a new document we need to extract the features using almost the same feature extracting chain as before. The difference is that we call transform instead of fit_transform on the transformers, since they have already been fit to the training set:"
   ]
  },
  {
   "cell_type": "code",
   "execution_count": 269,
   "metadata": {},
   "outputs": [
    {
     "name": "stdout",
     "output_type": "stream",
     "text": [
      "'God is love' => soc.religion.christian\n",
      "'OpenGL on the GPU is fast' => comp.graphics\n"
     ]
    }
   ],
   "source": [
    "docs_new = ['God is love', 'OpenGL on the GPU is fast']\n",
    "X_new_counts = count_vect.transform(docs_new)\n",
    "X_new_tfidf = tfidf_transformer.transform(X_new_counts)\n",
    "\n",
    "predicted = clf.predict(X_new_tfidf)\n",
    "\n",
    "for doc, category in zip(docs_new, predicted):\n",
    "     print('%r => %s' % (doc, twenty_train.target_names[category]))\n"
   ]
  },
  {
   "cell_type": "markdown",
   "metadata": {},
   "source": [
    "## Building a pipeline\n",
    "In order to make the vectorizer => transformer => classifier easier to work with, scikit-learn provides a Pipeline class that behaves like a compound classifier:"
   ]
  },
  {
   "cell_type": "code",
   "execution_count": 266,
   "metadata": {
    "collapsed": true
   },
   "outputs": [],
   "source": [
    "from sklearn.pipeline import Pipeline\n",
    "import sklearn.preprocessing as pp\n",
    "\n",
    "text_clf = Pipeline([\n",
    "    ('vect', CountVectorizer()),\n",
    "    ('tfidf', TfidfTransformer()),\n",
    "    ('clf', MultinomialNB()),\n",
    "])"
   ]
  },
  {
   "cell_type": "markdown",
   "metadata": {},
   "source": [
    "The names **vect**, **tfidf** and **clf (classifier)** are arbitrary. We will use them to perform **grid search** for suitable **hyperparameters** below. We can now train the model with a single command:"
   ]
  },
  {
   "cell_type": "code",
   "execution_count": 267,
   "metadata": {},
   "outputs": [
    {
     "data": {
      "text/plain": [
       "Pipeline(memory=None,\n",
       "     steps=[('vect', CountVectorizer(analyzer='word', binary=False, decode_error='strict',\n",
       "        dtype=<class 'numpy.int64'>, encoding='utf-8', input='content',\n",
       "        lowercase=True, max_df=1.0, max_features=None, min_df=1,\n",
       "        ngram_range=(1, 1), preprocessor=None, stop_words=None,\n",
       "        strip...inear_tf=False, use_idf=True)), ('clf', MultinomialNB(alpha=1.0, class_prior=None, fit_prior=True))])"
      ]
     },
     "execution_count": 267,
     "metadata": {},
     "output_type": "execute_result"
    }
   ],
   "source": [
    "text_clf.fit(twenty_train.data, twenty_train.target)"
   ]
  },
  {
   "cell_type": "markdown",
   "metadata": {},
   "source": [
    "## Evaluation of the performance on the test set\n",
    "Evaluating the predictive accuracy of the model is equally easy:"
   ]
  },
  {
   "cell_type": "code",
   "execution_count": 29,
   "metadata": {},
   "outputs": [
    {
     "data": {
      "text/plain": [
       "0.8348868175765646"
      ]
     },
     "execution_count": 29,
     "metadata": {},
     "output_type": "execute_result"
    }
   ],
   "source": [
    "import numpy as np\n",
    "\n",
    "twenty_test = fetch_20newsgroups(subset='test',\n",
    "    categories=categories, shuffle=True, random_state=42)\n",
    "\n",
    "#fetching the test data set, categories are the same\n",
    "\n",
    "docs_test = twenty_test.data\n",
    "predicted = text_clf.predict(docs_test)\n",
    "np.mean(predicted == twenty_test.target) \n",
    "\n",
    "#gives 83% accuracy for multinomial classifer"
   ]
  },
  {
   "cell_type": "markdown",
   "metadata": {},
   "source": [
    "We achieved 83.5% accuracy. Let’s see if we can do better with a **linear support vector machine (SVM)**, which is widely regarded as one of the best text classification algorithms (although it’s also a bit slower than naïve Bayes). We can change the learner by simply plugging a different classifier object into our pipeline:"
   ]
  },
  {
   "cell_type": "code",
   "execution_count": 30,
   "metadata": {},
   "outputs": [
    {
     "data": {
      "text/plain": [
       "0.9127829560585885"
      ]
     },
     "execution_count": 30,
     "metadata": {},
     "output_type": "execute_result"
    }
   ],
   "source": [
    "from sklearn.linear_model import SGDClassifier\n",
    "\n",
    "text_clf = Pipeline([\n",
    "    ('vect', CountVectorizer()),\n",
    "    ('tfidf', TfidfTransformer()),\n",
    "    ('clf', SGDClassifier(loss='hinge', penalty='l2',\n",
    "                          alpha=1e-3, random_state=42,\n",
    "                          max_iter=5, tol=None)),\n",
    "])\n",
    "\n",
    "text_clf.fit(twenty_train.data, twenty_train.target)  \n",
    "\n",
    "predicted = text_clf.predict(docs_test)\n",
    "np.mean(predicted == twenty_test.target) \n",
    "\n",
    "#accuracy increased for SVM"
   ]
  },
  {
   "cell_type": "markdown",
   "metadata": {},
   "source": [
    "We achieved 91.3% accuracy using the SVM. scikit-learn provides further utilities for more detailed performance analysis of the results:"
   ]
  },
  {
   "cell_type": "code",
   "execution_count": 31,
   "metadata": {},
   "outputs": [
    {
     "name": "stdout",
     "output_type": "stream",
     "text": [
      "                        precision    recall  f1-score   support\n",
      "\n",
      "           alt.atheism       0.95      0.81      0.87       319\n",
      "         comp.graphics       0.88      0.97      0.92       389\n",
      "               sci.med       0.94      0.90      0.92       396\n",
      "soc.religion.christian       0.90      0.95      0.93       398\n",
      "\n",
      "           avg / total       0.92      0.91      0.91      1502\n",
      "\n"
     ]
    }
   ],
   "source": [
    "from sklearn import metrics\n",
    "\n",
    "print(metrics.classification_report(twenty_test.target, predicted,\n",
    "    target_names=twenty_test.target_names))"
   ]
  },
  {
   "cell_type": "code",
   "execution_count": 32,
   "metadata": {},
   "outputs": [
    {
     "data": {
      "text/plain": [
       "array([[258,  11,  15,  35],\n",
       "       [  4, 379,   3,   3],\n",
       "       [  5,  33, 355,   3],\n",
       "       [  5,  10,   4, 379]], dtype=int64)"
      ]
     },
     "execution_count": 32,
     "metadata": {},
     "output_type": "execute_result"
    }
   ],
   "source": [
    "metrics.confusion_matrix(twenty_test.target, predicted)\n",
    "# 35 - atheism as has been classfified as christian for max num of times"
   ]
  },
  {
   "cell_type": "markdown",
   "metadata": {},
   "source": [
    "As expected the confusion matrix shows that posts from the newsgroups on atheism and Christianity are more often confused for one another than with computer graphics."
   ]
  },
  {
   "cell_type": "markdown",
   "metadata": {},
   "source": [
    "## Parameter tuning using grid search\n",
    "We’ve already encountered some parameters such as **use_idf in the TfidfTransformer**. Classifiers tend to have many parameters as well; e.g., **MultinomialNB includes a smoothing parameter alpha and SGDClassifier has a penalty parameter alpha** and configurable loss and penalty terms in the objective function (see the module documentation, or use the Python help function to get a description of these).\n",
    "\n",
    "**Instead of tweaking the parameters of the various components of the chain, it is possible to run an exhaustive search of the best parameters on a grid of possible values. We try out all classifiers on either words or bigrams, with or without idf, and with a penalty parameter of either 0.01 or 0.001 for the linear SVM:**"
   ]
  },
  {
   "cell_type": "code",
   "execution_count": 37,
   "metadata": {
    "collapsed": true
   },
   "outputs": [],
   "source": [
    "from sklearn.model_selection import GridSearchCV\n",
    "parameters = {\n",
    "    'vect__ngram_range': [(1, 1), (1, 2)],\n",
    "    'tfidf__use_idf': (True, False),\n",
    "    'clf__alpha': (1e-2, 1e-3),\n",
    "}"
   ]
  },
  {
   "cell_type": "code",
   "execution_count": 38,
   "metadata": {
    "collapsed": true
   },
   "outputs": [],
   "source": [
    "'''Parallel Execution with the n_jobs parameter. If we give this parameter a value of -1, grid search will detect how many\n",
    "cores are installed and use them all'''\n",
    "\n",
    "gs_clf = GridSearchCV(text_clf, parameters, cv=5, iid=False, n_jobs=-1)"
   ]
  },
  {
   "cell_type": "code",
   "execution_count": 39,
   "metadata": {
    "collapsed": true
   },
   "outputs": [],
   "source": [
    "#Let’s perform the search on a smaller subset of the training data to speed up the computation:\n",
    "gs_clf = gs_clf.fit(twenty_train.data[:400], twenty_train.target[:400])"
   ]
  },
  {
   "cell_type": "code",
   "execution_count": 40,
   "metadata": {},
   "outputs": [
    {
     "data": {
      "text/plain": [
       "'soc.religion.christian'"
      ]
     },
     "execution_count": 40,
     "metadata": {},
     "output_type": "execute_result"
    }
   ],
   "source": [
    "#Prediction\n",
    "twenty_train.target_names[gs_clf.predict(['God is love'])[0]]\n",
    "#'soc.religion.christian'"
   ]
  },
  {
   "cell_type": "code",
   "execution_count": 45,
   "metadata": {},
   "outputs": [
    {
     "name": "stdout",
     "output_type": "stream",
     "text": [
      "best score is 0.9151349867929058\n",
      "clf__alpha: 0.001\n",
      "tfidf__use_idf: True\n",
      "vect__ngram_range: (1, 2)\n"
     ]
    }
   ],
   "source": [
    "\"\"\"The object’s best_score_ and best_params_ attributes store the best mean score and the parameters setting corresponding\n",
    "to that score:\"\"\"\n",
    "\n",
    "print (\"best score is {}\".format(gs_clf.best_score_))\n",
    "\n",
    "for param_name in sorted(parameters.keys()):\n",
    "    print(\"%s: %r\" % (param_name, gs_clf.best_params_[param_name]))\n",
    "\n",
    "\n"
   ]
  },
  {
   "cell_type": "markdown",
   "metadata": {},
   "source": [
    "## HOMEWORK\n"
   ]
  },
  {
   "cell_type": "code",
   "execution_count": 43,
   "metadata": {
    "collapsed": true
   },
   "outputs": [],
   "source": [
    "import matplotlib.pyplot as plt\n",
    "import numpy as np\n",
    "from sklearn import datasets, linear_model\n",
    "from sklearn.metrics import mean_squared_error\n",
    "\n",
    "# Load the diabetes dataset\n",
    "diabetes = datasets.load_diabetes()\n",
    "\n",
    "# Use only one feature\n",
    "diabetes_X = diabetes.data[:, np.newaxis, 2]\n",
    "\n",
    "# Split the data train-test (80-20) into training/testing sets\n",
    "\n",
    "# Split the targets train-test (80-20) into training/testing sets\n",
    "\n",
    "# Create linear regression object using .LinearRegression()\n",
    "\n",
    "# Train the model using the training sets using .fit\n",
    "\n",
    "# Make predictions using the testing set using .predict\n",
    "\n",
    "#Calculate The mean squared error using mean_squared_error"
   ]
  },
  {
   "cell_type": "code",
   "execution_count": null,
   "metadata": {
    "collapsed": true
   },
   "outputs": [],
   "source": []
  },
  {
   "cell_type": "code",
   "execution_count": null,
   "metadata": {
    "collapsed": true
   },
   "outputs": [],
   "source": []
  },
  {
   "cell_type": "markdown",
   "metadata": {
    "slideshow": {
     "slide_type": "slide"
    }
   },
   "source": [
    "## Resources\n",
    "- https://nbviewer.jupyter.org/github/python-visualization/folium/tree/master/examples/\n",
    "- https://github.com/python-visualization/folium\n",
    "- https://github.com/python-visualization/folium/tree/master/examples\n",
    "- https://www.kaggle.com/daveianhickey/how-to-folium-for-maps-heatmaps-time-analysis\n",
    "- https://python-visualization.github.io/folium/"
   ]
  }
 ],
 "metadata": {
  "celltoolbar": "Slideshow",
  "kernelspec": {
   "display_name": "Python 3",
   "language": "python",
   "name": "python3"
  },
  "language_info": {
   "codemirror_mode": {
    "name": "ipython",
    "version": 3
   },
   "file_extension": ".py",
   "mimetype": "text/x-python",
   "name": "python",
   "nbconvert_exporter": "python",
   "pygments_lexer": "ipython3",
   "version": "3.6.2"
  }
 },
 "nbformat": 4,
 "nbformat_minor": 2
}
