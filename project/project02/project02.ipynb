{
 "cells": [
  {
   "cell_type": "markdown",
   "metadata": {},
   "source": [
    "# Project 02: College Scorecard Data\n",
    "\n",
    "### Due Date (Checkpoint): Wed 02/20/19 at Noon\n",
    "\n",
    "### Due Date (Final): Wed 02/27/19 at Noon\n",
    "\n",
    "---\n",
    "\n",
    "This project consists of **two deadlines**:\n",
    "\n",
    "* There is a **CHECKPOINT DEADLINE on Wednesday Feb 20 at Noon**. The problems due for the checkpoint are **problems 1,2,4,5**. While this deadline is the day before the midterm, these questions were written to be good practice for the midterm! They will be graded with \"easier\" tests and will be graded more thoroughly upon final submission. Submit the checkpoint to the `project02_checkpoint` assignment.\n",
    "\n",
    "* The final due date is on **Wednesday Feb 27 at Noon**. The project should be:\n",
    "    - submitted to the gradescope programming assignment `project02` and \n",
    "    - **saved to pdf** and uploaded to the `project02_free_response` gradescope assignment.\n",
    "\n",
    "---\n",
    "\n",
    "Project parts:\n",
    "\n",
    "1. The first part of project consists of questions much like previous assignments; they will be autograded like all of our assignments. There are many optional \"verify these observations for yourself\" comments that do not need to be turned in. However, understanding these observations is the entire point of the functions that you're creating and will also help you with part 2 of the project.\n",
    "\n",
    "2. The second part of the project consists of **self-directed EDA** that builds upon your understanding developed in part 1. This portion of the assignment makes-up **25% of the project grade**. You will be graded not only on the completeness of your EDA, but on the questions and observations themselves. The observations should be compelling, reasoned, and supported with data.\n",
    "\n",
    "AGAIN: **DO NOT MISS THE FREE RESPONSE AT THE BOTTOM OF THE NOTEBOOK**"
   ]
  },
  {
   "cell_type": "code",
   "execution_count": 1,
   "metadata": {},
   "outputs": [],
   "source": [
    "import numpy as np\n",
    "import pandas as pd\n",
    "import os"
   ]
  },
  {
   "cell_type": "code",
   "execution_count": 2,
   "metadata": {},
   "outputs": [],
   "source": [
    "%matplotlib inline\n",
    "import folium\n",
    "import seaborn as sns"
   ]
  },
  {
   "cell_type": "code",
   "execution_count": 3,
   "metadata": {},
   "outputs": [],
   "source": [
    "%load_ext autoreload\n",
    "%autoreload 2"
   ]
  },
  {
   "cell_type": "code",
   "execution_count": 4,
   "metadata": {},
   "outputs": [],
   "source": [
    "import project02 as proj"
   ]
  },
  {
   "cell_type": "markdown",
   "metadata": {},
   "source": [
    "# Introduction: College Scorecard Data\n",
    "\n",
    "This project looks at the [College Scorecard Data](https://collegescorecard.ed.gov/) that we briefly look at in HW02.\n",
    "\n",
    "The data you'll be using is found in the `data` directory of the project, but you can find both more data as well as extensive documentation [here](https://collegescorecard.ed.gov/data/).\n",
    "\n",
    "The data contain extensive information of every post-secondary institution of learning in the United States. \n",
    "* Part 1 of this project will explore this college landscape through the basic and most important fields in the dataset.\n",
    "* Part 2 consists of a **self-directed** EDA project.\n",
    "\n",
    "While some of the fields in the dataset are easily understood upon reading the data dictionary, there are two very important fields that describe *foundational attributes* of the college landscape in the US. In the dataset, these are:\n",
    "1. `CONTROL`: The control-type of the institution. Whether the school is a publicly funded institution (like UCSD), a private non-profit institution (like Harvard), or a for-profit institution (like the University of Phoenix). For-profit institutions in particular have often been accused of financially taking advantage of their student-body.\n",
    "2. `PREDDEG`: The predominant degree awarded at the institution. These are either (1) certificate programs, like trade schools, (2) 2-year associate degrees (awarded from junior colleges), (3) bachelor degree granting institutions, and (4) graduate degree granting institutions (excluded from our data).\n",
    "\n",
    "These fields are *very* important to understanding the line of questions that the project takes. I'd encourage you to do some outside research if you don't know about these topics.\n",
    "\n",
    "For example:\n",
    "* The [US student loan crisis](https://www.nytimes.com/interactive/2018/08/25/opinion/sunday/student-debt-loan-default-college.html)\n",
    "* [Beauty schools and student debt](https://www.nytimes.com/2018/12/26/business/cosmetology-school-debt-iowa.html)\n",
    "\n",
    "Below, the dataset is imported for you:"
   ]
  },
  {
   "cell_type": "code",
   "execution_count": 6,
   "metadata": {},
   "outputs": [],
   "source": [
    "college_path = os.path.join('data', 'MERGED2016_17_PP.csv')\n",
    "college = pd.read_csv(college_path)"
   ]
  },
  {
   "cell_type": "markdown",
   "metadata": {},
   "source": [
    "# The Data Dictionary\n",
    "\n",
    "First, we need to understand what is in the dataset. There is an excel file with a description of what's in the dataset. Open it *in Pandas* and take at its structure. \n",
    "\n",
    "The college scorecard is a very *wide* dataset; there are ~7000 schools, with over 100 columns. In the \"full data\" there are over 1000 columns. Being able to search and parse the data dictionary with Pandas is very necessary for working with the full data!"
   ]
  },
  {
   "cell_type": "code",
   "execution_count": 7,
   "metadata": {},
   "outputs": [],
   "source": [
    "datadict_path = os.path.join('data', 'CollegeScorecardDataDictionary.xlsx')\n",
    "\n",
    "datadict = pd.read_excel(datadict_path, sheet_name='data_dictionary')"
   ]
  },
  {
   "cell_type": "markdown",
   "metadata": {},
   "source": [
    "As observed in homework 2, the college scorecard dataset has a number of 'integer-coded nominal fields'. Two of the most important codes are:\n",
    "* `PREDDEG` is the \"predominant degree type awarded\" by the college, and\n",
    "* `CONTROL` is the \"control of the institution\" (e.g. public school).\n",
    "\n",
    "The mapping of integers (\"value\") to descriptions (\"label\") is given in the data-dictionary. We would like to replace the integers-codes in the `college` dataset with their string values to make it more readable for our visualization and analysis. \n",
    "\n",
    "**Question 1**\n",
    "\n",
    "While this question is a repeat of a question from HW02, you should try to improve your answer from that HW. In particular you should write your solution *without* loops - this question is good midterm practice!\n",
    "\n",
    "Create a function `translation_dict` that takes in a dataframe of the form of `datadict` and outputs a dictionary satisfying the following conditions:\n",
    "\n",
    "1. The keys are the column names of `colleges` that are strings encoded as integers (i.e. columns for which `VALUE` and `LABEL` in `datadict` are non-empty).\n",
    "2. The values are also dictionaries; each has keys given by `VALUE` and values `LABEL`.\n",
    "\n",
    "*Note*: This time, **do *not* use loops** in `translation_dict`. The `fillna` and `groupby` methods should help do this!\n",
    "\n",
    "Once this dictionary is constructed, it can be fed into Pandas DataFrame `.replace` method."
   ]
  },
  {
   "cell_type": "code",
   "execution_count": null,
   "metadata": {},
   "outputs": [],
   "source": []
  },
  {
   "cell_type": "code",
   "execution_count": null,
   "metadata": {},
   "outputs": [],
   "source": []
  },
  {
   "cell_type": "code",
   "execution_count": null,
   "metadata": {},
   "outputs": [],
   "source": []
  },
  {
   "cell_type": "markdown",
   "metadata": {},
   "source": [
    "# College Scorecard EDA: Understanding the US college landscape\n",
    "\n",
    "First we want to understand what the state of post-secondary education looks like in the US. We'd like to know things like:\n",
    "1. How many schools are there? what types of institutions are they? where are they?\n",
    "2. How many students attends these schools? What sort of institutions do most students attend?\n",
    "3. What are these school teaching students? Do most students attend a trade school or a classic university?\n",
    "\n",
    "In this preliminary EDA section, we will largely concern ourselves with the following *core* columns given in the list `basic_cols` (found in `project02.py` and imported below)."
   ]
  },
  {
   "cell_type": "code",
   "execution_count": 9,
   "metadata": {},
   "outputs": [],
   "source": [
    "basic_cols = proj.BASIC_COLS"
   ]
  },
  {
   "cell_type": "code",
   "execution_count": 10,
   "metadata": {},
   "outputs": [
    {
     "data": {
      "text/html": [
       "<div>\n",
       "<style scoped>\n",
       "    .dataframe tbody tr th:only-of-type {\n",
       "        vertical-align: middle;\n",
       "    }\n",
       "\n",
       "    .dataframe tbody tr th {\n",
       "        vertical-align: top;\n",
       "    }\n",
       "\n",
       "    .dataframe thead th {\n",
       "        text-align: right;\n",
       "    }\n",
       "</style>\n",
       "<table border=\"1\" class=\"dataframe\">\n",
       "  <thead>\n",
       "    <tr style=\"text-align: right;\">\n",
       "      <th></th>\n",
       "      <th>0</th>\n",
       "      <th>1</th>\n",
       "      <th>2</th>\n",
       "      <th>3</th>\n",
       "      <th>4</th>\n",
       "    </tr>\n",
       "  </thead>\n",
       "  <tbody>\n",
       "    <tr>\n",
       "      <th>UNITID</th>\n",
       "      <td>100654</td>\n",
       "      <td>100663</td>\n",
       "      <td>100690</td>\n",
       "      <td>100706</td>\n",
       "      <td>100724</td>\n",
       "    </tr>\n",
       "    <tr>\n",
       "      <th>OPEID</th>\n",
       "      <td>100200</td>\n",
       "      <td>105200</td>\n",
       "      <td>2503400</td>\n",
       "      <td>105500</td>\n",
       "      <td>100500</td>\n",
       "    </tr>\n",
       "    <tr>\n",
       "      <th>OPEID6</th>\n",
       "      <td>1002</td>\n",
       "      <td>1052</td>\n",
       "      <td>25034</td>\n",
       "      <td>1055</td>\n",
       "      <td>1005</td>\n",
       "    </tr>\n",
       "    <tr>\n",
       "      <th>INSTNM</th>\n",
       "      <td>Alabama A &amp; M University</td>\n",
       "      <td>University of Alabama at Birmingham</td>\n",
       "      <td>Amridge University</td>\n",
       "      <td>University of Alabama in Huntsville</td>\n",
       "      <td>Alabama State University</td>\n",
       "    </tr>\n",
       "    <tr>\n",
       "      <th>ZIP</th>\n",
       "      <td>35762</td>\n",
       "      <td>35294-0110</td>\n",
       "      <td>36117-3553</td>\n",
       "      <td>35899</td>\n",
       "      <td>36104-0271</td>\n",
       "    </tr>\n",
       "    <tr>\n",
       "      <th>LATITUDE</th>\n",
       "      <td>34.7834</td>\n",
       "      <td>33.5057</td>\n",
       "      <td>32.3626</td>\n",
       "      <td>34.7246</td>\n",
       "      <td>32.3643</td>\n",
       "    </tr>\n",
       "    <tr>\n",
       "      <th>LONGITUDE</th>\n",
       "      <td>-86.5685</td>\n",
       "      <td>-86.7993</td>\n",
       "      <td>-86.174</td>\n",
       "      <td>-86.6404</td>\n",
       "      <td>-86.2957</td>\n",
       "    </tr>\n",
       "    <tr>\n",
       "      <th>CONTROL</th>\n",
       "      <td>1</td>\n",
       "      <td>1</td>\n",
       "      <td>2</td>\n",
       "      <td>1</td>\n",
       "      <td>1</td>\n",
       "    </tr>\n",
       "    <tr>\n",
       "      <th>PREDDEG</th>\n",
       "      <td>3</td>\n",
       "      <td>3</td>\n",
       "      <td>3</td>\n",
       "      <td>3</td>\n",
       "      <td>3</td>\n",
       "    </tr>\n",
       "    <tr>\n",
       "      <th>UGDS</th>\n",
       "      <td>4616</td>\n",
       "      <td>12047</td>\n",
       "      <td>293</td>\n",
       "      <td>6346</td>\n",
       "      <td>4704</td>\n",
       "    </tr>\n",
       "  </tbody>\n",
       "</table>\n",
       "</div>"
      ],
      "text/plain": [
       "                                  0                                    1  \\\n",
       "UNITID                       100654                               100663   \n",
       "OPEID                        100200                               105200   \n",
       "OPEID6                         1002                                 1052   \n",
       "INSTNM     Alabama A & M University  University of Alabama at Birmingham   \n",
       "ZIP                           35762                           35294-0110   \n",
       "LATITUDE                    34.7834                              33.5057   \n",
       "LONGITUDE                  -86.5685                             -86.7993   \n",
       "CONTROL                           1                                    1   \n",
       "PREDDEG                           3                                    3   \n",
       "UGDS                           4616                                12047   \n",
       "\n",
       "                            2                                    3  \\\n",
       "UNITID                 100690                               100706   \n",
       "OPEID                 2503400                               105500   \n",
       "OPEID6                  25034                                 1055   \n",
       "INSTNM     Amridge University  University of Alabama in Huntsville   \n",
       "ZIP                36117-3553                                35899   \n",
       "LATITUDE              32.3626                              34.7246   \n",
       "LONGITUDE             -86.174                             -86.6404   \n",
       "CONTROL                     2                                    1   \n",
       "PREDDEG                     3                                    3   \n",
       "UGDS                      293                                 6346   \n",
       "\n",
       "                                  4  \n",
       "UNITID                       100724  \n",
       "OPEID                        100500  \n",
       "OPEID6                         1005  \n",
       "INSTNM     Alabama State University  \n",
       "ZIP                      36104-0271  \n",
       "LATITUDE                    32.3643  \n",
       "LONGITUDE                  -86.2957  \n",
       "CONTROL                           1  \n",
       "PREDDEG                           3  \n",
       "UGDS                           4704  "
      ]
     },
     "execution_count": 10,
     "metadata": {},
     "output_type": "execute_result"
    }
   ],
   "source": [
    "college[basic_cols].head().T"
   ]
  },
  {
   "cell_type": "markdown",
   "metadata": {},
   "source": [
    "The dataset has a few identification numbers that are useful to understand:\n",
    "\n",
    "- `UNITID` is the unique identifier for an organization or school name given by the Integrated Postsecondary Education Data System (IPEDS). It is a unique in this dataset (check this!)\n",
    "- `OPEID` is the Office of Postsecondary Education Identification code. It is a unique identifier for a school and is unique in this dataset (check this!)\n",
    "- `OPEID6` is the OPEID code *without the last two digits*. Schools with the same `OPEID6` are run under the same umbrella organization. Look up schools with the same `OPEID6` and compare their names."
   ]
  },
  {
   "cell_type": "markdown",
   "metadata": {},
   "source": [
    "**Question 2**\n",
    "\n",
    "Compute the following statistics on the dataset:\n",
    "* How many schools are there?\n",
    "* How many [satellite campuses](https://en.wikipedia.org/wiki/Satellite_campus) are there? (look at the `OPEID` columns; this should include the main campus)\n",
    "* How many undergraduate students are there in the US?\n",
    "* What is the average (mean) student population of a university in the US?\n",
    "\n",
    "Create a function `basic_stats` that takes in `college` and returns a Series of the above statistics index by:\n",
    "```\n",
    "['num_schools', 'num_satellite', 'num_students', 'avg_univ_size']\n",
    "```\n",
    "\n",
    "Plot a histogram of the number of schools of a given size (in students) consisting of 20 bins and a log-scaled y-axis. Create this plot via a function `plot_school_sizes` that takes in `college` and returns a `matplotlib.axes` object."
   ]
  },
  {
   "cell_type": "code",
   "execution_count": null,
   "metadata": {},
   "outputs": [],
   "source": []
  },
  {
   "cell_type": "code",
   "execution_count": null,
   "metadata": {},
   "outputs": [],
   "source": []
  },
  {
   "cell_type": "code",
   "execution_count": null,
   "metadata": {},
   "outputs": [],
   "source": []
  },
  {
   "cell_type": "markdown",
   "metadata": {},
   "source": [
    "**Question to consider (not graded)**: Does it make sense to aggregate the dataset so that the individual datum being considered is a single campus (i.e. a row in `college`) or a campus including it's satellites? What are two lines of investigation that would require considering one versus the other?"
   ]
  },
  {
   "cell_type": "markdown",
   "metadata": {},
   "source": [
    "**Question 3**\n",
    "\n",
    "Now we'd like to understand the extent to which the colleges are skewed toward small schools versus large schools. This question will answer \"how many of the smallest schools does it take to equal the size of the `k` largest schools?\"\n",
    "\n",
    "Create a function `num_of_small_schools` that takes in `college` and a number `k`, and returns the number of the smallest schools in `college` whose undergraduate student bodies sum to the size of the `k` largest schools.\n",
    "\n",
    "*Hint:* You may find the `.cumsum()` method useful!"
   ]
  },
  {
   "cell_type": "code",
   "execution_count": null,
   "metadata": {},
   "outputs": [],
   "source": []
  },
  {
   "cell_type": "code",
   "execution_count": null,
   "metadata": {},
   "outputs": [],
   "source": []
  },
  {
   "cell_type": "markdown",
   "metadata": {},
   "source": [
    "## Control Type and Predominant Degree\n",
    "\n",
    "**Question 4**\n",
    "\n",
    "Now we want to understand two of the most influential fields in the dataset: `CONTOL` and `PREDDEG`.\n",
    "\n",
    "* Create a function `col_pop_stats` that takes in `college` and a categorical column `col`, outputs a dataframe indexed by values of `col` with columns:\n",
    "    - `size` representing the number of colleges in each category of `col`,\n",
    "    - `sum` representing the total undergraduate population in each category of `col`,\n",
    "    - `mean` representing the mean school size in each category of `col`\n",
    "    - `median` representing the median school size in each category of `col`.\n",
    "    \n",
    "* Create a function `col_pop_stats_plot` that takes in a dataframe like the output of `col_pop_stats` and the dataframe `datadict`, returning a `matplotlib.axes` that produces a plot as below.\n",
    "\n",
    "<img src=\"imgs/q4.png\" width=\"25%\">\n",
    "\n",
    "Use your plot to understand the `CONTROL` and `PREDDEG` columns. Which colleges tend to be large? Which ones tend to be small? Verify these for yourself!"
   ]
  },
  {
   "cell_type": "code",
   "execution_count": null,
   "metadata": {},
   "outputs": [],
   "source": []
  },
  {
   "cell_type": "code",
   "execution_count": null,
   "metadata": {},
   "outputs": [],
   "source": []
  },
  {
   "cell_type": "code",
   "execution_count": null,
   "metadata": {},
   "outputs": [],
   "source": [
    "\n"
   ]
  },
  {
   "cell_type": "markdown",
   "metadata": {},
   "source": [
    "**Question 5**\n",
    "\n",
    "* Create a function `control_preddeg_stats` that takes in `college` and a function $f:\\text{pd.Series}\\to\\text{value}$, and outputs a dataframe:\n",
    "    - indexed by values of `CONTROL`\n",
    "    - with columns labeled by values of `PREDDEG`\n",
    "    - the values of which are $f$ applied to `UGDS` for colleges of the given `CONTROL` and `PREDDEG`.\n",
    "\n",
    "For example, if $f$ is `lambda x:x.sum()`, then the output would be a dataframe giving the number of undergraduates attending each `CONTROL`,`PREDDEG` pair.\n",
    "\n",
    "* Create a function `control_preddeg_stats_plot` that takes in a dataframe like the output of `control_preddeg_stats`, returning a `matplotlib.axes` that produces a plot as below.\n",
    "\n",
    "<img src=\"imgs/q5.png\" width=\"25%\">\n",
    "\n",
    "\n",
    "Use this to understand the `CONTROL` and `PREDDEG` with respect to:\n",
    "1. the number of colleges for each pair,\n",
    "2. the number of students attending each pair,\n",
    "3. the median size of a college of each `CONTROL`/`PREDDEG` combination,\n",
    "3. the mean size of a college of each `CONTROL`/`PREDDEG` combination.\n"
   ]
  },
  {
   "cell_type": "code",
   "execution_count": null,
   "metadata": {},
   "outputs": [],
   "source": []
  },
  {
   "cell_type": "code",
   "execution_count": null,
   "metadata": {},
   "outputs": [],
   "source": [
    "\n"
   ]
  },
  {
   "cell_type": "code",
   "execution_count": null,
   "metadata": {},
   "outputs": [],
   "source": []
  },
  {
   "cell_type": "markdown",
   "metadata": {},
   "source": [
    "## State-by-State Analysis\n",
    "\n",
    "Next we'd like to understand what the college landscape looks like by state. Verify for yourself (non-required) the basic analyses above by state.\n",
    "\n",
    "**Question 6**\n",
    "\n",
    "Now, we'd like to understand the *where* the colleges are on a map, where most the public/private/for profit colleges are located, and how large they are. To begin, plot a scatterplot of the colleges via their latitude and longitude in the xy-plane; you should see an outline of the US implicit in the plot.\n",
    "\n",
    "Specifically, create a function `scatterplot_us` that takes in `college` and outputs a `matplotlib.axes` object that meets the following requirements:\n",
    "* Each school in the *lower 48 states, plus DC* should be plotted at its latitude/longitude.\n",
    "* The CONTROL should be encoded by an appropriate set of colors for its kind of data.\n",
    "* The size of the institution should be coded in dot size.\n",
    "* The title should be `Undergraduate Institutions`\n",
    "\n",
    "<img src=\"imgs/scatterplot.png\" width=\"25%\">\n",
    "\n",
    "*Note:* The CONTROL values have underscores because of a bug in seaborn that tries to coerce a value to float to (incorrectly) determine if the data is quantitative or categorical."
   ]
  },
  {
   "cell_type": "code",
   "execution_count": null,
   "metadata": {},
   "outputs": [],
   "source": []
  },
  {
   "cell_type": "code",
   "execution_count": null,
   "metadata": {},
   "outputs": [],
   "source": []
  },
  {
   "cell_type": "markdown",
   "metadata": {},
   "source": [
    "### Percent of state population\n",
    "\n",
    "**Question 7**\n",
    "\n",
    "It's natural that some states would have more schools than others, as certain states are larger than others. In this question, use `folium` to plot a choropleth map of the number of college as a percentage of each states population. That is, plot a map where each state is colored by the following ratio: \n",
    "```\n",
    "(number of college students in state) / (number of residents in state)\n",
    "```\n",
    "This is *not* the percentage of the state population that's enrolled in college, due to that fact that college students are often not residents of the state. However, it is still a reasonable proxy, as larger states do have more of residents to educate.\n",
    "\n",
    "Your folium map should look similar to the unemployment example in lecture; your bins should be given by the standard quartiles.\n",
    "\n",
    "Create a function of zero variables `plot_folium` that returns a dictionary keyed by the `keyword args` for the `choropleth` method, and whose values are the inputs for creating your map. You function should read in all the necessary data from disk (you may assume the data will be in the `data` directory).\n",
    "\n",
    "Additionally, save your map to a file in the same directory as your `project02.py` called `pct_students_by_state.html` and be sure it's uploaded to Gradescope.\n"
   ]
  },
  {
   "cell_type": "code",
   "execution_count": 25,
   "metadata": {},
   "outputs": [],
   "source": [
    "# read in data/state_fips\n",
    "fips = ..."
   ]
  },
  {
   "cell_type": "code",
   "execution_count": 26,
   "metadata": {},
   "outputs": [],
   "source": [
    "# read in census populations: data/population-2017.csv\n",
    "states = ..."
   ]
  },
  {
   "cell_type": "code",
   "execution_count": 43,
   "metadata": {},
   "outputs": [],
   "source": [
    "# read in geojson file data/gz_2010_us_040_00_5m.json\n",
    "state_geo = ..."
   ]
  },
  {
   "cell_type": "code",
   "execution_count": 27,
   "metadata": {
    "scrolled": true
   },
   "outputs": [],
   "source": [
    "# plot your map and save it to file!"
   ]
  },
  {
   "cell_type": "code",
   "execution_count": null,
   "metadata": {},
   "outputs": [],
   "source": []
  },
  {
   "cell_type": "code",
   "execution_count": 29,
   "metadata": {},
   "outputs": [],
   "source": []
  },
  {
   "cell_type": "markdown",
   "metadata": {},
   "source": [
    "**Question 8**\n",
    "\n",
    "Next, we would like to address whether certain states create more favorable conditions for one control type over others. We will investigate this by calculating the percentage of the colleges in each state by control-type.\n",
    "\n",
    "* That is, create a function `control_type_by_state` that takes in `college` and outputs the empirical distribution of `CONTROL` type conditional on state -- i.e. a dataframe indexed by `STABBR`, with columns labeled by the values of `CONTROL`. Include only college is the lower 48 states and Washington DC.\n",
    "\n",
    "* Now calculate the TVD of the conditional distributions with respect to the unconditional distribution of `CONTROL` across all colleges in the lower 48 states. Do this in a function `tvd_states` that takes in `college` and outputs a series indexed by states with values the TVD for each state, sorted by `tvd` in descending order.\n",
    "\n",
    "Take note which states are most unlike the 'average' state. *How are they different than the rest?*"
   ]
  },
  {
   "cell_type": "code",
   "execution_count": null,
   "metadata": {},
   "outputs": [],
   "source": []
  },
  {
   "cell_type": "code",
   "execution_count": null,
   "metadata": {},
   "outputs": [],
   "source": []
  },
  {
   "cell_type": "code",
   "execution_count": null,
   "metadata": {},
   "outputs": [],
   "source": []
  },
  {
   "cell_type": "code",
   "execution_count": null,
   "metadata": {},
   "outputs": [],
   "source": []
  },
  {
   "cell_type": "code",
   "execution_count": null,
   "metadata": {},
   "outputs": [],
   "source": []
  },
  {
   "cell_type": "markdown",
   "metadata": {},
   "source": [
    "### Trade Schools\n",
    "\n",
    "Many schools are \"specialty\" schools that only have a few areas of focus for students to study. These may be trade schools (e.g. culinary school) or schools that only focus on business and accounting. In this question, we will focus on understanding the quantity of specialty schools in the US and what their specialties they focus on.\n",
    "\n",
    "The subjects taken at a school are given in the `PCIPXX` columns where `XX` is a two digit number. Look in the data dictionary at the meaning of these fields.\n",
    "\n",
    "**Question 9**\n",
    "\n",
    "\n",
    "For the preliminary steps to doing the next question:\n",
    "Create a list of `PCIP` columns and slice off only those columns and plot the number of schools that have students taking at least `k` subjects (that is, k subjects columns are non-zero). What does this distribution look like? Is there a natural break?\n",
    "\n",
    "\n",
    "* Create a function `num_subjects` that takes in `college` and outputs a Series, indexed by `college.index`, which gives the number of subjects the school has at least one student taking.\n",
    "\n",
    "* Create a function `subject_counts` that takes in `college` and outputs a dataframe that contains the number of students attending schools of each control-type that offers `k` subjects. The output dataframe should:\n",
    "    - be indexed by the number of subjects offered at the school,\n",
    "    - have columns given by the three control types.\n",
    "\n",
    "Plot the output table for your own understanding (which control type has the most specialty school enrollment). Do the same for `PREDDEG` as well (ungraded).\n",
    "\n",
    "Define a specialty school as being a school that has students only taking focusing on a single subject. Now, we want to create a column that lists the specialty of the given schools.\n",
    "\n",
    "* Create a function `create_specialty` that takes in `college` and `datadict` and outputs a copy of `college` with an additional column called `SPECIALTY` that gives the specialty of a school. The value of the specialty should be the English description from the data dictionary (`LABEL`), not the code given by the column name (`VARIABLE`). If a school is not a specialty school, the value should be `NaN`.\n",
    "\n",
    "Take the output and verify the most common type of specialties among specialty schools? Additionally, how many students are enrolled at these specialty schools? (Verify for yourself)."
   ]
  },
  {
   "cell_type": "code",
   "execution_count": null,
   "metadata": {},
   "outputs": [],
   "source": []
  },
  {
   "cell_type": "code",
   "execution_count": null,
   "metadata": {},
   "outputs": [],
   "source": []
  },
  {
   "cell_type": "code",
   "execution_count": null,
   "metadata": {},
   "outputs": [],
   "source": []
  },
  {
   "cell_type": "markdown",
   "metadata": {},
   "source": [
    "### Completion Rate and Missingness (Extra Credit)\n",
    "\n",
    "**Please try me!**\n",
    "This extra credit is not too difficult and has opportunities for partial credit. It's given as extra credit largely because of the assignment length. It's a good opportunity for extra points!\n",
    "\n",
    "The completions rate for first-time, full-time students within 150% of the normal completion time is given by the field `C150_4_POOLED_SUPP`. This field is missing almost 60% of the time.\n",
    "\n",
    "We are interested in whether this completion rate is correlated to the amount of student debt students are paying off (given by `GRAD_DEBT_MDN_SUPP`). However, we need to fill in the missing values for the completion rate. Follow the steps below:\n",
    "1. Drop null values for `GRAD_DEBT_MDN_SUPP` to simplify things (very few are null).\n",
    "2. Verify that `C150_4_POOLED_SUPP` depends on `CONTROL` and `PREDDEG` via plots of conditional distributions.\n",
    "3. Do the imputation portion of a multiple imputation on `CONTROL` and `PREDDEG`. Impute from the empirical distributions 50 times for each variable (`CONTROL` and `PREDDEG`). Create a function `impute` that takes in `college` and outputs a dataframe of imputed values for the column `C150_4_POOLED_SUPP` as described above.\n",
    "4. Plot the distribution of means of the `C150_4_POOLED_SUPP` after imputation (i.e. the 100 means from above).\n",
    "5. Compute the 100 correlation coefficients from the imputations above and return the 95% confidence interval for those coefficients. Create a function `correlation_bootstrap` which takes in the imputed values from step 3 and returns the 95% confidence interval as described above."
   ]
  },
  {
   "cell_type": "code",
   "execution_count": null,
   "metadata": {},
   "outputs": [],
   "source": []
  },
  {
   "cell_type": "code",
   "execution_count": null,
   "metadata": {},
   "outputs": [],
   "source": []
  },
  {
   "cell_type": "code",
   "execution_count": null,
   "metadata": {},
   "outputs": [],
   "source": []
  },
  {
   "cell_type": "code",
   "execution_count": null,
   "metadata": {},
   "outputs": [],
   "source": []
  },
  {
   "cell_type": "code",
   "execution_count": null,
   "metadata": {},
   "outputs": [],
   "source": []
  },
  {
   "cell_type": "markdown",
   "metadata": {},
   "source": [
    "# Self-Directed EDA\n",
    "\n",
    "## Graded as 25% of the project\n",
    "\n",
    "In this section, you should pick some columns beyond the basic columns (in `basic_cols`), perform some EDA on those columns, and follow a line of investigation to make some interesting observations. Choose your line of investigation from the suggestions at the bottom of the cell.\n",
    "\n",
    "You may expand upon the sample questions as much as you'd like. Upon choosing a line of investigation, you are encouraged to do a little background research to understand the context of the problem.\n",
    "\n",
    "You should follow the guidelines for EDA in lecture and follow them! \n",
    "- You should engage in univariate and bivariate analysis.\n",
    "- Your plots should be understandable from just reading them (e.g. use descriptive titles, substitute integer codes for descriptions). \n",
    "- You should write **a summary paragraph** of your findings at the top of this section. Think of this as a thesis for a term paper. This paragraph should refer to evidence and analyses of the data performed below it. It should:\n",
    "    1. Address a question that is interesting enough to involve connections between multiple attributes,\n",
    "    2. State your question and summarize the findings of your investigation.\n",
    "    3. Address the shortcoming of your analysis (perhaps because of lack of information).\n",
    "    4. Address correlations and possible causation between variables, discussing possible confounders.\n",
    "- Include your work below the summary. Keep your work and code *clean* and **don't include long table outputs**. \n",
    "- **The only output that you display should be output you want to be graded on!**\n",
    "    \n",
    "Address one of the follow lines of investigation (expanding on them as you'd like!):\n",
    "* Begin with addresses one of the 'optional' questions addressed in the project and expand on it.\n",
    "* Connections between federally subsidized student loans and repayment/default rates. Are there institutions that seem to abuse the student loan program? Address confounders.\n",
    "* Connections between financial data (cost of tuition) and completion rates. How do loans fit into this picture?\n",
    "* Connections between SAT scores and completion rates. Where might you want to go to school given you know your SAT score? That is, what is the size, school type, and control of your 'ideal' institution. Address possible confounders.\n",
    "* Connections between the primary subjects studied (`PCIP`) and future earnings. In particular, can you understand the relationship between `CONTROL` type and future earnings while conditioning on the subject studied?\n",
    "* Who pays back their loans successfully? Can you connect this to a type of school? Be sure to address the economic background of students who typically attend such schools.\n",
    "\n",
    "Be sure to address your question on both a *school level*, as well as on a *student level*. Refer to the one that's most appropriate for your analysis (as we did in Part I)."
   ]
  },
  {
   "cell_type": "markdown",
   "metadata": {
    "scrolled": false
   },
   "source": [
    "---\n",
    "\n",
    "**Enter Your Text Summary Here / Display your work below**\n",
    "\n",
    "---"
   ]
  },
  {
   "cell_type": "code",
   "execution_count": null,
   "metadata": {},
   "outputs": [],
   "source": []
  },
  {
   "cell_type": "code",
   "execution_count": null,
   "metadata": {},
   "outputs": [],
   "source": []
  }
 ],
 "metadata": {
  "kernelspec": {
   "display_name": "Python 3",
   "language": "python",
   "name": "python3"
  },
  "language_info": {
   "codemirror_mode": {
    "name": "ipython",
    "version": 3
   },
   "file_extension": ".py",
   "mimetype": "text/x-python",
   "name": "python",
   "nbconvert_exporter": "python",
   "pygments_lexer": "ipython3",
   "version": "3.7.1"
  }
 },
 "nbformat": 4,
 "nbformat_minor": 2
}
