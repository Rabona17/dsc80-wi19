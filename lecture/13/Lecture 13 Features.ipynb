{
 "cells": [
  {
   "cell_type": "code",
   "execution_count": null,
   "metadata": {},
   "outputs": [],
   "source": [
    "%matplotlib inline\n",
    "\n",
    "import numpy as np\n",
    "import pandas as pd\n",
    "import matplotlib.pyplot as plt\n",
    "import seaborn as sns\n",
    "\n",
    "import warnings\n",
    "warnings.filterwarnings(\"ignore\")\n",
    "\n",
    "import util\n",
    "\n",
    "# set defaults\n",
    "plt.style.use('seaborn-white')   # seaborn custom plot style\n",
    "plt.rc('figure', dpi=100, figsize=(7, 5))   # set default size/resolution\n",
    "plt.rc('font', size=12)   # font size"
   ]
  },
  {
   "cell_type": "markdown",
   "metadata": {
    "slideshow": {
     "slide_type": "slide"
    }
   },
   "source": [
    "# Feature Engineering\n"
   ]
  },
  {
   "cell_type": "markdown",
   "metadata": {
    "slideshow": {
     "slide_type": "slide"
    }
   },
   "source": [
    "## Outline\n",
    "* Overview: Modeling and Estimation\n",
    "* Designing Features for your Model\n",
    "* Different Features for different Data Types"
   ]
  },
  {
   "cell_type": "markdown",
   "metadata": {
    "slideshow": {
     "slide_type": "slide"
    }
   },
   "source": [
    "## What have we done so far?\n",
    "\n",
    "* Data assessment and collection:\n",
    "    * The data generating processes and its relationship to observed data.\n",
    "    * Data collection techniques (web-scraping, apis)\n",
    "* Data cleaning and manipulation\n",
    "    * Pandas and Regex\n",
    "* Learned ways of understanding and summarizing data\n",
    "    * Smoothing techniques, visualization, TF-IDF"
   ]
  },
  {
   "cell_type": "markdown",
   "metadata": {
    "slideshow": {
     "slide_type": "slide"
    }
   },
   "source": [
    "## Features\n",
    "\n",
    "* A **feature** is a measurable property or characteristic of a phenomenon being observed.\n",
    "* Synonyms: (explanatory) variable, attribute\n",
    "* Examples include:\n",
    "    - a column of a dataset.\n",
    "    - a derived value from a dataset, perhaps using additional information.\n",
    "    \n",
    "We have been creating features to summarize data!"
   ]
  },
  {
   "cell_type": "markdown",
   "metadata": {
    "slideshow": {
     "slide_type": "slide"
    }
   },
   "source": [
    "### Examples of features in SD salary dataset\n",
    "\n",
    "* Salary of employee\n",
    "* Employee salaries, standardized by job status (PT/FT)\n",
    "* Gender/age of employees (derived from SSA names; accurate?)\n",
    "* Job Family associated to a job title (uses text-techniques)"
   ]
  },
  {
   "cell_type": "markdown",
   "metadata": {
    "slideshow": {
     "slide_type": "slide"
    }
   },
   "source": [
    "## What makes a good feature?\n",
    "\n",
    "* Fidelity to Data Generating Process (Consistency).\n",
    "* Strongly associated to phenomenon of interest (\"contains information\").\n",
    "* Easily used in standard modeling techniques (e.g. quantitative and scaled).\n",
    "\n",
    "Datasets often come with weak attributes; features may need to be \"engineered\" to convey information."
   ]
  },
  {
   "cell_type": "markdown",
   "metadata": {
    "slideshow": {
     "slide_type": "slide"
    }
   },
   "source": [
    "## Feature Engineering\n",
    "\n",
    "* We already engineered features to summarize and understand data.\n",
    "    - smoothing, transformations, ad hoc derived properties of data\n",
    "\n",
    "* What can we do with it?\n",
    "    - Visualization and summarization\n",
    "    - Modeling (prediction; inference)"
   ]
  },
  {
   "cell_type": "markdown",
   "metadata": {
    "slideshow": {
     "slide_type": "slide"
    }
   },
   "source": [
    "# Modeling: an Overview\n",
    "\n",
    "Slides: DS100 (Joseph E. Gonzalez)"
   ]
  },
  {
   "cell_type": "markdown",
   "metadata": {},
   "source": [
    "<img src=\"imgs/image_0.png\">"
   ]
  },
  {
   "cell_type": "markdown",
   "metadata": {
    "slideshow": {
     "slide_type": "slide"
    }
   },
   "source": [
    "<img src=\"imgs/image_1.png\">"
   ]
  },
  {
   "cell_type": "markdown",
   "metadata": {
    "slideshow": {
     "slide_type": "slide"
    }
   },
   "source": [
    "<img src=\"imgs/image_2.png\">"
   ]
  },
  {
   "cell_type": "markdown",
   "metadata": {},
   "source": [
    "## Provide insight into complex phenomena\n",
    "<img src=\"imgs/image_3.png\">"
   ]
  },
  {
   "cell_type": "markdown",
   "metadata": {},
   "source": [
    "<img src=\"imgs/image_4.png\">"
   ]
  },
  {
   "cell_type": "markdown",
   "metadata": {},
   "source": [
    "<img src=\"imgs/image_5.png\">"
   ]
  },
  {
   "cell_type": "markdown",
   "metadata": {},
   "source": [
    "<img src=\"imgs/image_6.png\">"
   ]
  },
  {
   "cell_type": "markdown",
   "metadata": {},
   "source": [
    "<img src=\"imgs/image_7.png\">"
   ]
  },
  {
   "cell_type": "markdown",
   "metadata": {},
   "source": [
    "<img src=\"imgs/image_8.png\">"
   ]
  },
  {
   "cell_type": "markdown",
   "metadata": {
    "slideshow": {
     "slide_type": "slide"
    }
   },
   "source": [
    "### Example: Restaurant Tips\n",
    "\n",
    "* Data: collected by a single waiter over a month\n",
    "* Why build a model?\n",
    "    - Predict which tables will tip the highest? (Optimize your service)\n",
    "    - Predict a watier's income for the year.\n",
    "    - Understand relationship between tables and tips."
   ]
  },
  {
   "cell_type": "code",
   "execution_count": null,
   "metadata": {},
   "outputs": [],
   "source": [
    "tips = sns.load_dataset('tips')\n",
    "print('number of records: ', len(tips))"
   ]
  },
  {
   "cell_type": "code",
   "execution_count": null,
   "metadata": {},
   "outputs": [],
   "source": [
    "tips.head()"
   ]
  },
  {
   "cell_type": "markdown",
   "metadata": {
    "slideshow": {
     "slide_type": "slide"
    }
   },
   "source": [
    "### Restaurant tips: EDA"
   ]
  },
  {
   "cell_type": "code",
   "execution_count": null,
   "metadata": {},
   "outputs": [],
   "source": [
    "fig, axes = plt.subplots(1,2, figsize=(12,5))\n",
    "\n",
    "sns.distplot(tips.total_bill, rug=True, ax=axes[0])\n",
    "axes[0].set_xlabel('total bill')\n",
    "\n",
    "sns.distplot(tips.tip, rug=True, ax=axes[1])\n",
    "axes[1].set_xlabel('tip in dollars')\n",
    "\n",
    "fig.suptitle('Understanding tips');"
   ]
  },
  {
   "cell_type": "markdown",
   "metadata": {},
   "source": [
    "#### Observations:\n",
    "|Total Bill|Tip Amount|\n",
    "|---|---|\n",
    "|Right skewed|Right skewed|\n",
    "|Mode around \\$15|Mean around 3|\n",
    "|Mean around \\$20|Possibly bimodal (?)|\n",
    "|No large bills|Large outliers (?)|"
   ]
  },
  {
   "cell_type": "markdown",
   "metadata": {
    "slideshow": {
     "slide_type": "slide"
    }
   },
   "source": [
    "<img src=\"imgs/image_9.png\">"
   ]
  },
  {
   "cell_type": "markdown",
   "metadata": {
    "slideshow": {
     "slide_type": "slide"
    }
   },
   "source": [
    "<img src=\"imgs/image_10.png\">"
   ]
  },
  {
   "cell_type": "markdown",
   "metadata": {
    "slideshow": {
     "slide_type": "slide"
    }
   },
   "source": [
    "<img src=\"imgs/image_11.png\">"
   ]
  },
  {
   "cell_type": "markdown",
   "metadata": {
    "slideshow": {
     "slide_type": "slide"
    }
   },
   "source": [
    "<img src=\"imgs/image_12.png\">"
   ]
  },
  {
   "cell_type": "markdown",
   "metadata": {
    "slideshow": {
     "slide_type": "slide"
    }
   },
   "source": [
    "# Features in Linear Models"
   ]
  },
  {
   "cell_type": "markdown",
   "metadata": {
    "slideshow": {
     "slide_type": "slide"
    }
   },
   "source": [
    "## Predicting child heights\n",
    "\n",
    "* Recall, Francis Galton's obsession with understanding inheritance.\n",
    "* He wanted to predict a child's *height* from their attributes of their parents.\n",
    "    - attributes: family id, father height, mother height, number of children, gender, child height."
   ]
  },
  {
   "cell_type": "code",
   "execution_count": null,
   "metadata": {},
   "outputs": [],
   "source": [
    "galton = pd.read_csv('data/galton.csv')\n",
    "galton.head()"
   ]
  },
  {
   "cell_type": "markdown",
   "metadata": {
    "slideshow": {
     "slide_type": "slide"
    }
   },
   "source": [
    "### Heights data: quick EDA\n",
    "* What could be done to improve this viz?\n",
    "* Is a linear model suitable for prediction? on which attributes?\n",
    "* There are multiple granularities (what?); is this a problem?"
   ]
  },
  {
   "cell_type": "code",
   "execution_count": null,
   "metadata": {},
   "outputs": [],
   "source": [
    "pd.plotting.scatter_matrix(galton, figsize=(12,8));"
   ]
  },
  {
   "cell_type": "markdown",
   "metadata": {
    "slideshow": {
     "slide_type": "slide"
    }
   },
   "source": [
    "### Attempt #1: Predict child's height using father's height\n",
    "\n",
    "1. Plot a scatterplot with a best-fit line and prediction interval"
   ]
  },
  {
   "cell_type": "code",
   "execution_count": null,
   "metadata": {},
   "outputs": [],
   "source": [
    "sns.lmplot(x='father', y='childHeight', data=galton);"
   ]
  },
  {
   "cell_type": "markdown",
   "metadata": {
    "slideshow": {
     "slide_type": "slide"
    }
   },
   "source": [
    "### Attempt #1: Predict child's height using father's height\n",
    "\n",
    "Let's do the prediction \"by hand\":\n",
    "\n",
    "* Recall, a prediction is a function $pred$ from the *features* (father height) to the *target* (child height).\n",
    "* The quality of our prediction on the dataset is the *root mean square error* (RMSE): $${\\rm RMSE} =  \\sqrt{\\sum_i(pred(x_i) - y_i)^2} $$ where $x_i$ are the father heights, $pred(x_i)$ are the predicted child heights, and $y_i$ are the *actual* child heights."
   ]
  },
  {
   "cell_type": "code",
   "execution_count": null,
   "metadata": {},
   "outputs": [],
   "source": [
    "from scipy.stats import linregress\n",
    "\n",
    "lm = linregress(galton.father, galton.childHeight)\n",
    "lm"
   ]
  },
  {
   "cell_type": "code",
   "execution_count": null,
   "metadata": {},
   "outputs": [],
   "source": [
    "pred_height = lambda x: lm.slope * x + lm.intercept"
   ]
  },
  {
   "cell_type": "code",
   "execution_count": null,
   "metadata": {},
   "outputs": [],
   "source": [
    "pred_height(60)"
   ]
  },
  {
   "cell_type": "code",
   "execution_count": null,
   "metadata": {},
   "outputs": [],
   "source": [
    "pred_height(galton.father).head()"
   ]
  },
  {
   "cell_type": "code",
   "execution_count": null,
   "metadata": {},
   "outputs": [],
   "source": [
    "rmse = np.sqrt(np.sum((pred_height(galton.father) - galton.childHeight)**2))\n",
    "rmse"
   ]
  },
  {
   "cell_type": "markdown",
   "metadata": {
    "slideshow": {
     "slide_type": "slide"
    }
   },
   "source": [
    "### Visualizing the predictions\n",
    "* How is our model good? bad?\n",
    "    - Is a linear model appropriate? good?\n",
    "    - How might we make it better?"
   ]
  },
  {
   "cell_type": "code",
   "execution_count": null,
   "metadata": {},
   "outputs": [],
   "source": [
    "# what is this code doing?\n",
    "eval_data = (\n",
    "    pd.concat(\n",
    "        [galton[['father', 'childHeight']], pred_height(galton.father).rename('prediction')], \n",
    "        axis=1\n",
    "    ).set_index('father')\n",
    "    .unstack()\n",
    "    .rename('height')\n",
    "    .reset_index()\n",
    "    .rename(columns={'level_0':'type'})\n",
    ")\n",
    "\n",
    "eval_data.sample(10)"
   ]
  },
  {
   "cell_type": "markdown",
   "metadata": {},
   "source": [
    "#### Questions\n",
    "* How is our model good? bad?\n",
    "* Is a linear model appropriate? good?\n",
    "    - How might we make it better?"
   ]
  },
  {
   "cell_type": "code",
   "execution_count": null,
   "metadata": {},
   "outputs": [],
   "source": [
    "sns.scatterplot(\n",
    "    data=eval_data,\n",
    "    x='father', y='height',\n",
    "    hue='type'\n",
    ");"
   ]
  },
  {
   "cell_type": "markdown",
   "metadata": {
    "slideshow": {
     "slide_type": "slide"
    }
   },
   "source": [
    "### Attempt #2: adding features\n",
    "\n",
    "* What if the father is very tall and the mother is short?\n",
    "* Will adding mother's height help our predictions?\n",
    "* Try: regression on two variables (mother/father height).\n",
    "    - \"plane of best fit\""
   ]
  },
  {
   "cell_type": "code",
   "execution_count": null,
   "metadata": {},
   "outputs": [],
   "source": [
    "# use sklearn\n",
    "from sklearn.linear_model import LinearRegression"
   ]
  },
  {
   "cell_type": "code",
   "execution_count": null,
   "metadata": {},
   "outputs": [],
   "source": [
    "# typical pattern; focus on this later!\n",
    "\n",
    "lr = LinearRegression() # initial linear regression\n",
    "\n",
    "lr.fit(galton[['mother', 'father']], galton.childHeight) # calculate the weights\n",
    "\n",
    "predictions = lr.predict(galton[['mother', 'father']]) # calculate predictions"
   ]
  },
  {
   "cell_type": "code",
   "execution_count": null,
   "metadata": {},
   "outputs": [],
   "source": [
    "# how good is the prediction?\n",
    "\n",
    "np.sqrt(np.sum(np.abs(predictions - galton.childHeight)**2))"
   ]
  },
  {
   "cell_type": "code",
   "execution_count": null,
   "metadata": {},
   "outputs": [],
   "source": [
    "util.plot3Dscatter(galton, 'mother', 'father', lr, galton['childHeight'])"
   ]
  },
  {
   "cell_type": "code",
   "execution_count": null,
   "metadata": {},
   "outputs": [],
   "source": [
    "# plot results by father height\n",
    "util.plot_eval_scatter(galton, pd.Series(predictions), galton['childHeight'], 'father')"
   ]
  },
  {
   "cell_type": "code",
   "execution_count": null,
   "metadata": {},
   "outputs": [],
   "source": [
    "# plot results by mother height\n",
    "util.plot_eval_scatter(galton, pd.Series(predictions), galton['childHeight'], 'mother')"
   ]
  },
  {
   "cell_type": "markdown",
   "metadata": {
    "slideshow": {
     "slide_type": "slide"
    }
   },
   "source": [
    "### Attempt #3: adding gender to the regression\n",
    "\n",
    "* Our previous predictions are constant for a given set of parents.\n",
    "* One would expect male/female children of the same parents to have different heights!\n",
    "* Is it reasonable to add this attribute? Is it known when the prediction is used?\n",
    "\n",
    "First plot a scatterplot of 'father height' vs 'child height' by group:"
   ]
  },
  {
   "cell_type": "code",
   "execution_count": null,
   "metadata": {},
   "outputs": [],
   "source": [
    "# The regression lines (predictions) are very different for male/female\n",
    "sns.lmplot(x='father', y='childHeight', data=galton, hue='gender');"
   ]
  },
  {
   "cell_type": "markdown",
   "metadata": {
    "slideshow": {
     "slide_type": "slide"
    }
   },
   "source": [
    "### Attempt #3: adding gender to the regression\n",
    "\n",
    "* Problem: gender is *categorical*, while regression requires *quantitative* inputs!\n",
    "    - The table contains two values in the column: male/female\n",
    "* Solution: create a binary column called `gender=male` that:\n",
    "    - is 1 when `gender` has value male, and\n",
    "    - is 0 otherwise\n",
    "    \n",
    "This is a simple example of *one-hot encoding*."
   ]
  },
  {
   "cell_type": "code",
   "execution_count": null,
   "metadata": {},
   "outputs": [],
   "source": [
    "galton['gender=male'] = (galton.gender == 'male').astype(int)\n",
    "galton.head()"
   ]
  },
  {
   "cell_type": "code",
   "execution_count": null,
   "metadata": {},
   "outputs": [],
   "source": [
    "lr_gender = LinearRegression()\n",
    "lr_gender.fit(galton[['father', 'mother', 'gender=male']], galton.childHeight)"
   ]
  },
  {
   "cell_type": "code",
   "execution_count": null,
   "metadata": {},
   "outputs": [],
   "source": [
    "predictions_gender = lr_gender.predict(galton[['father', 'mother', 'gender=male']])"
   ]
  },
  {
   "cell_type": "code",
   "execution_count": null,
   "metadata": {},
   "outputs": [],
   "source": [
    "np.sqrt(np.sum(np.abs(predictions_gender - galton.childHeight )**2))"
   ]
  },
  {
   "cell_type": "code",
   "execution_count": null,
   "metadata": {},
   "outputs": [],
   "source": [
    "# plot results by father height\n",
    "util.plot_eval_scatter(galton, pd.Series(predictions_gender), galton['childHeight'], 'father')"
   ]
  },
  {
   "cell_type": "markdown",
   "metadata": {
    "slideshow": {
     "slide_type": "slide"
    }
   },
   "source": [
    "### Visualizing regression with one-hot encoding\n",
    "\n",
    "* One-hot encoding \"pulls the two genders apart\" in the scatterplot, along a 3rd dimension."
   ]
  },
  {
   "cell_type": "code",
   "execution_count": null,
   "metadata": {},
   "outputs": [],
   "source": [
    "# The regression lines (predictions) are very different for male/female\n",
    "sns.lmplot(x='father', y='childHeight', data=galton, hue='gender');"
   ]
  },
  {
   "cell_type": "code",
   "execution_count": null,
   "metadata": {},
   "outputs": [],
   "source": [
    "lr_gender_2 = LinearRegression()\n",
    "lr_gender_2.fit(galton[['gender=male', 'father']], galton.childHeight)\n"
   ]
  },
  {
   "cell_type": "code",
   "execution_count": null,
   "metadata": {},
   "outputs": [],
   "source": [
    "util.plot3Dscatter(galton, 'gender=male', 'father', lr_gender_2, galton['childHeight'])"
   ]
  },
  {
   "cell_type": "code",
   "execution_count": null,
   "metadata": {},
   "outputs": [],
   "source": []
  }
 ],
 "metadata": {
  "celltoolbar": "Slideshow",
  "kernelspec": {
   "display_name": "Python 3",
   "language": "python",
   "name": "python3"
  },
  "language_info": {
   "codemirror_mode": {
    "name": "ipython",
    "version": 3
   },
   "file_extension": ".py",
   "mimetype": "text/x-python",
   "name": "python",
   "nbconvert_exporter": "python",
   "pygments_lexer": "ipython3",
   "version": "3.7.1"
  },
  "livereveal": {
   "scroll": true,
   "transition": "none"
  }
 },
 "nbformat": 4,
 "nbformat_minor": 2
}
