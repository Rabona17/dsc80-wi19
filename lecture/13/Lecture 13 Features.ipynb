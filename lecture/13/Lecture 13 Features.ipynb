{
 "cells": [
  {
   "cell_type": "code",
   "execution_count": null,
   "metadata": {},
   "outputs": [],
   "source": [
    "%matplotlib inline\n",
    "\n",
    "import numpy as np\n",
    "import pandas as pd\n",
    "import matplotlib.pyplot as plt\n",
    "import seaborn as sns\n",
    "\n",
    "import warnings\n",
    "warnings.filterwarnings(\"ignore\")\n",
    "\n",
    "import util\n",
    "\n",
    "# set defaults\n",
    "plt.style.use('seaborn-white')   # seaborn custom plot style\n",
    "plt.rc('figure', dpi=100, figsize=(7, 5))   # set default size/resolution\n",
    "plt.rc('font', size=12)   # font size"
   ]
  },
  {
   "cell_type": "markdown",
   "metadata": {
    "slideshow": {
     "slide_type": "slide"
    }
   },
   "source": [
    "# Feature Engineering\n"
   ]
  },
  {
   "cell_type": "markdown",
   "metadata": {
    "slideshow": {
     "slide_type": "slide"
    }
   },
   "source": [
    "## Outline\n",
    "* Overview: Modeling and Estimation\n",
    "* Designing Features for your Model\n",
    "* Different Features for different Data Types"
   ]
  },
  {
   "cell_type": "markdown",
   "metadata": {
    "slideshow": {
     "slide_type": "slide"
    }
   },
   "source": [
    "## What have we done so far?\n",
    "\n",
    "* Data assessment and collection:\n",
    "    * The data generating processes and its relationship to observed data.\n",
    "    * Data collection techniques (web-scraping, apis)\n",
    "* Data cleaning and manipulation\n",
    "    * Pandas and Regex\n",
    "* Learned ways of understanding and summarizing data\n",
    "    * Smoothing techniques, visualization, TF-IDF"
   ]
  },
  {
   "cell_type": "markdown",
   "metadata": {
    "slideshow": {
     "slide_type": "slide"
    }
   },
   "source": [
    "## Features\n",
    "\n",
    "* A **feature** is a measurable property or characteristic of a phenomenon being observed.\n",
    "* Synonyms: (explanatory) variable, attribute\n",
    "* Examples include:\n",
    "    - a column of a dataset.\n",
    "    - a derived value from a dataset, perhaps using additional information.\n",
    "    \n",
    "We have been creating features to summarize data!"
   ]
  },
  {
   "cell_type": "markdown",
   "metadata": {
    "slideshow": {
     "slide_type": "slide"
    }
   },
   "source": [
    "### Examples of features in SD salary dataset\n",
    "\n",
    "* Salary of employee\n",
    "* Employee salaries, standardized by job status (PT/FT)\n",
    "* Gender/age of employees (derived from SSA names; accurate?)\n",
    "* Job Family associated to a job title (uses text-techniques)"
   ]
  },
  {
   "cell_type": "markdown",
   "metadata": {
    "slideshow": {
     "slide_type": "slide"
    }
   },
   "source": [
    "## What makes a good feature?\n",
    "\n",
    "* Fidelity to Data Generating Process (Consistency).\n",
    "* Strongly associated to phenomenon of interest (\"contains information\").\n",
    "* Easily used in standard modeling techniques (e.g. quantitative and scaled).\n",
    "\n",
    "Datasets often come with weak attributes; features may need to be \"engineered\" to convey information."
   ]
  },
  {
   "cell_type": "markdown",
   "metadata": {
    "slideshow": {
     "slide_type": "slide"
    }
   },
   "source": [
    "## Feature Engineering\n",
    "\n",
    "* We already engineered features to summarize and understand data.\n",
    "    - smoothing, transformations, ad hoc derived properties of data\n",
    "\n",
    "* What can we do with it?\n",
    "    - Visualization and summarization\n",
    "    - Modeling (prediction; inference)"
   ]
  },
  {
   "cell_type": "markdown",
   "metadata": {
    "slideshow": {
     "slide_type": "slide"
    }
   },
   "source": [
    "# Modeling: an Overview\n",
    "\n",
    "Slides: DS100 (Joseph E. Gonzalez)"
   ]
  },
  {
   "cell_type": "markdown",
   "metadata": {
    "slideshow": {
     "slide_type": "slide"
    }
   },
   "source": [
    "<img src=\"imgs/image_6.png\">"
   ]
  },
  {
   "cell_type": "markdown",
   "metadata": {
    "slideshow": {
     "slide_type": "slide"
    }
   },
   "source": [
    "<img src=\"imgs/image_7.png\">"
   ]
  },
  {
   "cell_type": "markdown",
   "metadata": {
    "slideshow": {
     "slide_type": "slide"
    }
   },
   "source": [
    "<img src=\"imgs/image_8.png\">"
   ]
  },
  {
   "cell_type": "markdown",
   "metadata": {
    "slideshow": {
     "slide_type": "slide"
    }
   },
   "source": [
    "### Example: Restaurant Tips\n",
    "\n",
    "* Data: collected by a single waiter over a month\n",
    "* Why build a model?\n",
    "    - Predict which tables will tip the highest? (Optimize your service)\n",
    "    - Predict a watier's income for the year.\n",
    "    - Understand relationship between tables and tips."
   ]
  },
  {
   "cell_type": "code",
   "execution_count": null,
   "metadata": {},
   "outputs": [],
   "source": [
    "tips = sns.load_dataset('tips')\n",
    "print('number of records: ', len(tips))"
   ]
  },
  {
   "cell_type": "code",
   "execution_count": null,
   "metadata": {},
   "outputs": [],
   "source": [
    "tips.head()"
   ]
  },
  {
   "cell_type": "markdown",
   "metadata": {
    "slideshow": {
     "slide_type": "slide"
    }
   },
   "source": [
    "### Restaurant tips: EDA"
   ]
  },
  {
   "cell_type": "code",
   "execution_count": null,
   "metadata": {},
   "outputs": [],
   "source": [
    "fig, axes = plt.subplots(1,2, figsize=(12,5))\n",
    "\n",
    "sns.distplot(tips.total_bill, rug=True, ax=axes[0])\n",
    "axes[0].set_xlabel('total bill')\n",
    "\n",
    "sns.distplot(tips.tip, rug=True, ax=axes[1])\n",
    "axes[1].set_xlabel('tip in dollars')\n",
    "\n",
    "fig.suptitle('Understanding tips');"
   ]
  },
  {
   "cell_type": "markdown",
   "metadata": {},
   "source": [
    "#### Observations:\n",
    "|Total Bill|Tip Amount|\n",
    "|---|---|\n",
    "|Right skewed|Right skewed|\n",
    "|Mode around \\$15|Mean around 3|\n",
    "|Mean around \\$20|Possibly bimodal (?)|\n",
    "|No large bills|Large outliers (?)|"
   ]
  },
  {
   "cell_type": "markdown",
   "metadata": {
    "slideshow": {
     "slide_type": "slide"
    }
   },
   "source": [
    "<img src=\"imgs/image_9.png\">"
   ]
  },
  {
   "cell_type": "markdown",
   "metadata": {
    "slideshow": {
     "slide_type": "slide"
    }
   },
   "source": [
    "<img src=\"imgs/image_10.png\">"
   ]
  },
  {
   "cell_type": "markdown",
   "metadata": {
    "slideshow": {
     "slide_type": "slide"
    }
   },
   "source": [
    "<img src=\"imgs/image_11.png\">"
   ]
  },
  {
   "cell_type": "markdown",
   "metadata": {
    "slideshow": {
     "slide_type": "slide"
    }
   },
   "source": [
    "<img src=\"imgs/image_12.png\">"
   ]
  },
  {
   "cell_type": "markdown",
   "metadata": {
    "slideshow": {
     "slide_type": "slide"
    }
   },
   "source": [
    "# Features in Linear Models"
   ]
  },
  {
   "cell_type": "markdown",
   "metadata": {
    "slideshow": {
     "slide_type": "slide"
    }
   },
   "source": [
    "## Predicting child heights\n",
    "\n",
    "* Recall, Francis Galton's obsession with understanding inheritance.\n",
    "* He wanted to predict a child's *height* from their attributes of their parents.\n",
    "    - attributes: family id, father height, mother height, number of children, gender, child height."
   ]
  },
  {
   "cell_type": "code",
   "execution_count": null,
   "metadata": {},
   "outputs": [],
   "source": [
    "galton = pd.read_csv('data/galton.csv')\n",
    "galton.head()"
   ]
  },
  {
   "cell_type": "markdown",
   "metadata": {
    "slideshow": {
     "slide_type": "slide"
    }
   },
   "source": [
    "### Heights data: quick EDA\n",
    "* What could be done to improve this viz?\n",
    "* Is a linear model suitable for prediction? on which attributes?\n",
    "* There are multiple granularities (what?); is this a problem?"
   ]
  },
  {
   "cell_type": "code",
   "execution_count": null,
   "metadata": {},
   "outputs": [],
   "source": [
    "pd.plotting.scatter_matrix(galton, figsize=(12,8));"
   ]
  },
  {
   "cell_type": "markdown",
   "metadata": {
    "slideshow": {
     "slide_type": "slide"
    }
   },
   "source": [
    "### Attempt #1: Predict child's height using father's height\n",
    "\n",
    "1. Plot a scatterplot with a best-fit line and prediction interval"
   ]
  },
  {
   "cell_type": "code",
   "execution_count": null,
   "metadata": {},
   "outputs": [],
   "source": [
    "sns.lmplot(x='father', y='childHeight', data=galton);"
   ]
  },
  {
   "cell_type": "markdown",
   "metadata": {
    "slideshow": {
     "slide_type": "slide"
    }
   },
   "source": [
    "### Attempt #1: Predict child's height using father's height\n",
    "\n",
    "Let's do the prediction \"by hand\":\n",
    "\n",
    "* Recall, a prediction is a function $pred$ from the *features* (father height) to the *target* (child height).\n",
    "* The quality of our prediction on the dataset is the *root mean square error* (RMSE): $${\\rm RMSE} =  \\sqrt{\\sum_i(pred(x_i) - y_i)^2} $$ where $x_i$ are the father heights, $pred(x_i)$ are the predicted child heights, and $y_i$ are the *actual* child heights."
   ]
  },
  {
   "cell_type": "code",
   "execution_count": null,
   "metadata": {},
   "outputs": [],
   "source": [
    "from scipy.stats import linregress\n",
    "\n",
    "lm = linregress(galton.father, galton.childHeight)\n",
    "lm"
   ]
  },
  {
   "cell_type": "code",
   "execution_count": null,
   "metadata": {},
   "outputs": [],
   "source": [
    "pred_height = lambda x: lm.slope * x + lm.intercept"
   ]
  },
  {
   "cell_type": "code",
   "execution_count": null,
   "metadata": {},
   "outputs": [],
   "source": [
    "pred_height(60)"
   ]
  },
  {
   "cell_type": "code",
   "execution_count": null,
   "metadata": {},
   "outputs": [],
   "source": [
    "pred_height(galton.father).head()"
   ]
  },
  {
   "cell_type": "code",
   "execution_count": null,
   "metadata": {},
   "outputs": [],
   "source": [
    "rmse = np.sqrt(np.sum((pred_height(galton.father) - galton.childHeight)**2))\n",
    "rmse"
   ]
  },
  {
   "cell_type": "markdown",
   "metadata": {
    "slideshow": {
     "slide_type": "slide"
    }
   },
   "source": [
    "### Visualizing the predictions\n",
    "* How is our model good? bad?\n",
    "    - Is a linear model appropriate? good?\n",
    "    - How might we make it better?"
   ]
  },
  {
   "cell_type": "code",
   "execution_count": null,
   "metadata": {},
   "outputs": [],
   "source": [
    "# what is this code doing?\n",
    "eval_data = (\n",
    "    pd.concat(\n",
    "        [galton[['father', 'childHeight']], pred_height(galton.father).rename('prediction')], \n",
    "        axis=1\n",
    "    ).set_index('father')\n",
    "    .unstack()\n",
    "    .rename('height')\n",
    "    .reset_index()\n",
    "    .rename(columns={'level_0':'type'})\n",
    ")\n",
    "\n",
    "eval_data.sample(10)"
   ]
  },
  {
   "cell_type": "markdown",
   "metadata": {},
   "source": [
    "#### Questions\n",
    "* How is our model good? bad?\n",
    "* Is a linear model appropriate? good?\n",
    "    - How might we make it better?"
   ]
  },
  {
   "cell_type": "code",
   "execution_count": null,
   "metadata": {},
   "outputs": [],
   "source": [
    "sns.scatterplot(\n",
    "    data=eval_data,\n",
    "    x='father', y='height',\n",
    "    hue='type'\n",
    ");"
   ]
  },
  {
   "cell_type": "markdown",
   "metadata": {
    "slideshow": {
     "slide_type": "slide"
    }
   },
   "source": [
    "### Attempt #2: adding features\n",
    "\n",
    "* What if the father is very tall and the mother is short?\n",
    "* Will adding mother's height help our predictions?\n",
    "* Try: regression on two variables (mother/father height).\n",
    "    - \"plane of best fit\""
   ]
  },
  {
   "cell_type": "code",
   "execution_count": null,
   "metadata": {},
   "outputs": [],
   "source": [
    "# use sklearn\n",
    "from sklearn.linear_model import LinearRegression"
   ]
  },
  {
   "cell_type": "code",
   "execution_count": null,
   "metadata": {},
   "outputs": [],
   "source": [
    "# typical pattern; focus on this later!\n",
    "\n",
    "lr = LinearRegression() # initial linear regression\n",
    "\n",
    "lr.fit(galton[['mother', 'father']], galton.childHeight) # calculate the weights\n",
    "\n",
    "predictions = lr.predict(galton[['mother', 'father']]) # calculate predictions"
   ]
  },
  {
   "cell_type": "code",
   "execution_count": null,
   "metadata": {},
   "outputs": [],
   "source": [
    "# how good is the prediction?\n",
    "\n",
    "np.sqrt(np.sum(np.abs(predictions - galton.childHeight)**2))"
   ]
  },
  {
   "cell_type": "code",
   "execution_count": null,
   "metadata": {},
   "outputs": [],
   "source": [
    "util.plot3Dscatter(galton, 'mother', 'father', lr, galton['childHeight'])"
   ]
  },
  {
   "cell_type": "code",
   "execution_count": null,
   "metadata": {},
   "outputs": [],
   "source": [
    "# plot results by father height\n",
    "util.plot_eval_scatter(galton, pd.Series(predictions), galton['childHeight'], 'father')"
   ]
  },
  {
   "cell_type": "code",
   "execution_count": null,
   "metadata": {},
   "outputs": [],
   "source": [
    "# plot results by mother height\n",
    "util.plot_eval_scatter(galton, pd.Series(predictions), galton['childHeight'], 'mother')"
   ]
  },
  {
   "cell_type": "markdown",
   "metadata": {
    "slideshow": {
     "slide_type": "slide"
    }
   },
   "source": [
    "### Attempt #3: adding gender to the regression\n",
    "\n",
    "* Our previous predictions are constant for a given set of parents.\n",
    "* One would expect male/female children of the same parents to have different heights!\n",
    "* Is it reasonable to add this attribute? Is it known when the prediction is used?\n",
    "\n",
    "First plot a scatterplot of 'father height' vs 'child height' by group:"
   ]
  },
  {
   "cell_type": "code",
   "execution_count": null,
   "metadata": {},
   "outputs": [],
   "source": [
    "# The regression lines (predictions) are very different for male/female\n",
    "sns.lmplot(x='father', y='childHeight', data=galton, hue='gender');"
   ]
  },
  {
   "cell_type": "markdown",
   "metadata": {
    "slideshow": {
     "slide_type": "slide"
    }
   },
   "source": [
    "### Attempt #3: adding gender to the regression\n",
    "\n",
    "* Problem: gender is *categorical*, while regression requires *quantitative* inputs!\n",
    "    - The table contains two values in the column: male/female\n",
    "* Solution: create a binary column called `gender=male` that:\n",
    "    - is 1 when `gender` has value male, and\n",
    "    - is 0 otherwise\n",
    "    \n",
    "This is a simple example of *one-hot encoding*."
   ]
  },
  {
   "cell_type": "code",
   "execution_count": null,
   "metadata": {},
   "outputs": [],
   "source": [
    "galton['gender=male'] = (galton.gender == 'male').astype(int)\n",
    "galton.head()"
   ]
  },
  {
   "cell_type": "code",
   "execution_count": null,
   "metadata": {},
   "outputs": [],
   "source": [
    "lr_gender = LinearRegression()\n",
    "lr_gender.fit(galton[['father', 'mother', 'gender=male']], galton.childHeight)"
   ]
  },
  {
   "cell_type": "code",
   "execution_count": null,
   "metadata": {},
   "outputs": [],
   "source": [
    "predictions_gender = lr_gender.predict(galton[['father', 'mother', 'gender=male']])"
   ]
  },
  {
   "cell_type": "code",
   "execution_count": null,
   "metadata": {},
   "outputs": [],
   "source": [
    "np.sqrt(np.sum(np.abs(predictions_gender - galton.childHeight )**2))"
   ]
  },
  {
   "cell_type": "code",
   "execution_count": null,
   "metadata": {},
   "outputs": [],
   "source": [
    "# plot results by father height\n",
    "util.plot_eval_scatter(galton, pd.Series(predictions_gender), galton['childHeight'], 'father')"
   ]
  },
  {
   "cell_type": "markdown",
   "metadata": {
    "slideshow": {
     "slide_type": "slide"
    }
   },
   "source": [
    "### Visualizing regression with one-hot encoding\n",
    "\n",
    "* One-hot encoding \"pulls the two genders apart\" in the scatterplot, along a 3rd dimension."
   ]
  },
  {
   "cell_type": "code",
   "execution_count": null,
   "metadata": {},
   "outputs": [],
   "source": [
    "# The regression lines (predictions) are very different for male/female\n",
    "sns.lmplot(x='father', y='childHeight', data=galton, hue='gender');"
   ]
  },
  {
   "cell_type": "code",
   "execution_count": null,
   "metadata": {},
   "outputs": [],
   "source": [
    "lr_gender_2 = LinearRegression()\n",
    "lr_gender_2.fit(galton[['gender=male', 'father']], galton.childHeight)\n"
   ]
  },
  {
   "cell_type": "code",
   "execution_count": null,
   "metadata": {},
   "outputs": [],
   "source": [
    "util.plot3Dscatter(galton, 'gender=male', 'father', lr_gender_2, galton['childHeight'])"
   ]
  },
  {
   "cell_type": "markdown",
   "metadata": {
    "slideshow": {
     "slide_type": "slide"
    }
   },
   "source": [
    "## Feature Engineering"
   ]
  },
  {
   "cell_type": "markdown",
   "metadata": {
    "slideshow": {
     "slide_type": "slide"
    }
   },
   "source": [
    "### Modeling setup\n",
    "\n",
    "Want to estimate a relationship between X and Y.\n",
    "* X is the observed data (almost anything!)\n",
    "* Y is a quantitative value (e.g. a correlation coefficient; a predicted value)\n",
    "\n",
    "<img src=\"imgs/image_0.png\">"
   ]
  },
  {
   "cell_type": "markdown",
   "metadata": {
    "slideshow": {
     "slide_type": "slide"
    }
   },
   "source": [
    "### The missing step: data to models\n",
    "\n",
    "* Modeling techniques typically require *quantitative* input.\n",
    "* Models require (strong) relationships between X and Y.\n",
    "\n",
    "<img src=\"imgs/image_1.png\">\n",
    "\n",
    "There is work to be done transforming data into effective features!"
   ]
  },
  {
   "cell_type": "markdown",
   "metadata": {
    "slideshow": {
     "slide_type": "slide"
    }
   },
   "source": [
    "## The goal of feature engineering\n",
    "\n",
    "* Find transformations that effectively transform data into effective quantitative variables\n",
    "\n",
    "* Find functions $\\phi:X\\to\\mathbb{R}^d$ where similar points $x,y\\in X$ have close images $\\phi(x), \\phi(y)\\in \\mathbb{R}^d$\n",
    "\n",
    "* A \"good\" choice of features depends on many factors:\n",
    "    - data type (quantitative, ordinal, nominal),\n",
    "    - the relationship(s) and association(s) being modeled,\n",
    "    - the model type (e.g. linear models, decision tree models, neural networks)."
   ]
  },
  {
   "cell_type": "markdown",
   "metadata": {
    "slideshow": {
     "slide_type": "slide"
    }
   },
   "source": [
    "<img src=\"imgs/image_2.png\">"
   ]
  },
  {
   "cell_type": "markdown",
   "metadata": {
    "slideshow": {
     "slide_type": "slide"
    }
   },
   "source": [
    "<img src=\"imgs/image_3.png\">"
   ]
  },
  {
   "cell_type": "markdown",
   "metadata": {
    "slideshow": {
     "slide_type": "slide"
    }
   },
   "source": [
    "## Uninformative feature: `uid`\n",
    "\n",
    "The `uid` was likely used to join the user information (e.g., `age`, and `state`) with some `Reviews` table.  The `uid` presents several questions:\n",
    "* What is the meaning of the `uid` *number*? \n",
    "* Does the magnitude of the `uid` reveal information about the rating?\n",
    "* Does adding `uid` improve our model?"
   ]
  },
  {
   "cell_type": "markdown",
   "metadata": {
    "slideshow": {
     "slide_type": "slide"
    }
   },
   "source": [
    "## Dropping Features\n",
    "\n",
    "While uncommon there are certain scenarios where manually dropping features might be helpful:\n",
    "\n",
    "1. when the features **does not to contain information** associated with the prediction task.  \n",
    "    - Reduces over-fitting, an issue we will discuss in great detail soon.  \n",
    "\n",
    "2. when the feature is **not available at prediction time.**  For example, the feature might contain information collected after the user entered a rating.  This is a common scenario in time-series analysis.\n"
   ]
  },
  {
   "cell_type": "markdown",
   "metadata": {
    "slideshow": {
     "slide_type": "slide"
    }
   },
   "source": [
    "## Nominal feature encoding: One hot encoding\n",
    "\n",
    "* Transform categorical features into many binary features.\n",
    "* Given a column `col` with values `A1,A2,...A_N`, define the following quantitative binary columns:\n",
    "\n",
    "$$\\phi_i(x) = \\left\\{\\begin{array}{ll}1 & {\\rm if\\ } x = A1 \\\\ 0 &  {\\rm if\\ } x\\neq A1 \\\\ \\end{array}\\right. $$\n",
    "\n",
    "* *Also called:* dummy encoding; indicator variables."
   ]
  },
  {
   "cell_type": "markdown",
   "metadata": {
    "slideshow": {
     "slide_type": "slide"
    }
   },
   "source": [
    "### Example: one hot encoding States\n",
    "\n",
    "* A column containing US states transforms into 50 feature columns\n",
    "* e.g. `phi_CA(x) = 1 if x == 'CA' else 0`\n",
    "* Oftentimes, many of these columns will be *largely* 0.\n",
    "\n",
    "<img src=\"imgs/image_4.png\">"
   ]
  },
  {
   "cell_type": "markdown",
   "metadata": {
    "slideshow": {
     "slide_type": "slide"
    }
   },
   "source": [
    "### One hot encoding and circuits\n",
    "<img src=\"imgs/image_5.png\">"
   ]
  },
  {
   "cell_type": "markdown",
   "metadata": {
    "slideshow": {
     "slide_type": "slide"
    }
   },
   "source": [
    "### Example: Restaurant tips\n",
    "\n",
    "* We want to predict `tip` from the attributes using linear regression\n",
    "    - Previously: predicted `tip` from `total_bill`\n",
    "* Which columns are nominal?\n",
    "    - How might you transform them to features for a regression model?\n",
    "    - What is the domain of your feature transformation functions?"
   ]
  },
  {
   "cell_type": "code",
   "execution_count": null,
   "metadata": {},
   "outputs": [],
   "source": [
    "tips.head()"
   ]
  },
  {
   "cell_type": "markdown",
   "metadata": {
    "slideshow": {
     "slide_type": "slide"
    }
   },
   "source": [
    "## Baseline models\n",
    "1. Tips are predicted to be a fixed percentage of the total bill (average percentage)\n",
    "2. The line of best fit of `tip` vs `total_bill`."
   ]
  },
  {
   "cell_type": "code",
   "execution_count": null,
   "metadata": {},
   "outputs": [],
   "source": [
    "tip_pct = (tips.tip/tips.total_bill).mean()\n",
    "tip_pct"
   ]
  },
  {
   "cell_type": "code",
   "execution_count": null,
   "metadata": {},
   "outputs": [],
   "source": [
    "preds = tips.total_bill * tip_pct\n",
    "\n",
    "a = pd.concat([tips.total_bill, preds.rename('prediction'), tips.tip], axis=1)\n",
    "ax = plt.subplot()\n",
    "a.plot(kind='line', x='total_bill', y='prediction', ax=ax, c='b')\n",
    "a.plot(kind='scatter', x='total_bill', y='tip', ax=ax, c='r', alpha=0.5);"
   ]
  },
  {
   "cell_type": "code",
   "execution_count": null,
   "metadata": {},
   "outputs": [],
   "source": [
    "# RMSE error\n",
    "np.sqrt(np.sum((preds - tips.tip)**2))"
   ]
  },
  {
   "cell_type": "code",
   "execution_count": null,
   "metadata": {},
   "outputs": [],
   "source": [
    "sns.lmplot(data=tips, x='total_bill', y='tip')"
   ]
  },
  {
   "cell_type": "code",
   "execution_count": null,
   "metadata": {},
   "outputs": [],
   "source": [
    "lr = LinearRegression()\n",
    "lr.fit(tips[['total_bill']], tips.tip)"
   ]
  },
  {
   "cell_type": "code",
   "execution_count": null,
   "metadata": {},
   "outputs": [],
   "source": [
    "# RMSE of regression model (is it better?)\n",
    "np.sqrt(np.sum((lr.predict(tips[['total_bill']]) - tips.tip)**2))"
   ]
  },
  {
   "cell_type": "code",
   "execution_count": null,
   "metadata": {},
   "outputs": [],
   "source": [
    "# R^2 coefficient\n",
    "lr.score(tips[['total_bill']], tips.tip)"
   ]
  },
  {
   "cell_type": "markdown",
   "metadata": {
    "slideshow": {
     "slide_type": "slide"
    }
   },
   "source": [
    "### One hot encoding categorical variables\n",
    "* Are all of these variable nominal?\n",
    "* Do we have redundant variables we can drop?"
   ]
  },
  {
   "cell_type": "code",
   "execution_count": null,
   "metadata": {},
   "outputs": [],
   "source": [
    "categorical_cols = ['sex', 'smoker', 'day', 'time']"
   ]
  },
  {
   "cell_type": "code",
   "execution_count": null,
   "metadata": {},
   "outputs": [],
   "source": [
    "features = tips.copy().loc[:,['total_bill', 'size']]\n",
    "for c in categorical_cols:\n",
    "    for val in tips[c].unique():\n",
    "        features['%s=%s' %(c, val)] = (tips[c] == val).astype(int)"
   ]
  },
  {
   "cell_type": "code",
   "execution_count": null,
   "metadata": {},
   "outputs": [],
   "source": [
    "features.head()"
   ]
  },
  {
   "cell_type": "code",
   "execution_count": null,
   "metadata": {},
   "outputs": [],
   "source": [
    "lr = LinearRegression()\n",
    "lr.fit(features, tips.tip)"
   ]
  },
  {
   "cell_type": "code",
   "execution_count": null,
   "metadata": {},
   "outputs": [],
   "source": [
    "lr.score(features, tips.tip)"
   ]
  },
  {
   "cell_type": "code",
   "execution_count": null,
   "metadata": {},
   "outputs": [],
   "source": [
    "# Error is a few cents less than previous\n",
    "np.sqrt(np.sum((lr.predict(features) - tips.tip)**2))"
   ]
  },
  {
   "cell_type": "code",
   "execution_count": null,
   "metadata": {},
   "outputs": [],
   "source": [
    "preds = lr.predict(features)\n",
    "a = pd.concat([tips.total_bill, pd.Series(preds).rename('prediction'), tips.tip], axis=1)\n",
    "ax = plt.subplot()\n",
    "a.plot(kind='scatter', x='total_bill', y='prediction', ax=ax, c='b')\n",
    "a.plot(kind='scatter', x='total_bill', y='tip', ax=ax, c='r', alpha=0.5);"
   ]
  },
  {
   "cell_type": "markdown",
   "metadata": {
    "slideshow": {
     "slide_type": "slide"
    }
   },
   "source": [
    "## One hot encoding in Scikit Learn\n",
    "\n",
    "* One-hot encoding is done using `sklearn.feature_extraction.DictVectorizer`\n",
    "    - Takes in dictionary rows as input\n",
    "* One-hot encoding is also possible with `sklearn.preprocessing.OneHotEncoder`\n",
    "    - Expects categorical integers as input\n",
    "    - Must pre-compose with `sklearn.preprocessing.OrdinalEncoder`"
   ]
  },
  {
   "cell_type": "code",
   "execution_count": null,
   "metadata": {},
   "outputs": [],
   "source": [
    "from sklearn.feature_extraction import DictVectorizer"
   ]
  },
  {
   "cell_type": "code",
   "execution_count": null,
   "metadata": {},
   "outputs": [],
   "source": [
    "d = tips[categorical_cols].to_dict(orient='records')\n",
    "d[:10]"
   ]
  },
  {
   "cell_type": "code",
   "execution_count": null,
   "metadata": {},
   "outputs": [],
   "source": [
    "vec_enc = DictVectorizer()\n",
    "vec_enc.fit(d)"
   ]
  },
  {
   "cell_type": "code",
   "execution_count": null,
   "metadata": {},
   "outputs": [],
   "source": [
    "vec_enc.transform(d).toarray()"
   ]
  },
  {
   "cell_type": "code",
   "execution_count": null,
   "metadata": {},
   "outputs": [],
   "source": [
    "vec_enc.get_feature_names()"
   ]
  },
  {
   "cell_type": "code",
   "execution_count": null,
   "metadata": {},
   "outputs": [],
   "source": [
    "pd.DataFrame(vec_enc.transform(d).toarray(), columns=vec_enc.get_feature_names()).head()"
   ]
  },
  {
   "cell_type": "markdown",
   "metadata": {
    "slideshow": {
     "slide_type": "slide"
    }
   },
   "source": [
    "## Integer encoding for ordinal columns\n",
    "\n",
    "* If a categorical column has an order, then its values can be mapped to the integers\n",
    "* The mapped values should have the same order as the number line\n",
    "    - Be sure to specifically call out the mapping to maintain order!"
   ]
  },
  {
   "cell_type": "code",
   "execution_count": null,
   "metadata": {},
   "outputs": [],
   "source": [
    "# is day ordinal?\n",
    "features['day'] = tips.day.replace(dict(zip(['Thur', 'Fri', 'Sat', 'Sun'], range(4))))"
   ]
  },
  {
   "cell_type": "code",
   "execution_count": null,
   "metadata": {},
   "outputs": [],
   "source": [
    "features.head()"
   ]
  },
  {
   "cell_type": "code",
   "execution_count": null,
   "metadata": {},
   "outputs": [],
   "source": [
    "# How much improvement?\n",
    "lr = LinearRegression()\n",
    "lr.fit(features, tips.tip)\n",
    "lr.score(features, tips.tip)"
   ]
  },
  {
   "cell_type": "code",
   "execution_count": null,
   "metadata": {},
   "outputs": [],
   "source": [
    "from sklearn.preprocessing import OrdinalEncoder"
   ]
  },
  {
   "cell_type": "code",
   "execution_count": null,
   "metadata": {},
   "outputs": [],
   "source": [
    "oe = OrdinalEncoder(categories=[['Thur', 'Fri', 'Sat', 'Sun']])\n",
    "oe.fit(tips[['day']])"
   ]
  },
  {
   "cell_type": "markdown",
   "metadata": {
    "slideshow": {
     "slide_type": "slide"
    }
   },
   "source": [
    "### Transformations of quantitative features\n",
    "* Transforming quantitative features can enhance 'hidden trends' in data.\n",
    "* Examples:\n",
    "    - Growth rates scaled to linear trends (e.g. log, sqrt)\n",
    "    - Periodic trends separated from growth (e.g. sin)\n",
    "    - Group-wise scaling\n",
    "    - Interactions between variables (e.g. polynomial encoding)"
   ]
  },
  {
   "cell_type": "markdown",
   "metadata": {},
   "source": [
    "### Example: de-trending periodic sales\n",
    "\n",
    "* Daily sales volume from an e-commerce product\n",
    "* Like to predict future sales, based on current trends:\n",
    "    - What seasonality (periodicity) is present?\n",
    "    - What is long-run growth? (linear? quadratic? exponential?)\n",
    "    - Can you guess a feature that models these properties?\n"
   ]
  },
  {
   "cell_type": "code",
   "execution_count": null,
   "metadata": {},
   "outputs": [],
   "source": [
    "df = pd.read_csv('data/sinusoidal.csv').sort_values(by='day').reset_index(drop=True)"
   ]
  },
  {
   "cell_type": "code",
   "execution_count": null,
   "metadata": {},
   "outputs": [],
   "source": [
    "df.plot(kind='scatter', x='day', y='units sold', title='daily sales volume');"
   ]
  },
  {
   "cell_type": "markdown",
   "metadata": {
    "slideshow": {
     "slide_type": "slide"
    }
   },
   "source": [
    "### Example: de-trending periodic sales\n",
    "\n",
    "* Periodic sales by week (7-day period).\n",
    "* Sales have ~10x difference between low and high (amplitude).\n",
    "* Sales is approximately 'linear growth + periodic term'\n",
    "* Feature:\n",
    "$$ \\phi(x) = x + 5\\sin\\left(\\frac{2\\pi\\cdot x}{7}\\right) $$"
   ]
  },
  {
   "cell_type": "code",
   "execution_count": null,
   "metadata": {},
   "outputs": [],
   "source": [
    "def detrend(day):\n",
    "    '''\n",
    "    Periodic sales volume by the week.\n",
    "    Sales sees ~10x weekly difference between low and high.\n",
    "    '''\n",
    "    return day + 5 * np.sin(2 * np.pi * day / 7)"
   ]
  },
  {
   "cell_type": "code",
   "execution_count": null,
   "metadata": {},
   "outputs": [],
   "source": [
    "df['detrend'] = detrend(df['day'])"
   ]
  },
  {
   "cell_type": "code",
   "execution_count": null,
   "metadata": {},
   "outputs": [],
   "source": [
    "df.set_index('day').sort_index().plot()"
   ]
  },
  {
   "cell_type": "code",
   "execution_count": null,
   "metadata": {},
   "outputs": [],
   "source": [
    "# feature space vs target space\n",
    "# linear relationship!\n",
    "df[['units sold', 'detrend']].plot(kind='scatter', x='detrend', y='units sold');"
   ]
  },
  {
   "cell_type": "code",
   "execution_count": null,
   "metadata": {},
   "outputs": [],
   "source": [
    "sns.lmplot(data=df, x='day', y='units sold')\n",
    "sns.residplot(data=df, x='day', y='units sold', color='r')"
   ]
  },
  {
   "cell_type": "code",
   "execution_count": null,
   "metadata": {},
   "outputs": [],
   "source": [
    "sns.lmplot(data=df, x='detrend', y='units sold')\n",
    "sns.residplot(data=df, x='detrend', y='units sold', color='r')"
   ]
  },
  {
   "cell_type": "code",
   "execution_count": null,
   "metadata": {},
   "outputs": [],
   "source": []
  }
 ],
 "metadata": {
  "celltoolbar": "Slideshow",
  "kernelspec": {
   "display_name": "Python 3",
   "language": "python",
   "name": "python3"
  },
  "language_info": {
   "codemirror_mode": {
    "name": "ipython",
    "version": 3
   },
   "file_extension": ".py",
   "mimetype": "text/x-python",
   "name": "python",
   "nbconvert_exporter": "python",
   "pygments_lexer": "ipython3",
   "version": "3.7.1"
  },
  "livereveal": {
   "scroll": true,
   "transition": "none"
  }
 },
 "nbformat": 4,
 "nbformat_minor": 2
}
